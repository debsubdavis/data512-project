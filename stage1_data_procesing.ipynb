{
 "cells": [
  {
   "cell_type": "code",
   "execution_count": 37,
   "metadata": {},
   "outputs": [],
   "source": [
    "import json\n",
    "import geojson\n",
    "import pandas as pd"
   ]
  },
  {
   "cell_type": "code",
   "execution_count": 38,
   "metadata": {},
   "outputs": [],
   "source": [
    "with open('intermediate_file_paths.json') as output_path_file:\n",
    "    output_paths = json.load(output_path_file)\n",
    "\n",
    "\n",
    "FIRE_INPUT_PATH = output_paths.get('stage0_fire_json')\n",
    "#FIRE_INPUT_PATH = output_paths.get('POC_stage0_fire_json')"
   ]
  },
  {
   "cell_type": "code",
   "execution_count": 39,
   "metadata": {},
   "outputs": [],
   "source": [
    "SMOKE_IMPACT_OUTPUT_PATH = output_paths.get('stage1_smoke_impact_json')\n",
    "#SMOKE_IMPACT_OUTPUT_PATH = output_paths.get('POC_stage1_smoke_impact_json')\n"
   ]
  },
  {
   "cell_type": "code",
   "execution_count": 40,
   "metadata": {},
   "outputs": [],
   "source": [
    "with open(FIRE_INPUT_PATH) as fire_file:\n",
    "    fire_data = json.load(fire_file)"
   ]
  },
  {
   "cell_type": "code",
   "execution_count": 41,
   "metadata": {},
   "outputs": [],
   "source": [
    "# Function to check the number of records and ensure all have the same keys\n",
    "def check_records(data, record_type=\"Record\"):\n",
    "    # Get the set of keys from the first record\n",
    "    first_record_keys = set(data[0].get('attributes', {}).keys())\n",
    "\n",
    "    # Initialize a list to collect error records and a counter for mismatches\n",
    "    error_records = []\n",
    "    mismatched_count = 0\n",
    "\n",
    "    # Iterate through all records to compare the keys\n",
    "    for index, feature in enumerate(data):\n",
    "        current_keys = set(feature.get('attributes', {}).keys())\n",
    "\n",
    "        # Check if the keys match with the first record's keys\n",
    "        if current_keys != first_record_keys:\n",
    "            mismatched_count += 1\n",
    "            print(f\"{record_type} {index} has a different set of keys.\")\n",
    "            print(f\"Expected keys: {first_record_keys}\")\n",
    "            print(f\"Found keys: {current_keys}\")\n",
    "            \n",
    "            # Add the mismatched record to the error list\n",
    "            error_records.append(feature)\n",
    "\n",
    "    # Final report\n",
    "    total_records = len(data)\n",
    "    print(f\"\\nTotal number of {record_type.lower()}s: {total_records}\")\n",
    "    \n",
    "    if mismatched_count == 0:\n",
    "        print(f\"All {record_type.lower()}s contain the same set of keys.\")\n",
    "    else:\n",
    "        print(f\"{mismatched_count} {record_type.lower()}s have mismatched keys.\")\n",
    "\n",
    "    # Return the error records if there are any mismatches\n",
    "    return error_records, first_record_keys\n"
   ]
  },
  {
   "cell_type": "code",
   "execution_count": 42,
   "metadata": {},
   "outputs": [],
   "source": [
    "def filter_features(fire_data, filter_variable_name, filter_value):\n",
    "    # Ensure the data contains the features we need\n",
    "    if 'features' not in fire_data:\n",
    "        return []\n",
    "    \n",
    "    # Filter the features by checking the 'Fire_Year' attribute\n",
    "    filtered_features = [\n",
    "        feature for feature in fire_data['features'] \n",
    "        if feature.get('attributes', {}).get(filter_variable_name) == filter_value\n",
    "    ]\n",
    "    \n",
    "    return filtered_features"
   ]
  },
  {
   "cell_type": "code",
   "execution_count": 43,
   "metadata": {},
   "outputs": [],
   "source": [
    "def get_smoke_impact(gis_acres, dist_from_memphis, max_acres=3614020.62856015, max_distance=650):\n",
    "    # Check for any potential issues with the inputs\n",
    "    if gis_acres is None:\n",
    "        return -1, \"Error: Fire size (GIS_Acres) is missing.\"\n",
    "    if dist_from_memphis is None:\n",
    "        return -1, \"Error: Distance from city is missing.\"\n",
    "    if dist_from_memphis > max_distance:\n",
    "        return -1, f\"Error: Distance from city exceeds max distance of {max_distance} miles.\"\n",
    "    \n",
    "    # Calculate the smoke impact score, giving more weight to the distance\n",
    "    smoke_impact = 100 * (gis_acres / max_acres) * (1 - (dist_from_memphis / max_distance) ** 2)\n",
    "    \n",
    "    # Ensure the smoke impact is within the range 0 to 100\n",
    "    smoke_impact = max(0, min(smoke_impact, 100))\n",
    "\n",
    "    # Return the score along with a success message\n",
    "    return smoke_impact, \"Successful calculation\"\n"
   ]
  },
  {
   "cell_type": "code",
   "execution_count": 44,
   "metadata": {},
   "outputs": [
    {
     "name": "stdout",
     "output_type": "stream",
     "text": [
      "\n",
      "Checking fire_data...\n",
      "\n",
      "Total number of fire data records: 28270\n",
      "All fire data records contain the same set of keys.\n"
     ]
    }
   ],
   "source": [
    "# Check the fire_data and features_with_smoke_impact\n",
    "print(\"\\nChecking fire_data...\")\n",
    "fire_data_errors, fire_data_keys = check_records(fire_data['features'], record_type=\"Fire data record\")\n",
    "\n",
    "# Optional: You can save the error records for later analysis\n",
    "if fire_data_errors:\n",
    "    with open('fire_data_error_records.json', 'w') as fire_error_file:\n",
    "        json.dump({\"features\": fire_data_errors}, fire_error_file, indent=4)\n",
    "    print(\"Fire data error records have been written to 'fire_data_error_records.json'.\")"
   ]
  },
  {
   "cell_type": "code",
   "execution_count": 45,
   "metadata": {},
   "outputs": [],
   "source": [
    "features_with_smoke_impact = []\n",
    "\n",
    "for feature in fire_data['features']:\n",
    "    # Extract distance and fire size from attributes (properties in GeoJSON)\n",
    "    dist_from_memphis = feature.get('attributes', {}).get('distance')\n",
    "    gis_acres = feature.get('attributes', {}).get('GIS_Acres')\n",
    "\n",
    "    # Calculate smoke impact using the new formula, now returning both a score and a message\n",
    "    smoke_impact, message = get_smoke_impact(gis_acres, dist_from_memphis)\n",
    "\n",
    "    # Ensure that 'properties' exist and add smoke impact score and message to the 'properties'\n",
    "    if 'properties' not in feature:\n",
    "        feature['properties'] = feature.get('attributes', {})  # Use 'attributes' as the base for properties\n",
    "    \n",
    "    feature['properties']['smoke_impact_score'] = smoke_impact\n",
    "    feature['properties']['calculation_message'] = message\n",
    "    \n",
    "    # Append the modified feature to the new list\n",
    "    features_with_smoke_impact.append(feature)"
   ]
  },
  {
   "cell_type": "code",
   "execution_count": 46,
   "metadata": {},
   "outputs": [],
   "source": [
    "# features_with_smoke_impact = []\n",
    "\n",
    "# for feature in fire_data['features']:\n",
    "#     #print(feature)\n",
    "\n",
    "#     dist_from_memphis = feature.get('attributes').get('distance')\n",
    "#     gis_acres = feature.get('attributes').get('GIS_Acres')\n",
    "\n",
    "#     #print(f'distance from memphis: {dist_from_memphis}')\n",
    "#     #print(f'gis_acres: {gis_acres}')\n",
    "\n",
    "#     # Calculate smoke impact using the new formula, now returning both a score and a message\n",
    "#     smoke_impact, message = get_smoke_impact(gis_acres, dist_from_memphis)\n",
    "\n",
    "#     #print(f'smoke impact score: {smoke_impact}')\n",
    "#     #print(f'message: {message}')\n",
    "\n",
    "#     # Add smoke impact score and message to the feature\n",
    "#     feature['smoke_impact_score'] = smoke_impact\n",
    "#     feature['calculation_message'] = message\n",
    "#     features_with_smoke_impact.append(feature)"
   ]
  },
  {
   "cell_type": "code",
   "execution_count": 47,
   "metadata": {},
   "outputs": [
    {
     "name": "stdout",
     "output_type": "stream",
     "text": [
      "\n",
      "Checking features_with_smoke_impact...\n",
      "\n",
      "Total number of smoke impact records: 28270\n",
      "All smoke impact records contain the same set of keys.\n"
     ]
    }
   ],
   "source": [
    "print(\"\\nChecking features_with_smoke_impact...\")\n",
    "smoke_impact_errors, smoke_impact_keys = check_records(features_with_smoke_impact, record_type=\"Smoke impact record\")\n",
    "\n",
    "if smoke_impact_errors:\n",
    "    with open('smoke_impact_error_records.json', 'w') as smoke_error_file:\n",
    "        json.dump({\"features\": smoke_impact_errors}, smoke_error_file, indent=4)\n",
    "    print(\"Smoke impact error records have been written to 'smoke_impact_error_records.json'.\")"
   ]
  },
  {
   "cell_type": "code",
   "execution_count": 48,
   "metadata": {},
   "outputs": [],
   "source": [
    "# # Prepare the FeatureCollection for GeoJSON\n",
    "# geojson_data = geojson.FeatureCollection(features_with_smoke_impact)\n",
    "\n",
    "# # Output features_with_smoke_impact to a GeoJSON file\n",
    "# with open(\"intermediate/stage1-output/GEOJSON_stage1_fire_with_smoke_impact.json\", 'w') as output_file:\n",
    "#     geojson.dump(geojson_data, output_file)"
   ]
  },
  {
   "cell_type": "code",
   "execution_count": 49,
   "metadata": {},
   "outputs": [
    {
     "name": "stdout",
     "output_type": "stream",
     "text": [
      "GeoJSON file written to 'intermediate/stage1-output/stage1_fire_with_smoke_impact.json'.\n",
      "Verification passed: 'smoke_impact_score' and 'calculation_message' are present in the first record.\n"
     ]
    }
   ],
   "source": [
    "geojson_data = geojson.FeatureCollection(features_with_smoke_impact)\n",
    "\n",
    "# Output features_with_smoke_impact to a GeoJSON file\n",
    "output_path = SMOKE_IMPACT_OUTPUT_PATH\n",
    "with open(output_path, 'w') as output_file:\n",
    "    geojson.dump(geojson_data, output_file)\n",
    "\n",
    "print(f\"GeoJSON file written to '{output_path}'.\")\n",
    "\n",
    "# Now open the GeoJSON file and verify the fields in the first record\n",
    "with open(output_path, 'r') as input_file:\n",
    "    geojson_data_loaded = geojson.load(input_file)\n",
    "\n",
    "# Verify the fields in the first record's properties\n",
    "first_record = geojson_data_loaded['features'][0]\n",
    "properties = first_record.get('properties', {})\n",
    "\n",
    "# Check if the necessary fields are present\n",
    "if 'smoke_impact_score' in properties and 'calculation_message' in properties:\n",
    "    print(\"Verification passed: 'smoke_impact_score' and 'calculation_message' are present in the first record.\")\n",
    "else:\n",
    "    missing_fields = []\n",
    "    if 'smoke_impact_score' not in properties:\n",
    "        missing_fields.append('smoke_impact_score')\n",
    "    if 'calculation_message' not in properties:\n",
    "        missing_fields.append('calculation_message')\n",
    "    \n",
    "    print(f\"Verification failed: The following fields are missing in the first record: {missing_fields}\")\n"
   ]
  },
  {
   "cell_type": "code",
   "execution_count": 50,
   "metadata": {},
   "outputs": [],
   "source": [
    "# # Output features_with_smoke_impact to a JSON file\n",
    "# with open(SMOKE_IMPACT_OUTPUT_PATH, 'w') as output_file:\n",
    "#     json.dump({\"features\": features_with_smoke_impact}, output_file, indent=4)\n",
    "\n",
    "# print(f'Features with smoke impact json has been saved here: {SMOKE_IMPACT_OUTPUT_PATH}')\n",
    "    "
   ]
  },
  {
   "cell_type": "code",
   "execution_count": 51,
   "metadata": {},
   "outputs": [],
   "source": [
    "# for feature in features_with_smoke_impact:\n",
    "#     print(feature['smoke_impact_score'], feature['calculation_message'])\n"
   ]
  },
  {
   "cell_type": "code",
   "execution_count": 52,
   "metadata": {},
   "outputs": [],
   "source": [
    "# # Example: Filter features where Fire_Year is 2009\n",
    "# filtered_features = filter_features(fire_data,'Fire_Year' , 2009)\n",
    "\n",
    "# # Output the filtered features\n",
    "# for feature in filtered_features:\n",
    "#     print(json.dumps(feature, indent=4))\n",
    "\n",
    "# num_filtered_features = len(filtered_features)\n",
    "\n",
    "# # Output the number of filtered features\n",
    "# print(f\"Number of features with Fire_Year 2009: {num_filtered_features}\")"
   ]
  }
 ],
 "metadata": {
  "kernelspec": {
   "display_name": "512_proj",
   "language": "python",
   "name": "python3"
  },
  "language_info": {
   "codemirror_mode": {
    "name": "ipython",
    "version": 3
   },
   "file_extension": ".py",
   "mimetype": "text/x-python",
   "name": "python",
   "nbconvert_exporter": "python",
   "pygments_lexer": "ipython3",
   "version": "3.11.10"
  }
 },
 "nbformat": 4,
 "nbformat_minor": 2
}
