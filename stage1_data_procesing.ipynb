{
 "cells": [
  {
   "cell_type": "code",
   "execution_count": 1,
   "metadata": {},
   "outputs": [
    {
     "name": "stderr",
     "output_type": "stream",
     "text": [
      "/var/folders/js/_m5r698x29j4dvr0w18h6jdm0000gn/T/ipykernel_26862/4291926119.py:3: DeprecationWarning: \n",
      "Pyarrow will become a required dependency of pandas in the next major release of pandas (pandas 3.0),\n",
      "(to allow more performant data types, such as the Arrow string type, and better interoperability with other libraries)\n",
      "but was not found to be installed on your system.\n",
      "If this would cause problems for you,\n",
      "please provide us feedback at https://github.com/pandas-dev/pandas/issues/54466\n",
      "        \n",
      "  import pandas as pd\n"
     ]
    }
   ],
   "source": [
    "import json\n",
    "import geojson\n",
    "import pandas as pd"
   ]
  },
  {
   "cell_type": "code",
   "execution_count": 2,
   "metadata": {},
   "outputs": [],
   "source": [
    "with open('intermediate_file_paths.json') as output_path_file:\n",
    "    output_paths = json.load(output_path_file)\n",
    "\n",
    "\n",
    "FIRE_INPUT_PATH = output_paths.get('stage0_fire_json')\n",
    "#FIRE_INPUT_PATH = output_paths.get('POC_stage0_fire_json')"
   ]
  },
  {
   "cell_type": "code",
   "execution_count": 3,
   "metadata": {},
   "outputs": [],
   "source": [
    "SMOKE_IMPACT_OUTPUT_PATH = output_paths.get('stage1_smoke_impact_json')\n",
    "#SMOKE_IMPACT_OUTPUT_PATH = output_paths.get('POC_stage1_smoke_impact_json')\n",
    "SMOKE_PER_YEAR_OUTPUT_PATH = output_paths.get(\"smoke_impacts_per_year_csv\")\n"
   ]
  },
  {
   "cell_type": "code",
   "execution_count": 4,
   "metadata": {},
   "outputs": [],
   "source": [
    "with open(FIRE_INPUT_PATH) as fire_file:\n",
    "    fire_data = json.load(fire_file)"
   ]
  },
  {
   "cell_type": "code",
   "execution_count": 5,
   "metadata": {},
   "outputs": [],
   "source": [
    "# Function to check the number of records and ensure all have the same keys\n",
    "def check_records(data, record_type=\"Record\"):\n",
    "    # Get the set of keys from the first record\n",
    "    first_record_keys = set(data[0].get('attributes', {}).keys())\n",
    "\n",
    "    # Initialize a list to collect error records and a counter for mismatches\n",
    "    error_records = []\n",
    "    mismatched_count = 0\n",
    "\n",
    "    # Iterate through all records to compare the keys\n",
    "    for index, feature in enumerate(data):\n",
    "        current_keys = set(feature.get('attributes', {}).keys())\n",
    "\n",
    "        # Check if the keys match with the first record's keys\n",
    "        if current_keys != first_record_keys:\n",
    "            mismatched_count += 1\n",
    "            print(f\"{record_type} {index} has a different set of keys.\")\n",
    "            print(f\"Expected keys: {first_record_keys}\")\n",
    "            print(f\"Found keys: {current_keys}\")\n",
    "            \n",
    "            # Add the mismatched record to the error list\n",
    "            error_records.append(feature)\n",
    "\n",
    "    # Final report\n",
    "    total_records = len(data)\n",
    "    print(f\"\\nTotal number of {record_type.lower()}s: {total_records}\")\n",
    "    \n",
    "    if mismatched_count == 0:\n",
    "        print(f\"All {record_type.lower()}s contain the same set of keys.\")\n",
    "    else:\n",
    "        print(f\"{mismatched_count} {record_type.lower()}s have mismatched keys.\")\n",
    "\n",
    "    # Return the error records if there are any mismatches\n",
    "    return error_records, first_record_keys\n"
   ]
  },
  {
   "cell_type": "code",
   "execution_count": 6,
   "metadata": {},
   "outputs": [],
   "source": [
    "def get_smoke_impact(gis_acres, dist_from_memphis, max_acres=3614020.62856015, max_distance=650):\n",
    "    # Check for any potential issues with the inputs\n",
    "    if gis_acres is None:\n",
    "        return -1, \"Error: Fire size (GIS_Acres) is missing.\"\n",
    "    if dist_from_memphis is None:\n",
    "        return -1, \"Error: Distance from city is missing.\"\n",
    "    if dist_from_memphis > max_distance:\n",
    "        return -1, f\"Error: Distance from city exceeds max distance of {max_distance} miles.\"\n",
    "    \n",
    "    # Calculate the smoke impact score, giving more weight to the distance\n",
    "    smoke_impact = 500 * (gis_acres / max_acres) * (1 - (dist_from_memphis / max_distance) ** 2)\n",
    "    \n",
    "    # Ensure the smoke impact is within the range 0 to 100\n",
    "    smoke_impact = max(0, min(smoke_impact, 100))\n",
    "\n",
    "    # Return the score along with a success message\n",
    "    return smoke_impact, \"Successful calculation\"\n"
   ]
  },
  {
   "cell_type": "code",
   "execution_count": 7,
   "metadata": {},
   "outputs": [
    {
     "name": "stdout",
     "output_type": "stream",
     "text": [
      "\n",
      "Checking fire_data...\n",
      "\n",
      "Total number of fire data records: 28270\n",
      "All fire data records contain the same set of keys.\n"
     ]
    }
   ],
   "source": [
    "# Check the fire_data and features_with_smoke_impact\n",
    "print(\"\\nChecking fire_data...\")\n",
    "fire_data_errors, fire_data_keys = check_records(fire_data['features'], record_type=\"Fire data record\")\n",
    "\n",
    "# Optional: You can save the error records for later analysis\n",
    "if fire_data_errors:\n",
    "    with open('fire_data_error_records.json', 'w') as fire_error_file:\n",
    "        json.dump({\"features\": fire_data_errors}, fire_error_file, indent=4)\n",
    "    print(\"Fire data error records have been written to 'fire_data_error_records.json'.\")"
   ]
  },
  {
   "cell_type": "code",
   "execution_count": 8,
   "metadata": {},
   "outputs": [],
   "source": [
    "features_with_smoke_impact = []\n",
    "\n",
    "for feature in fire_data['features']:\n",
    "    # Extract distance and fire size from attributes (properties in GeoJSON)\n",
    "    dist_from_memphis = feature.get('attributes', {}).get('distance')\n",
    "    gis_acres = feature.get('attributes', {}).get('GIS_Acres')\n",
    "\n",
    "    # Calculate smoke impact using the new formula, now returning both a score and a message\n",
    "    smoke_impact, message = get_smoke_impact(gis_acres, dist_from_memphis)\n",
    "\n",
    "    # Ensure that 'properties' exist and add smoke impact score and message to the 'properties'\n",
    "    if 'properties' not in feature:\n",
    "        feature['properties'] = feature.get('attributes', {})  # Use 'attributes' as the base for properties\n",
    "    \n",
    "    feature['properties']['smoke_impact_score'] = smoke_impact\n",
    "    feature['properties']['calculation_message'] = message\n",
    "    \n",
    "    # Append the modified feature to the new list\n",
    "    features_with_smoke_impact.append(feature)"
   ]
  },
  {
   "cell_type": "code",
   "execution_count": 9,
   "metadata": {},
   "outputs": [
    {
     "name": "stdout",
     "output_type": "stream",
     "text": [
      "\n",
      "Checking features_with_smoke_impact...\n",
      "\n",
      "Total number of smoke impact records: 28270\n",
      "All smoke impact records contain the same set of keys.\n"
     ]
    }
   ],
   "source": [
    "print(\"\\nChecking features_with_smoke_impact...\")\n",
    "smoke_impact_errors, smoke_impact_keys = check_records(features_with_smoke_impact, record_type=\"Smoke impact record\")\n",
    "\n",
    "if smoke_impact_errors:\n",
    "    with open('smoke_impact_error_records.json', 'w') as smoke_error_file:\n",
    "        json.dump({\"features\": smoke_impact_errors}, smoke_error_file, indent=4)\n",
    "    print(\"Smoke impact error records have been written to 'smoke_impact_error_records.json'.\")"
   ]
  },
  {
   "cell_type": "code",
   "execution_count": 10,
   "metadata": {},
   "outputs": [
    {
     "name": "stdout",
     "output_type": "stream",
     "text": [
      "GeoJSON file written to 'intermediate/stage1-output/stage1_fire_with_smoke_impact.json'.\n",
      "Verification passed: 'smoke_impact_score' and 'calculation_message' are present in the first record.\n"
     ]
    }
   ],
   "source": [
    "geojson_data = geojson.FeatureCollection(features_with_smoke_impact)\n",
    "\n",
    "# Output features_with_smoke_impact to a GeoJSON file\n",
    "output_path = SMOKE_IMPACT_OUTPUT_PATH\n",
    "with open(output_path, 'w') as output_file:\n",
    "    geojson.dump(geojson_data, output_file)\n",
    "\n",
    "print(f\"GeoJSON file written to '{output_path}'.\")\n",
    "\n",
    "# Now open the GeoJSON file and verify the fields in the first record\n",
    "with open(output_path, 'r') as input_file:\n",
    "    geojson_data_loaded = geojson.load(input_file)\n",
    "\n",
    "# Verify the fields in the first record's properties\n",
    "first_record = geojson_data_loaded['features'][0]\n",
    "properties = first_record.get('properties', {})\n",
    "\n",
    "# Check if the necessary fields are present\n",
    "if 'smoke_impact_score' in properties and 'calculation_message' in properties:\n",
    "    print(\"Verification passed: 'smoke_impact_score' and 'calculation_message' are present in the first record.\")\n",
    "else:\n",
    "    missing_fields = []\n",
    "    if 'smoke_impact_score' not in properties:\n",
    "        missing_fields.append('smoke_impact_score')\n",
    "    if 'calculation_message' not in properties:\n",
    "        missing_fields.append('calculation_message')\n",
    "    \n",
    "    print(f\"Verification failed: The following fields are missing in the first record: {missing_fields}\")\n"
   ]
  },
  {
   "cell_type": "code",
   "execution_count": 11,
   "metadata": {},
   "outputs": [
    {
     "name": "stdout",
     "output_type": "stream",
     "text": [
      "{'attributes': {'OBJECTID': 14783, 'USGS_Assigned_ID': 14783, 'Assigned_Fire_Type': 'Wildfire', 'Fire_Year': 1964, 'Fire_Polygon_Tier': 1, 'Fire_Attribute_Tiers': '1 (1), 3 (1)', 'GIS_Acres': 28.468121417707913, 'GIS_Hectares': 11.520639999291427, 'Source_Datasets': 'Comb_National_NIFC_Interagency_Fire_Perimeter_History (1), Comb_National_NPS_Wildland_Fire_Perimeters (1)', 'Listed_Fire_Types': 'Wildfire (2)', 'Listed_Fire_Names': 'LODGE BALD (2)', 'Listed_Fire_Codes': 'No code provided (2)', 'Listed_Fire_IDs': '1964-TNGSP-4011 (2)', 'Listed_Fire_IRWIN_IDs': '', 'Listed_Fire_Dates': 'Listed Wildfire Discovery Date(s): 1964-04-10 (1) | Listed Wildfire Controlled Date(s): 1964-04-10 (1) | Listed Wildfire Out Date(s): 1964-04-13 (1) | Listed Other Fire Date(s): 2017-03-13 - NIFC DATE_CUR field (1) | Listed Upload Date(s): 2012-07-24 (1)', 'Listed_Fire_Causes': 'Natural (1)', 'Listed_Fire_Cause_Class': 'Undetermined (1), Natural (1)', 'Listed_Rx_Reported_Acres': None, 'Listed_Map_Digitize_Methods': 'HeadsUp Digitized (1)', 'Listed_Notes': '', 'Processing_Notes': '', 'Wildfire_Notice': 'Wildfire mapping prior to 1984 was inconsistent, infrequent, and done without the aid of more modern fire mapping methods (GPS and satellite imagery). Areas burned prior to 1984 in this dataset represent only a fraction of what actually burned. While areas burned on or after 1984 are much more accurate and complete, errors still can and do occur. This dataset represents the most complete set of digitized polygon fire data available to the public that we, the authors, were able to collect. It is not a complete collection of all wildfires burned during the time period it represents.', 'Prescribed_Burn_Notice': 'Prescribed fire data in this dataset represents only a fraction of the area burned in prescribed burns across all years due to lack of reporting, particularly on private lands. The missing prescribed burn data becomes more pronounced further back in time, particularly in the southeastern U.S.; however, errors and omissions still occur through the most recent years in this dataset. This dataset represents the most complete set of digitized polygon fire data available to the public that we, the authors, were able to collect. It is not a complete collection of all prescribed burns burned during the time period it represents.', 'Wildfire_and_Rx_Flag': None, 'Overlap_Within_1_or_2_Flag': None, 'Circleness_Scale': 0.6792963331530812, 'Circle_Flag': None, 'Exclude_From_Summary_Rasters': 'No', 'Shape_Length': 1459.8680362265668, 'Shape_Area': 115206.39999291427, 'distance': 384.14216230819386, 'smoke_impact_score': 0.0025629562118909977, 'calculation_message': 'Successful calculation'}, 'geometry': {'rings': [[[1095316.6609999985, -438586.5537999999], [1095357.0287999995, -438539.03020000085], [1095391.6413000003, -438525.2435999997], [1095445.6033000015, -438541.14360000007], [1095452.0249999985, -438605.72440000065], [1095451.1484000012, -438741.20050000027], [1095395.6838000007, -438856.77600000054], [1095355.9411999993, -438908.2993999999], [1095313.4043000005, -438988.9807999991], [1095300.0172999986, -439044.4539000001], [1095293.3438999988, -439119.34899999946], [1095230.3324000016, -439092.6060000006], [1095194.1358000003, -439049.2338999994], [1095151.6843000017, -438965.8607000001], [1095132.1686000004, -438911.59490000084], [1095115.9063999988, -438807.59190000035], [1095162.0295999981, -438726.3317000009], [1095246.9770999998, -438634.70610000007], [1095317.2866000012, -438590.5537999999], [1095316.6609999985, -438586.5537999999]]]}, 'properties': {'OBJECTID': 14783, 'USGS_Assigned_ID': 14783, 'Assigned_Fire_Type': 'Wildfire', 'Fire_Year': 1964, 'Fire_Polygon_Tier': 1, 'Fire_Attribute_Tiers': '1 (1), 3 (1)', 'GIS_Acres': 28.468121417707913, 'GIS_Hectares': 11.520639999291427, 'Source_Datasets': 'Comb_National_NIFC_Interagency_Fire_Perimeter_History (1), Comb_National_NPS_Wildland_Fire_Perimeters (1)', 'Listed_Fire_Types': 'Wildfire (2)', 'Listed_Fire_Names': 'LODGE BALD (2)', 'Listed_Fire_Codes': 'No code provided (2)', 'Listed_Fire_IDs': '1964-TNGSP-4011 (2)', 'Listed_Fire_IRWIN_IDs': '', 'Listed_Fire_Dates': 'Listed Wildfire Discovery Date(s): 1964-04-10 (1) | Listed Wildfire Controlled Date(s): 1964-04-10 (1) | Listed Wildfire Out Date(s): 1964-04-13 (1) | Listed Other Fire Date(s): 2017-03-13 - NIFC DATE_CUR field (1) | Listed Upload Date(s): 2012-07-24 (1)', 'Listed_Fire_Causes': 'Natural (1)', 'Listed_Fire_Cause_Class': 'Undetermined (1), Natural (1)', 'Listed_Rx_Reported_Acres': None, 'Listed_Map_Digitize_Methods': 'HeadsUp Digitized (1)', 'Listed_Notes': '', 'Processing_Notes': '', 'Wildfire_Notice': 'Wildfire mapping prior to 1984 was inconsistent, infrequent, and done without the aid of more modern fire mapping methods (GPS and satellite imagery). Areas burned prior to 1984 in this dataset represent only a fraction of what actually burned. While areas burned on or after 1984 are much more accurate and complete, errors still can and do occur. This dataset represents the most complete set of digitized polygon fire data available to the public that we, the authors, were able to collect. It is not a complete collection of all wildfires burned during the time period it represents.', 'Prescribed_Burn_Notice': 'Prescribed fire data in this dataset represents only a fraction of the area burned in prescribed burns across all years due to lack of reporting, particularly on private lands. The missing prescribed burn data becomes more pronounced further back in time, particularly in the southeastern U.S.; however, errors and omissions still occur through the most recent years in this dataset. This dataset represents the most complete set of digitized polygon fire data available to the public that we, the authors, were able to collect. It is not a complete collection of all prescribed burns burned during the time period it represents.', 'Wildfire_and_Rx_Flag': None, 'Overlap_Within_1_or_2_Flag': None, 'Circleness_Scale': 0.6792963331530812, 'Circle_Flag': None, 'Exclude_From_Summary_Rasters': 'No', 'Shape_Length': 1459.8680362265668, 'Shape_Area': 115206.39999291427, 'distance': 384.14216230819386, 'smoke_impact_score': 0.0025629562118909977, 'calculation_message': 'Successful calculation'}}\n"
     ]
    }
   ],
   "source": [
    "print(features_with_smoke_impact[0])"
   ]
  },
  {
   "cell_type": "markdown",
   "metadata": {},
   "source": [
    "## Smoke Impact per Year"
   ]
  },
  {
   "cell_type": "code",
   "execution_count": 14,
   "metadata": {},
   "outputs": [
    {
     "name": "stdout",
     "output_type": "stream",
     "text": [
      "Smoke impact results have been saved to 'intermediate/stage1-output/smoke_impacts_per_year.csv'\n"
     ]
    }
   ],
   "source": [
    "# Weighted Distribution Based on Fire Size\n",
    "min_fire_duration = 10  # Smallest fires burn for 10 days\n",
    "max_fire_duration = 150  # Largest fires burn for 150 days\n",
    "\n",
    "def estimate_fire_duration(gis_acres, max_acres=3614020.62856015):\n",
    "    \"\"\"\n",
    "    Estimate the duration of the fire based on its size.\n",
    "    Larger fires will last longer.\n",
    "    \"\"\"\n",
    "    fire_duration = min_fire_duration + ((gis_acres / max_acres) * (max_fire_duration - min_fire_duration))\n",
    "    return max(min_fire_duration, min(fire_duration, max_fire_duration))  # Ensure within bounds\n",
    "\n",
    "def calculate_weighted_smoke_impact(features_with_smoke_impact, year):\n",
    "    \"\"\"\n",
    "    Calculate total weighted smoke impact and total acres burned for a given year.\n",
    "    Returns the total smoke impact and total acres burned for the year.\n",
    "    \"\"\"\n",
    "    filtered_features = []\n",
    "\n",
    "    for feature in features_with_smoke_impact:\n",
    "        fire_year = feature.get('attributes', {}).get('Fire_Year')  # Use .get() to safely access keys\n",
    "\n",
    "        # Check if the fire year matches the provided year\n",
    "        if fire_year == year:\n",
    "            filtered_features.append(feature)\n",
    "\n",
    "    # Initialize variables for total smoke impact and total acres burned\n",
    "    total_weighted_smoke_impact = 0\n",
    "    total_acres_burned = 0\n",
    "\n",
    "    # Loop through each fire feature and calculate the weighted smoke impact and total acres\n",
    "    for feature in filtered_features:\n",
    "        # Extract relevant attributes\n",
    "        gis_acres = feature['properties'].get('GIS_Acres', 0)\n",
    "        smoke_impact = feature['properties'].get('smoke_impact_score', 0)\n",
    "\n",
    "        # Check for missing or zero values\n",
    "        if gis_acres == 0 or smoke_impact == 0:\n",
    "            continue\n",
    "\n",
    "        # Accumulate total acres burned for the year\n",
    "        total_acres_burned += gis_acres\n",
    "\n",
    "        # Estimate the fire duration based on its size\n",
    "        fire_duration = estimate_fire_duration(gis_acres)\n",
    "\n",
    "        # Amortize the smoke impact over the estimated fire duration\n",
    "        amortized_smoke_impact = smoke_impact / fire_duration\n",
    "\n",
    "        # Accumulate the total smoke impact for the year\n",
    "        total_weighted_smoke_impact += amortized_smoke_impact\n",
    "\n",
    "    # Return both the total weighted smoke impact and the total acres burned for the year\n",
    "    return total_weighted_smoke_impact, total_acres_burned\n",
    "\n",
    "# %%\n",
    "# Calculate smoke impact and total acres burned for all years from 1961 to 2021\n",
    "def calculate_smoke_impact_all_years():\n",
    "    smoke_impact_per_year = []\n",
    "    for year in range(1961, 2021 + 1):\n",
    "        weighted_smoke_impact, total_acres_burned = calculate_weighted_smoke_impact(features_with_smoke_impact, year)\n",
    "        smoke_impact_per_year.append({\n",
    "            'year': year, \n",
    "            'total_weighted_smoke_impact': weighted_smoke_impact, \n",
    "            'total_acres_burned': total_acres_burned\n",
    "        })\n",
    "    return smoke_impact_per_year\n",
    "\n",
    "# Call the function to calculate smoke impact for all years\n",
    "smoke_impact_results = calculate_smoke_impact_all_years()\n",
    "\n",
    "# %%\n",
    "# Convert the results to a DataFrame and save to CSV\n",
    "df_smoke_impact = pd.DataFrame(smoke_impact_results)\n",
    "df_smoke_impact.to_csv(SMOKE_PER_YEAR_OUTPUT_PATH, index=False)\n",
    "\n",
    "print(f\"Smoke impact results have been saved to '{SMOKE_PER_YEAR_OUTPUT_PATH}'\")\n"
   ]
  }
 ],
 "metadata": {
  "kernelspec": {
   "display_name": "512_proj",
   "language": "python",
   "name": "python3"
  },
  "language_info": {
   "codemirror_mode": {
    "name": "ipython",
    "version": 3
   },
   "file_extension": ".py",
   "mimetype": "text/x-python",
   "name": "python",
   "nbconvert_exporter": "python",
   "pygments_lexer": "ipython3",
   "version": "3.11.10"
  }
 },
 "nbformat": 4,
 "nbformat_minor": 2
}
