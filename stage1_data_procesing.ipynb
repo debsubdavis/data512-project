{
 "cells": [
  {
   "cell_type": "code",
   "execution_count": null,
   "metadata": {},
   "outputs": [],
   "source": [
    "# If your data has a date column, filter for fires occurring between May 1st and October 31st.\n",
    "fires_near_city['fire_date'] = pd.to_datetime(fires_near_city['fire_date'])\n",
    "fires_in_fire_season = fires_near_city[(fires_near_city['fire_date'].dt.month >= 5) &\n",
    "                                       (fires_near_city['fire_date'].dt.month <= 10)]"
   ]
  },
  {
   "cell_type": "code",
   "execution_count": null,
   "metadata": {},
   "outputs": [],
   "source": [
    "# Convert distance from meters to miles for the calculation\n",
    "fires_in_fire_season['distance_to_city_miles'] = fires_in_fire_season['distance_to_city'] / miles_to_meters\n",
    "\n",
    "# Calculate the smoke impact for each fire\n",
    "fires_in_fire_season['smoke_impact'] = (fires_in_fire_season['GIS_Acres'] / \n",
    "                                        (fires_in_fire_season['distance_to_city_miles'] ** 2))\n"
   ]
  },
  {
   "cell_type": "code",
   "execution_count": null,
   "metadata": {},
   "outputs": [],
   "source": [
    "# Ensure fire year is in the dataset\n",
    "fires_in_fire_season['fire_year'] = fires_in_fire_season['fire_date'].dt.year\n",
    "\n",
    "# Group by year and sum the smoke impact\n",
    "annual_smoke_impact = fires_in_fire_season.groupby('fire_year')['smoke_impact'].sum().reset_index()\n",
    "\n",
    "# Sort by year and display results\n",
    "annual_smoke_impact = annual_smoke_impact.sort_values(by='fire_year')\n",
    "print(annual_smoke_impact)\n"
   ]
  },
  {
   "cell_type": "code",
   "execution_count": null,
   "metadata": {},
   "outputs": [],
   "source": [
    "# Save to CSV\n",
    "annual_smoke_impact.to_csv('annual_smoke_impact.csv', index=False)"
   ]
  }
 ],
 "metadata": {
  "language_info": {
   "name": "python"
  }
 },
 "nbformat": 4,
 "nbformat_minor": 2
}
