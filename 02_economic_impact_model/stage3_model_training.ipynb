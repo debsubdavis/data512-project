{
 "cells": [
  {
   "cell_type": "code",
   "execution_count": 1,
   "metadata": {},
   "outputs": [
    {
     "name": "stderr",
     "output_type": "stream",
     "text": [
      "/var/folders/js/_m5r698x29j4dvr0w18h6jdm0000gn/T/ipykernel_14406/2943360537.py:2: DeprecationWarning: \n",
      "Pyarrow will become a required dependency of pandas in the next major release of pandas (pandas 3.0),\n",
      "(to allow more performant data types, such as the Arrow string type, and better interoperability with other libraries)\n",
      "but was not found to be installed on your system.\n",
      "If this would cause problems for you,\n",
      "please provide us feedback at https://github.com/pandas-dev/pandas/issues/54466\n",
      "        \n",
      "  import pandas as pd\n"
     ]
    }
   ],
   "source": [
    "import json\n",
    "import pandas as pd\n",
    "import matplotlib.pyplot as plt\n",
    "import numpy as np\n",
    "\n",
    "import pickle\n",
    "from sklearn.model_selection import train_test_split, GridSearchCV\n",
    "from sklearn.utils import resample\n",
    "from sklearn.metrics import mean_squared_error, r2_score\n",
    "from sklearn.ensemble import GradientBoostingRegressor\n",
    "\n",
    "from collections import Counter"
   ]
  },
  {
   "cell_type": "markdown",
   "metadata": {},
   "source": [
    "# Load in all the Data"
   ]
  },
  {
   "cell_type": "code",
   "execution_count": 2,
   "metadata": {},
   "outputs": [],
   "source": [
    "with open('ei_intermediate_file_paths.json') as file_path_file:\n",
    "    file_paths = json.load(file_path_file)\n",
    "\n",
    "\n",
    "SI_HISTORICAL_INPUT_PATH = file_paths.get(\"historical_si_per_year_csv\")\n",
    "\n",
    "NOAA_BLS_MERGED_INPUT_PATH = file_paths.get(\"stage2_fs_merged_output.csv\")\n",
    "\n",
    "EI_MODEL_OUTPUT_PATH = file_paths.get(\"ei_model_output\")"
   ]
  },
  {
   "cell_type": "code",
   "execution_count": 3,
   "metadata": {},
   "outputs": [],
   "source": [
    "# Load dataset\n",
    "si_historical_df = pd.read_csv(SI_HISTORICAL_INPUT_PATH)\n",
    "\n",
    "noaa_bls_df = pd.read_csv(NOAA_BLS_MERGED_INPUT_PATH)"
   ]
  },
  {
   "cell_type": "markdown",
   "metadata": {},
   "source": [
    "## Review the Smoke Impact Data"
   ]
  },
  {
   "cell_type": "code",
   "execution_count": 4,
   "metadata": {},
   "outputs": [
    {
     "name": "stdout",
     "output_type": "stream",
     "text": [
      "   year  fire_year  total_amortized_smoke_impact  total_fire_duration  \\\n",
      "0  1961        NaN                           NaN                  NaN   \n",
      "1  1962        NaN                           NaN                  NaN   \n",
      "2  1963        NaN                           NaN                  NaN   \n",
      "3  1964     1964.0                  7.432192e-07            10.002545   \n",
      "4  1965     1965.0                  1.181915e-06            30.003913   \n",
      "\n",
      "   total_acres_burned  avg_daily_smoke_impact  scaled_avg_daily_smoke_impact  \n",
      "0                 NaN                     NaN                            NaN  \n",
      "1                 NaN                     NaN                            NaN  \n",
      "2                 NaN                     NaN                            NaN  \n",
      "3           28.468121            7.430301e-08                        0.74303  \n",
      "4           43.781494            3.939202e-08                        0.39392  \n"
     ]
    }
   ],
   "source": [
    "print(si_historical_df.head(5))"
   ]
  },
  {
   "cell_type": "code",
   "execution_count": 5,
   "metadata": {},
   "outputs": [
    {
     "name": "stdout",
     "output_type": "stream",
     "text": [
      "Column names:\n",
      " Index(['year', 'fire_year', 'total_amortized_smoke_impact',\n",
      "       'total_fire_duration', 'total_acres_burned', 'avg_daily_smoke_impact',\n",
      "       'scaled_avg_daily_smoke_impact'],\n",
      "      dtype='object')\n",
      "Data types of columns:\n",
      " year                               int64\n",
      "fire_year                        float64\n",
      "total_amortized_smoke_impact     float64\n",
      "total_fire_duration              float64\n",
      "total_acres_burned               float64\n",
      "avg_daily_smoke_impact           float64\n",
      "scaled_avg_daily_smoke_impact    float64\n",
      "dtype: object\n",
      "Number of rows: 61\n"
     ]
    }
   ],
   "source": [
    "# List all column names\n",
    "columns = si_historical_df.columns\n",
    "print(\"Column names:\\n\", columns)\n",
    "\n",
    "# Check data types of each column\n",
    "data_types = si_historical_df.dtypes\n",
    "print(\"Data types of columns:\\n\", data_types)\n",
    "\n",
    "# Find out the number of rows in the dataset\n",
    "num_rows = len(si_historical_df)\n",
    "print(\"Number of rows:\", num_rows)"
   ]
  },
  {
   "cell_type": "markdown",
   "metadata": {},
   "source": [
    "## Review the BLS and NOAA Data"
   ]
  },
  {
   "cell_type": "code",
   "execution_count": 6,
   "metadata": {},
   "outputs": [
    {
     "name": "stdout",
     "output_type": "stream",
     "text": [
      "         date    bls_date  bls_curr_sae_hrs  bls_curr_laus_labor_force  \\\n",
      "0  2009-09-01  2009-09-01              34.1                   609366.0   \n",
      "1  2009-10-01  2009-10-01              34.1                   610121.0   \n",
      "2  2010-05-01  2010-05-01              35.3                   634087.0   \n",
      "3  2010-06-01  2010-06-01              35.5                   645307.0   \n",
      "4  2010-07-01  2010-07-01              35.4                   648544.0   \n",
      "\n",
      "   bls_curr_laus_unemployment_rate  bls_prev_yr_sae_hrs  \\\n",
      "0                             10.2                 35.1   \n",
      "1                             10.1                 34.9   \n",
      "2                              9.4                 33.8   \n",
      "3                             10.0                 34.3   \n",
      "4                              9.8                 34.3   \n",
      "\n",
      "   bls_prev_yr_laus_labor_force  bls_prev_yr_laus_unemployment_rate  \\\n",
      "0                      622233.0                                 7.1   \n",
      "1                      625384.0                                 7.1   \n",
      "2                      608644.0                                 9.4   \n",
      "3                      621823.0                                10.3   \n",
      "4                      624170.0                                10.3   \n",
      "\n",
      "   bls_pct_diff_sae_hrs  bls_pct_diff_laus_labor_force  \\\n",
      "0             -2.849003                      -2.067875   \n",
      "1             -2.292264                      -2.440581   \n",
      "2              4.437870                       4.180276   \n",
      "3              3.498542                       3.776637   \n",
      "4              3.206997                       3.905026   \n",
      "\n",
      "   bls_pct_diff_laus_unemployment_rate                             noaa_name  \\\n",
      "0                            43.661972  MEMPHIS INTERNATIONAL AIRPORT, TN US   \n",
      "1                            42.253521  MEMPHIS INTERNATIONAL AIRPORT, TN US   \n",
      "2                             0.000000  MEMPHIS INTERNATIONAL AIRPORT, TN US   \n",
      "3                            -2.912621  MEMPHIS INTERNATIONAL AIRPORT, TN US   \n",
      "4                            -4.854369  MEMPHIS INTERNATIONAL AIRPORT, TN US   \n",
      "\n",
      "    noaa_date  noaa_tavg  noaa_tmax  noaa_tmin  noaa_prcp  \n",
      "0  2009-09-01       75.7       83.4       68.0       8.60  \n",
      "1  2009-10-01       60.7       69.0       52.5      10.55  \n",
      "2  2010-05-01       74.2       83.2       65.1       9.26  \n",
      "3  2010-06-01       84.6       93.6       75.6       0.31  \n",
      "4  2010-07-01       84.9       93.8       75.9       6.30  \n"
     ]
    }
   ],
   "source": [
    "print(noaa_bls_df.head(5))"
   ]
  },
  {
   "cell_type": "code",
   "execution_count": 7,
   "metadata": {},
   "outputs": [
    {
     "name": "stdout",
     "output_type": "stream",
     "text": [
      "Column names:\n",
      " Index(['date', 'bls_date', 'bls_curr_sae_hrs', 'bls_curr_laus_labor_force',\n",
      "       'bls_curr_laus_unemployment_rate', 'bls_prev_yr_sae_hrs',\n",
      "       'bls_prev_yr_laus_labor_force', 'bls_prev_yr_laus_unemployment_rate',\n",
      "       'bls_pct_diff_sae_hrs', 'bls_pct_diff_laus_labor_force',\n",
      "       'bls_pct_diff_laus_unemployment_rate', 'noaa_name', 'noaa_date',\n",
      "       'noaa_tavg', 'noaa_tmax', 'noaa_tmin', 'noaa_prcp'],\n",
      "      dtype='object')\n",
      "Data types of columns:\n",
      " date                                    object\n",
      "bls_date                                object\n",
      "bls_curr_sae_hrs                       float64\n",
      "bls_curr_laus_labor_force              float64\n",
      "bls_curr_laus_unemployment_rate        float64\n",
      "bls_prev_yr_sae_hrs                    float64\n",
      "bls_prev_yr_laus_labor_force           float64\n",
      "bls_prev_yr_laus_unemployment_rate     float64\n",
      "bls_pct_diff_sae_hrs                   float64\n",
      "bls_pct_diff_laus_labor_force          float64\n",
      "bls_pct_diff_laus_unemployment_rate    float64\n",
      "noaa_name                               object\n",
      "noaa_date                               object\n",
      "noaa_tavg                              float64\n",
      "noaa_tmax                              float64\n",
      "noaa_tmin                              float64\n",
      "noaa_prcp                              float64\n",
      "dtype: object\n",
      "Number of rows: 91\n"
     ]
    }
   ],
   "source": [
    "# List all column names\n",
    "noaa_bls_columns = noaa_bls_df.columns\n",
    "print(\"Column names:\\n\", noaa_bls_columns)\n",
    "\n",
    "# Check data types of each column\n",
    "noaa_bls_data_types = noaa_bls_df.dtypes\n",
    "print(\"Data types of columns:\\n\", noaa_bls_data_types)\n",
    "\n",
    "# Find out the number of rows in the dataset\n",
    "noaa_bls_num_rows = len(noaa_bls_df)\n",
    "print(\"Number of rows:\", noaa_bls_num_rows)"
   ]
  },
  {
   "cell_type": "markdown",
   "metadata": {},
   "source": [
    "## Merge the Data"
   ]
  },
  {
   "cell_type": "code",
   "execution_count": null,
   "metadata": {},
   "outputs": [],
   "source": [
    "# Ensure the date columns are in datetime format for NOAA/BLS dataset\n",
    "noaa_bls_df['date'] = pd.to_datetime(noaa_bls_df['date'])\n",
    "\n",
    "\n",
    "# Create a new 'year' column in NOAA/BLS dataset to merge with SI historical data\n",
    "noaa_bls_df['year'] = noaa_bls_df['date'].dt.year"
   ]
  },
  {
   "cell_type": "code",
   "execution_count": 9,
   "metadata": {},
   "outputs": [],
   "source": [
    "merged_df = pd.merge(\n",
    "    noaa_bls_df[['date', 'year', 'noaa_tavg', 'noaa_prcp', 'bls_pct_diff_sae_hrs', 'bls_pct_diff_laus_labor_force', 'bls_pct_diff_laus_unemployment_rate']],\n",
    "    si_historical_df[['year', 'scaled_avg_daily_smoke_impact']],\n",
    "    on='year',\n",
    "    how='left'\n",
    ")\n",
    "\n",
    "# Drop the 'year' column as it's no longer needed\n",
    "merged_df = merged_df.drop(columns=['year'])\n",
    "\n"
   ]
  },
  {
   "cell_type": "code",
   "execution_count": 10,
   "metadata": {},
   "outputs": [
    {
     "name": "stdout",
     "output_type": "stream",
     "text": [
      "         date  noaa_tavg  noaa_prcp  bls_pct_diff_sae_hrs  \\\n",
      "0  2009-09-01       75.7       8.60             -2.849003   \n",
      "1  2009-10-01       60.7      10.55             -2.292264   \n",
      "2  2010-05-01       74.2       9.26              4.437870   \n",
      "3  2010-06-01       84.6       0.31              3.498542   \n",
      "4  2010-07-01       84.9       6.30              3.206997   \n",
      "5  2010-08-01       86.6       2.32              2.586207   \n",
      "6  2010-09-01       79.2       0.15              3.812317   \n",
      "7  2010-10-01       66.1       2.04              4.105572   \n",
      "8  2011-05-01       70.2       7.12              1.133144   \n",
      "9  2011-06-01       83.7       3.56              0.563380   \n",
      "10 2011-07-01       86.0       2.95              0.282486   \n",
      "11 2011-08-01       83.9       3.08              0.280112   \n",
      "12 2011-09-01       73.3       2.56             -2.259887   \n",
      "13 2011-10-01       62.7       1.28             -0.281690   \n",
      "14 2012-05-01       76.3       3.18             -3.641457   \n",
      "15 2012-06-01       80.2       1.38             -3.081232   \n",
      "16 2012-07-01       85.4       2.26             -1.690141   \n",
      "17 2012-08-01       82.7       2.64             -1.955307   \n",
      "\n",
      "    bls_pct_diff_laus_labor_force  bls_pct_diff_laus_unemployment_rate  \\\n",
      "0                       -2.067875                            43.661972   \n",
      "1                       -2.440581                            42.253521   \n",
      "2                        4.180276                             0.000000   \n",
      "3                        3.776637                            -2.912621   \n",
      "4                        3.905026                            -4.854369   \n",
      "5                        4.450900                            -5.882353   \n",
      "6                        4.486302                            -6.862745   \n",
      "7                        4.773479                            -6.930693   \n",
      "8                        1.064838                             0.000000   \n",
      "9                        0.477602                             2.000000   \n",
      "10                       0.409533                             1.020408   \n",
      "11                      -0.014039                             1.041667   \n",
      "12                       0.297784                             0.000000   \n",
      "13                       0.332580                            -1.063830   \n",
      "14                      -1.331068                            -9.574468   \n",
      "15                      -0.746003                            -8.823529   \n",
      "16                      -1.150338                            -7.070707   \n",
      "17                      -1.655621                           -12.371134   \n",
      "\n",
      "    scaled_avg_daily_smoke_impact  \n",
      "0                       38.878935  \n",
      "1                       38.878935  \n",
      "2                       30.398554  \n",
      "3                       30.398554  \n",
      "4                       30.398554  \n",
      "5                       30.398554  \n",
      "6                       30.398554  \n",
      "7                       30.398554  \n",
      "8                       27.660410  \n",
      "9                       27.660410  \n",
      "10                      27.660410  \n",
      "11                      27.660410  \n",
      "12                      27.660410  \n",
      "13                      27.660410  \n",
      "14                      29.147812  \n",
      "15                      29.147812  \n",
      "16                      29.147812  \n",
      "17                      29.147812  \n"
     ]
    }
   ],
   "source": [
    "# Display the merged dataset\n",
    "print(merged_df.head(18))"
   ]
  },
  {
   "cell_type": "markdown",
   "metadata": {},
   "source": [
    "## Training"
   ]
  },
  {
   "cell_type": "code",
   "execution_count": 11,
   "metadata": {},
   "outputs": [
    {
     "name": "stdout",
     "output_type": "stream",
     "text": [
      "Rows with NaN values:\n",
      "          date  noaa_tavg  noaa_prcp  bls_pct_diff_sae_hrs  \\\n",
      "68 2021-05-01       69.5       4.01             -1.366120   \n",
      "69 2021-06-01       78.9       4.74             -1.381215   \n",
      "70 2021-07-01       81.6       5.73             -1.923077   \n",
      "71 2021-08-01       83.0       2.40             -2.185792   \n",
      "72 2021-09-01       75.9       2.04             -2.222222   \n",
      "73 2021-10-01       67.9       4.78             -1.666667   \n",
      "74 2022-05-01       74.3       4.05             -2.216066   \n",
      "75 2022-06-01       83.2       0.88             -1.120448   \n",
      "76 2022-07-01       87.2       4.24             -1.960784   \n",
      "77 2022-08-01       82.9       5.95             -2.513966   \n",
      "78 2022-09-01       77.7       2.24              0.568182   \n",
      "79 2022-10-01       63.2       4.82              0.564972   \n",
      "80 2023-05-01       72.6       2.05             -1.133144   \n",
      "81 2023-06-01       79.4       5.41             -1.416431   \n",
      "82 2023-07-01       82.3       8.62              0.571429   \n",
      "83 2023-08-01       82.6       2.82              0.286533   \n",
      "84 2023-09-01       77.7       1.63             -1.977401   \n",
      "85 2023-10-01       67.0       1.57             -2.528090   \n",
      "86 2024-05-01       74.6       6.62             -3.151862   \n",
      "87 2024-06-01       80.6       2.71              0.287356   \n",
      "88 2024-07-01       81.8       4.89             -2.556818   \n",
      "89 2024-08-01       82.6       2.52             -2.285714   \n",
      "90 2024-09-01       75.2       9.89             -0.576369   \n",
      "\n",
      "    bls_pct_diff_laus_labor_force  bls_pct_diff_laus_unemployment_rate  \\\n",
      "68                       2.432936                           -41.228070   \n",
      "69                       1.074765                           -36.290323   \n",
      "70                       0.855002                           -43.076923   \n",
      "71                      -0.202340                           -39.622642   \n",
      "72                      -1.596226                           -45.360825   \n",
      "73                      -2.510055                           -41.463415   \n",
      "74                      -0.257376                           -43.283582   \n",
      "75                      -0.981160                           -39.240506   \n",
      "76                      -1.774779                           -36.486486   \n",
      "77                      -1.155864                           -29.687500   \n",
      "78                      -0.605063                           -22.641509   \n",
      "79                      -1.404357                           -12.500000   \n",
      "80                      -1.600069                            -2.631579   \n",
      "81                      -1.306874                            -4.166667   \n",
      "82                      -1.920955                            -6.382979   \n",
      "83                      -2.248471                            -2.222222   \n",
      "84                      -1.929151                            -2.439024   \n",
      "85                      -1.363902                            -2.380952   \n",
      "86                      -0.732276                            -5.405405   \n",
      "87                      -1.249133                             0.000000   \n",
      "88                      -0.176823                             2.272727   \n",
      "89                       0.162529                             0.000000   \n",
      "90                       0.493796                            10.000000   \n",
      "\n",
      "    scaled_avg_daily_smoke_impact  \n",
      "68                            NaN  \n",
      "69                            NaN  \n",
      "70                            NaN  \n",
      "71                            NaN  \n",
      "72                            NaN  \n",
      "73                            NaN  \n",
      "74                            NaN  \n",
      "75                            NaN  \n",
      "76                            NaN  \n",
      "77                            NaN  \n",
      "78                            NaN  \n",
      "79                            NaN  \n",
      "80                            NaN  \n",
      "81                            NaN  \n",
      "82                            NaN  \n",
      "83                            NaN  \n",
      "84                            NaN  \n",
      "85                            NaN  \n",
      "86                            NaN  \n",
      "87                            NaN  \n",
      "88                            NaN  \n",
      "89                            NaN  \n",
      "90                            NaN  \n"
     ]
    }
   ],
   "source": [
    "# Identify rows in the merged dataset with missing values\n",
    "nan_rows = merged_df[merged_df[['noaa_tavg','noaa_prcp', 'scaled_avg_daily_smoke_impact', 'bls_pct_diff_sae_hrs', 'bls_pct_diff_laus_labor_force', 'bls_pct_diff_laus_unemployment_rate']].isna().any(axis=1)]\n",
    "\n",
    "# Display the rows with NaN values\n",
    "print(\"Rows with NaN values:\\n\", nan_rows)\n",
    "\n",
    "# Alternatively, you can save these rows to a CSV for further review\n",
    "# nan_rows.to_csv('nan_rows_review.csv', index=False)\n"
   ]
  },
  {
   "cell_type": "code",
   "execution_count": 12,
   "metadata": {},
   "outputs": [
    {
     "name": "stdout",
     "output_type": "stream",
     "text": [
      "Number of rows before removing nan: 91\n",
      "Number of rows before removing nan: 68\n",
      "Summary statistics:\n",
      "                                 date  noaa_tavg  noaa_prcp  \\\n",
      "count                             68  68.000000  68.000000   \n",
      "mean   2015-05-15 09:10:35.294117632  76.598529   4.308382   \n",
      "min              2009-09-01 00:00:00  60.700000   0.120000   \n",
      "25%              2012-07-24 06:00:00  71.225000   2.152500   \n",
      "50%              2015-06-16 00:00:00  78.400000   3.695000   \n",
      "75%              2018-05-08 18:00:00  82.275000   5.320000   \n",
      "max              2020-10-01 00:00:00  86.600000  13.400000   \n",
      "std                              NaN   7.079938   2.958250   \n",
      "\n",
      "       bls_pct_diff_sae_hrs  bls_pct_diff_laus_labor_force  \\\n",
      "count             68.000000                      68.000000   \n",
      "mean               0.457470                       0.323852   \n",
      "min               -3.641457                      -4.119389   \n",
      "25%               -0.828303                      -1.154633   \n",
      "50%                0.283693                       0.537889   \n",
      "75%                1.514218                       1.202482   \n",
      "max                4.437870                       4.773479   \n",
      "std                1.792814                       1.873739   \n",
      "\n",
      "       bls_pct_diff_laus_unemployment_rate  scaled_avg_daily_smoke_impact  \n",
      "count                            68.000000                      68.000000  \n",
      "mean                              8.126808                      33.236260  \n",
      "min                             -27.777778                      20.311513  \n",
      "25%                             -13.191700                      27.660410  \n",
      "50%                              -4.427184                      32.915612  \n",
      "75%                               0.255102                      38.764487  \n",
      "max                             200.000000                      46.958652  \n",
      "std                              49.060973                       7.808434  \n"
     ]
    }
   ],
   "source": [
    "num_rows_before_remove_nan = len(merged_df)\n",
    "print(f'Number of rows before removing nan: {num_rows_before_remove_nan}')\n",
    "\n",
    "# Drop rows with any NaN values in X or y\n",
    "# merged_df = merged_df.dropna(subset=['scaled_avg_daily_smoke_impact', 'noaa_tavg', 'noaa_prcp', 'bls_pct_diff_laus_unemployment_rate'])\n",
    "\n",
    "merged_df = merged_df.dropna(subset=['noaa_tavg','noaa_prcp', 'scaled_avg_daily_smoke_impact', 'bls_pct_diff_sae_hrs', 'bls_pct_diff_laus_labor_force', 'bls_pct_diff_laus_unemployment_rate'])\n",
    "\n",
    "num_rows_after_remove_nan = len(merged_df)\n",
    "print(f'Number of rows before removing nan: {num_rows_after_remove_nan}')\n",
    "\n",
    "# Summary statistics to understand the dataset better (excluding the DATE column)\n",
    "summary_stats = merged_df.describe()\n",
    "print(\"Summary statistics:\\n\", summary_stats)"
   ]
  },
  {
   "cell_type": "markdown",
   "metadata": {},
   "source": [
    "## Grid Search & Bootstrapping - Find Most Common Best Parameters Across Bootstraps"
   ]
  },
  {
   "cell_type": "code",
   "execution_count": 13,
   "metadata": {},
   "outputs": [
    {
     "name": "stdout",
     "output_type": "stream",
     "text": [
      "Features (X):\n",
      "   noaa_tavg  noaa_prcp  scaled_avg_daily_smoke_impact  bls_pct_diff_sae_hrs  \\\n",
      "0       75.7       8.60                      38.878935             -2.849003   \n",
      "1       60.7      10.55                      38.878935             -2.292264   \n",
      "2       74.2       9.26                      30.398554              4.437870   \n",
      "3       84.6       0.31                      30.398554              3.498542   \n",
      "4       84.9       6.30                      30.398554              3.206997   \n",
      "\n",
      "   bls_pct_diff_laus_labor_force  \n",
      "0                      -2.067875  \n",
      "1                      -2.440581  \n",
      "2                       4.180276  \n",
      "3                       3.776637  \n",
      "4                       3.905026  \n",
      "\n",
      "Target (y):\n",
      "0    43.661972\n",
      "1    42.253521\n",
      "2     0.000000\n",
      "3    -2.912621\n",
      "4    -4.854369\n",
      "Name: bls_pct_diff_laus_unemployment_rate, dtype: float64\n"
     ]
    }
   ],
   "source": [
    "# Define X (features) and y (target)\n",
    "X = merged_df[['noaa_tavg','noaa_prcp', 'scaled_avg_daily_smoke_impact', 'bls_pct_diff_sae_hrs', 'bls_pct_diff_laus_labor_force']]\n",
    "y = merged_df['bls_pct_diff_laus_unemployment_rate']\n",
    "\n",
    "\n",
    "print(\"Features (X):\")\n",
    "print(X.head())\n",
    "\n",
    "print(\"\\nTarget (y):\")\n",
    "print(y.head())"
   ]
  },
  {
   "cell_type": "code",
   "execution_count": 14,
   "metadata": {},
   "outputs": [
    {
     "name": "stdout",
     "output_type": "stream",
     "text": [
      "Best overall R^2 Score: 0.9997635376831715\n",
      "Best overall hyperparameters: {'learning_rate': 0.2, 'max_depth': 5, 'min_samples_split': 5, 'n_estimators': 200}\n",
      "Average Bootstrap Mean Squared Error: 259.78124520823667\n",
      "Average Bootstrap R^2 Score: 0.740658172191149\n"
     ]
    }
   ],
   "source": [
    "# Set up fixed random state\n",
    "fixed_random_state = 42\n",
    "\n",
    "# Define the Gradient Boosting Regressor\n",
    "gbr = GradientBoostingRegressor(random_state=fixed_random_state)\n",
    "\n",
    "# Set up the parameter grid for hyperparameter tuning\n",
    "param_grid = {\n",
    "    'n_estimators': [50, 100, 200],\n",
    "    'learning_rate': [0.01, 0.1, 0.2],\n",
    "    'max_depth': [3, 4, 5],\n",
    "    'min_samples_split': [2, 5, 10]\n",
    "}\n",
    "\n",
    "# Bootstrapping with Grid Search in each iteration\n",
    "n_iterations = 100  # Number of bootstrap samples\n",
    "boot_mse_scores = []\n",
    "boot_r2_scores = []\n",
    "boot_best_params = []  # To store best parameters from each iteration\n",
    "\n",
    "# Variables to track the best model and its performance\n",
    "best_overall_model = None\n",
    "best_overall_r2 = -np.inf  # Initialize to negative infinity\n",
    "best_overall_params = None\n",
    "\n",
    "for i in range(n_iterations):\n",
    "    # Resample with replacement to create a bootstrap sample\n",
    "    X_resample, y_resample = resample(X, y, replace=True, random_state=fixed_random_state + i)\n",
    "    \n",
    "    # Split the resampled dataset into training and testing sets\n",
    "    X_train, X_test, y_train, y_test = train_test_split(X_resample, y_resample, test_size=0.2, random_state=fixed_random_state)\n",
    "    \n",
    "    # Perform Grid Search on the bootstrap sample\n",
    "    grid_search = GridSearchCV(estimator=gbr, param_grid=param_grid, cv=5, scoring='r2', n_jobs=-1)\n",
    "    grid_search.fit(X_train, y_train)\n",
    "    \n",
    "    # Get the best model and hyperparameters\n",
    "    best_gbr = grid_search.best_estimator_\n",
    "    best_params = grid_search.best_params_\n",
    "    boot_best_params.append(best_params)\n",
    "    \n",
    "    # Evaluate the best model on the test set\n",
    "    y_pred = best_gbr.predict(X_test)\n",
    "    mse = mean_squared_error(y_test, y_pred)\n",
    "    r2 = r2_score(y_test, y_pred)\n",
    "    \n",
    "    # Store the evaluation metrics\n",
    "    boot_mse_scores.append(mse)\n",
    "    boot_r2_scores.append(r2)\n",
    "    \n",
    "    # Update the best overall model if the current one is better\n",
    "    if r2 > best_overall_r2:\n",
    "        best_overall_r2 = r2\n",
    "        best_overall_model = best_gbr\n",
    "        best_overall_params = best_params\n",
    "\n",
    "print(\"Best overall R^2 Score:\", best_overall_r2)\n",
    "print(\"Best overall hyperparameters:\", best_overall_params)\n",
    "\n",
    "# Summary Statistics\n",
    "print(\"Average Bootstrap Mean Squared Error:\", np.mean(boot_mse_scores))\n",
    "print(\"Average Bootstrap R^2 Score:\", np.mean(boot_r2_scores))"
   ]
  },
  {
   "cell_type": "code",
   "execution_count": 15,
   "metadata": {},
   "outputs": [
    {
     "name": "stdout",
     "output_type": "stream",
     "text": [
      "Most Common Best Parameters Across Bootstraps: {'learning_rate': 0.01, 'max_depth': 5, 'min_samples_split': 2, 'n_estimators': 200}\n"
     ]
    }
   ],
   "source": [
    "#Analyze the best hyperparameters across bootstrap iterations\n",
    "\n",
    "param_counts = Counter(tuple(p.items()) for p in boot_best_params)\n",
    "most_common_params = param_counts.most_common(1)[0][0]\n",
    "most_common_params = dict(most_common_params)  # Convert back to dictionary\n",
    "print(\"Most Common Best Parameters Across Bootstraps:\", most_common_params)"
   ]
  },
  {
   "cell_type": "markdown",
   "metadata": {},
   "source": [
    "## Grid Search & Bootstrapping - Using Most Common Best Parameters Across Bootstraps"
   ]
  },
  {
   "cell_type": "code",
   "execution_count": 17,
   "metadata": {},
   "outputs": [
    {
     "name": "stdout",
     "output_type": "stream",
     "text": [
      "Average Bootstrap Mean Squared Error (Fixed Params): 241.22539437175476\n",
      "Average Bootstrap R^2 Score (Fixed Params): 0.8214295957497056\n"
     ]
    }
   ],
   "source": [
    "# Use the most common best parameters from the previous bootstrap\n",
    "fixed_params =  most_common_params\n",
    "best_gbr_fixed = GradientBoostingRegressor(**fixed_params, random_state=fixed_random_state)\n",
    "\n",
    "# Perform Bootstrapping Without Grid Search\n",
    "n_iterations = 100  # Number of bootstrap samples\n",
    "boot_mse_scores_fixed = []\n",
    "boot_r2_scores_fixed = []\n",
    "\n",
    "for i in range(n_iterations):\n",
    "    # Resample with replacement to create a bootstrap sample\n",
    "    X_resample, y_resample = resample(X, y, replace=True, random_state=fixed_random_state + i)\n",
    "    \n",
    "    # Split the resampled dataset into training and testing sets\n",
    "    X_train, X_test, y_train, y_test = train_test_split(X_resample, y_resample, test_size=0.3, random_state=fixed_random_state)\n",
    "    \n",
    "    # Train the model with fixed hyperparameters\n",
    "    best_gbr_fixed.fit(X_train, y_train)\n",
    "    \n",
    "    # Evaluate the model on the test set\n",
    "    y_pred = best_gbr_fixed.predict(X_test)\n",
    "    mse = mean_squared_error(y_test, y_pred)\n",
    "    r2 = r2_score(y_test, y_pred)\n",
    "    \n",
    "    # Store the evaluation metrics\n",
    "    boot_mse_scores_fixed.append(mse)\n",
    "    boot_r2_scores_fixed.append(r2)\n",
    "\n",
    "# Summary Statistics for Fixed Hyperparameters\n",
    "print(\"Average Bootstrap Mean Squared Error (Fixed Params):\", np.mean(boot_mse_scores_fixed))\n",
    "print(\"Average Bootstrap R^2 Score (Fixed Params):\", np.mean(boot_r2_scores_fixed))"
   ]
  },
  {
   "cell_type": "markdown",
   "metadata": {},
   "source": [
    "## Model Results"
   ]
  },
  {
   "cell_type": "code",
   "execution_count": 18,
   "metadata": {},
   "outputs": [
    {
     "data": {
      "image/png": "[encoded data removed]",
      "text/plain": [
       "<Figure size 1200x600 with 1 Axes>"
      ]
     },
     "metadata": {},
     "output_type": "display_data"
    }
   ],
   "source": [
    "# Calculate the average R² score\n",
    "average_r2 = np.mean(boot_r2_scores_fixed)\n",
    "\n",
    "# Create histogram with 10 bins\n",
    "bins = np.linspace(min(boot_r2_scores_fixed), max(boot_r2_scores_fixed), 11)  # 11 edges for 10 bins\n",
    "hist, edges = np.histogram(boot_r2_scores_fixed, bins=bins)\n",
    "\n",
    "# Plot histogram\n",
    "plt.figure(figsize=(12, 6))  # Make the chart wider\n",
    "plt.bar(edges[:-1], hist, width=np.diff(edges), align='edge', alpha=0.7, edgecolor='black')\n",
    "\n",
    "# Add a vertical line for the average value\n",
    "plt.axvline(average_r2, color='red', linestyle='--', linewidth=2, label=f'Average R² = {average_r2:.3f}')\n",
    "\n",
    "# Set titles and labels\n",
    "plt.title('Distribution of R^2 Scores for Fixed Hyperparameters')\n",
    "plt.xlabel('R^2 Score')\n",
    "plt.ylabel('Frequency')\n",
    "\n",
    "# Set x-axis tick labels for each bin\n",
    "plt.xticks(edges, rotation=45)\n",
    "\n",
    "# Add a legend\n",
    "plt.legend()\n",
    "\n",
    "# Show the plot\n",
    "plt.tight_layout()\n",
    "plt.show()\n",
    "\n"
   ]
  },
  {
   "cell_type": "markdown",
   "metadata": {},
   "source": [
    "## Save the Model"
   ]
  },
  {
   "cell_type": "code",
   "execution_count": 20,
   "metadata": {},
   "outputs": [],
   "source": [
    "# Save the model to a file\n",
    "with open(EI_MODEL_OUTPUT_PATH, 'wb') as file:\n",
    "    pickle.dump(best_gbr_fixed, file)"
   ]
  }
 ],
 "metadata": {
  "kernelspec": {
   "display_name": "512_proj",
   "language": "python",
   "name": "python3"
  },
  "language_info": {
   "codemirror_mode": {
    "name": "ipython",
    "version": 3
   },
   "file_extension": ".py",
   "mimetype": "text/x-python",
   "name": "python",
   "nbconvert_exporter": "python",
   "pygments_lexer": "ipython3",
   "version": "3.11.10"
  }
 },
 "nbformat": 4,
 "nbformat_minor": 2
}
