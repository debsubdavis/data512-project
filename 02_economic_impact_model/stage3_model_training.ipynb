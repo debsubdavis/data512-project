{
 "cells": [
  {
   "cell_type": "code",
   "execution_count": null,
   "metadata": {},
   "outputs": [],
   "source": [
    "import json\n",
    "import pandas as pd\n",
    "import matplotlib.pyplot as plt\n",
    "import numpy as np\n",
    "\n",
    "import pickle\n",
    "from sklearn.model_selection import train_test_split, GridSearchCV\n",
    "from sklearn.utils import resample\n",
    "from sklearn.metrics import mean_squared_error, r2_score\n",
    "from sklearn.ensemble import GradientBoostingRegressor\n",
    "\n",
    "from collections import Counter"
   ]
  },
  {
   "cell_type": "markdown",
   "metadata": {},
   "source": [
    "# Load in all the Data"
   ]
  },
  {
   "cell_type": "code",
   "execution_count": 171,
   "metadata": {},
   "outputs": [],
   "source": [
    "with open('ei_intermediate_file_paths.json') as file_path_file:\n",
    "    file_paths = json.load(file_path_file)\n",
    "\n",
    "\n",
    "SI_HISTORICAL_INPUT_PATH = file_paths.get(\"historical_si_per_year_csv\")\n",
    "\n",
    "NOAA_BLS_MERGED_INPUT_PATH = file_paths.get(\"stage2_fs_merged_output.csv\")\n",
    "\n",
    "EI_MODEL_OUTPUT_PATH = file_paths.get(\"ei_model_output\")"
   ]
  },
  {
   "cell_type": "code",
   "execution_count": 172,
   "metadata": {},
   "outputs": [],
   "source": [
    "# Load dataset\n",
    "si_historical_df = pd.read_csv(SI_HISTORICAL_INPUT_PATH)\n",
    "\n",
    "noaa_bls_df = pd.read_csv(NOAA_BLS_MERGED_INPUT_PATH)"
   ]
  },
  {
   "cell_type": "markdown",
   "metadata": {},
   "source": [
    "## Review the Smoke Impact Data"
   ]
  },
  {
   "cell_type": "code",
   "execution_count": 173,
   "metadata": {},
   "outputs": [
    {
     "name": "stdout",
     "output_type": "stream",
     "text": [
      "   year  fire_year  total_amortized_smoke_impact  total_fire_duration  \\\n",
      "0  1961        NaN                           NaN                  NaN   \n",
      "1  1962        NaN                           NaN                  NaN   \n",
      "2  1963        NaN                           NaN                  NaN   \n",
      "3  1964     1964.0                  7.432192e-07            10.002545   \n",
      "4  1965     1965.0                  1.181915e-06            30.003913   \n",
      "\n",
      "   total_acres_burned  avg_daily_smoke_impact  scaled_avg_daily_smoke_impact  \n",
      "0                 NaN                     NaN                            NaN  \n",
      "1                 NaN                     NaN                            NaN  \n",
      "2                 NaN                     NaN                            NaN  \n",
      "3           28.468121            7.430301e-08                        0.74303  \n",
      "4           43.781494            3.939202e-08                        0.39392  \n"
     ]
    }
   ],
   "source": [
    "print(si_historical_df.head(5))"
   ]
  },
  {
   "cell_type": "code",
   "execution_count": 174,
   "metadata": {},
   "outputs": [
    {
     "name": "stdout",
     "output_type": "stream",
     "text": [
      "Column names:\n",
      " Index(['year', 'fire_year', 'total_amortized_smoke_impact',\n",
      "       'total_fire_duration', 'total_acres_burned', 'avg_daily_smoke_impact',\n",
      "       'scaled_avg_daily_smoke_impact'],\n",
      "      dtype='object')\n",
      "Data types of columns:\n",
      " year                               int64\n",
      "fire_year                        float64\n",
      "total_amortized_smoke_impact     float64\n",
      "total_fire_duration              float64\n",
      "total_acres_burned               float64\n",
      "avg_daily_smoke_impact           float64\n",
      "scaled_avg_daily_smoke_impact    float64\n",
      "dtype: object\n",
      "Number of rows: 61\n"
     ]
    }
   ],
   "source": [
    "# List all column names\n",
    "columns = si_historical_df.columns\n",
    "print(\"Column names:\\n\", columns)\n",
    "\n",
    "# Check data types of each column\n",
    "data_types = si_historical_df.dtypes\n",
    "print(\"Data types of columns:\\n\", data_types)\n",
    "\n",
    "# Find out the number of rows in the dataset\n",
    "num_rows = len(si_historical_df)\n",
    "print(\"Number of rows:\", num_rows)"
   ]
  },
  {
   "cell_type": "markdown",
   "metadata": {},
   "source": [
    "## Review the BLS and NOAA Data"
   ]
  },
  {
   "cell_type": "code",
   "execution_count": 175,
   "metadata": {},
   "outputs": [
    {
     "name": "stdout",
     "output_type": "stream",
     "text": [
      "         date    bls_date  bls_curr_sae_hrs  bls_curr_laus_labor_force  \\\n",
      "0  2009-09-01  2009-09-01              36.8                   421301.0   \n",
      "1  2009-10-01  2009-10-01              36.7                   422913.0   \n",
      "2  2010-05-01  2010-05-01              38.0                   415895.0   \n",
      "3  2010-06-01  2010-06-01              37.9                   421034.0   \n",
      "4  2010-07-01  2010-07-01              37.4                   423239.0   \n",
      "\n",
      "   bls_curr_laus_unemployment_rate  bls_prev_yr_sae_hrs  \\\n",
      "0                              9.1                 37.4   \n",
      "1                              8.8                 37.0   \n",
      "2                              8.2                 37.4   \n",
      "3                              8.7                 37.9   \n",
      "4                              8.4                 37.1   \n",
      "\n",
      "   bls_prev_yr_laus_labor_force  bls_prev_yr_laus_unemployment_rate  \\\n",
      "0                      427171.0                                 5.8   \n",
      "1                      431740.0                                 5.7   \n",
      "2                      420518.0                                 8.8   \n",
      "3                      428844.0                                 9.6   \n",
      "4                      428604.0                                 9.4   \n",
      "\n",
      "   bls_pct_diff_sae_hrs  bls_pct_diff_laus_labor_force  \\\n",
      "0             -1.604278                      -1.374157   \n",
      "1             -0.810811                      -2.044518   \n",
      "2              1.604278                      -1.099358   \n",
      "3              0.000000                      -1.821175   \n",
      "4              0.808625                      -1.251738   \n",
      "\n",
      "   bls_pct_diff_laus_unemployment_rate                             noaa_name  \\\n",
      "0                            56.896552  MEMPHIS INTERNATIONAL AIRPORT, TN US   \n",
      "1                            54.385965  MEMPHIS INTERNATIONAL AIRPORT, TN US   \n",
      "2                            -6.818182  MEMPHIS INTERNATIONAL AIRPORT, TN US   \n",
      "3                            -9.375000  MEMPHIS INTERNATIONAL AIRPORT, TN US   \n",
      "4                           -10.638298  MEMPHIS INTERNATIONAL AIRPORT, TN US   \n",
      "\n",
      "    noaa_date  noaa_tavg  noaa_tmax  noaa_tmin  noaa_prcp  \n",
      "0  2009-09-01       75.7       83.4       68.0       8.60  \n",
      "1  2009-10-01       60.7       69.0       52.5      10.55  \n",
      "2  2010-05-01       74.2       83.2       65.1       9.26  \n",
      "3  2010-06-01       84.6       93.6       75.6       0.31  \n",
      "4  2010-07-01       84.9       93.8       75.9       6.30  \n"
     ]
    }
   ],
   "source": [
    "print(noaa_bls_df.head(5))"
   ]
  },
  {
   "cell_type": "code",
   "execution_count": 176,
   "metadata": {},
   "outputs": [
    {
     "name": "stdout",
     "output_type": "stream",
     "text": [
      "Column names:\n",
      " Index(['date', 'bls_date', 'bls_curr_sae_hrs', 'bls_curr_laus_labor_force',\n",
      "       'bls_curr_laus_unemployment_rate', 'bls_prev_yr_sae_hrs',\n",
      "       'bls_prev_yr_laus_labor_force', 'bls_prev_yr_laus_unemployment_rate',\n",
      "       'bls_pct_diff_sae_hrs', 'bls_pct_diff_laus_labor_force',\n",
      "       'bls_pct_diff_laus_unemployment_rate', 'noaa_name', 'noaa_date',\n",
      "       'noaa_tavg', 'noaa_tmax', 'noaa_tmin', 'noaa_prcp'],\n",
      "      dtype='object')\n",
      "Data types of columns:\n",
      " date                                    object\n",
      "bls_date                                object\n",
      "bls_curr_sae_hrs                       float64\n",
      "bls_curr_laus_labor_force              float64\n",
      "bls_curr_laus_unemployment_rate        float64\n",
      "bls_prev_yr_sae_hrs                    float64\n",
      "bls_prev_yr_laus_labor_force           float64\n",
      "bls_prev_yr_laus_unemployment_rate     float64\n",
      "bls_pct_diff_sae_hrs                   float64\n",
      "bls_pct_diff_laus_labor_force          float64\n",
      "bls_pct_diff_laus_unemployment_rate    float64\n",
      "noaa_name                               object\n",
      "noaa_date                               object\n",
      "noaa_tavg                              float64\n",
      "noaa_tmax                              float64\n",
      "noaa_tmin                              float64\n",
      "noaa_prcp                              float64\n",
      "dtype: object\n",
      "Number of rows: 91\n"
     ]
    }
   ],
   "source": [
    "# List all column names\n",
    "noaa_bls_columns = noaa_bls_df.columns\n",
    "print(\"Column names:\\n\", noaa_bls_columns)\n",
    "\n",
    "# Check data types of each column\n",
    "noaa_bls_data_types = noaa_bls_df.dtypes\n",
    "print(\"Data types of columns:\\n\", noaa_bls_data_types)\n",
    "\n",
    "# Find out the number of rows in the dataset\n",
    "noaa_bls_num_rows = len(noaa_bls_df)\n",
    "print(\"Number of rows:\", noaa_bls_num_rows)"
   ]
  },
  {
   "cell_type": "markdown",
   "metadata": {},
   "source": [
    "## Merge the Data"
   ]
  },
  {
   "cell_type": "code",
   "execution_count": 177,
   "metadata": {},
   "outputs": [],
   "source": [
    "# Ensure the date columns are in datetime format for NOAA/BLS dataset\n",
    "noaa_bls_df['date'] = pd.to_datetime(noaa_bls_df['date'])\n",
    "\n",
    "# Repeat the 'scaled_avg_daily_smoke_impact' value for each month in the year\n",
    "# Create a new 'year' column in NOAA/BLS dataset to merge with SI historical data\n",
    "noaa_bls_df['year'] = noaa_bls_df['date'].dt.year"
   ]
  },
  {
   "cell_type": "code",
   "execution_count": 178,
   "metadata": {},
   "outputs": [],
   "source": [
    "merged_df = pd.merge(\n",
    "    noaa_bls_df[['date', 'year', 'noaa_tavg', 'noaa_prcp', 'bls_pct_diff_sae_hrs', 'bls_pct_diff_laus_labor_force', 'bls_pct_diff_laus_unemployment_rate']],\n",
    "    si_historical_df[['year', 'scaled_avg_daily_smoke_impact']],\n",
    "    on='year',\n",
    "    how='left'\n",
    ")\n",
    "\n",
    "# Drop the 'year' column as it's no longer needed\n",
    "merged_df = merged_df.drop(columns=['year'])\n",
    "\n"
   ]
  },
  {
   "cell_type": "code",
   "execution_count": 179,
   "metadata": {},
   "outputs": [
    {
     "name": "stdout",
     "output_type": "stream",
     "text": [
      "         date  noaa_tavg  noaa_prcp  bls_pct_diff_sae_hrs  \\\n",
      "0  2009-09-01       75.7       8.60             -1.604278   \n",
      "1  2009-10-01       60.7      10.55             -0.810811   \n",
      "2  2010-05-01       74.2       9.26              1.604278   \n",
      "3  2010-06-01       84.6       0.31              0.000000   \n",
      "4  2010-07-01       84.9       6.30              0.808625   \n",
      "5  2010-08-01       86.6       2.32             -0.534759   \n",
      "6  2010-09-01       79.2       0.15              0.000000   \n",
      "7  2010-10-01       66.1       2.04              0.544959   \n",
      "8  2011-05-01       70.2       7.12             -1.578947   \n",
      "9  2011-06-01       83.7       3.56             -1.583113   \n",
      "10 2011-07-01       86.0       2.95             -1.604278   \n",
      "11 2011-08-01       83.9       3.08             -0.268817   \n",
      "12 2011-09-01       73.3       2.56              0.543478   \n",
      "13 2011-10-01       62.7       1.28              0.813008   \n",
      "14 2012-05-01       76.3       3.18             -2.673797   \n",
      "15 2012-06-01       80.2       1.38             -1.072386   \n",
      "16 2012-07-01       85.4       2.26             -1.086957   \n",
      "17 2012-08-01       82.7       2.64             -1.347709   \n",
      "\n",
      "    bls_pct_diff_laus_labor_force  bls_pct_diff_laus_unemployment_rate  \\\n",
      "0                       -1.374157                            56.896552   \n",
      "1                       -2.044518                            54.385965   \n",
      "2                       -1.099358                            -6.818182   \n",
      "3                       -1.821175                            -9.375000   \n",
      "4                       -1.251738                           -10.638298   \n",
      "5                       -0.755439                            -9.677419   \n",
      "6                       -0.780440                           -12.087912   \n",
      "7                       -1.612388                            -7.954545   \n",
      "8                        0.743697                            -3.658537   \n",
      "9                        0.931754                             0.000000   \n",
      "10                       0.094273                            -1.190476   \n",
      "11                       0.054115                            -3.571429   \n",
      "12                       0.172483                            -1.250000   \n",
      "13                       0.170394                            -8.641975   \n",
      "14                      -1.531309                           -11.392405   \n",
      "15                      -1.341783                           -10.344828   \n",
      "16                      -1.344544                            -6.024096   \n",
      "17                      -1.997370                            -8.641975   \n",
      "\n",
      "    scaled_avg_daily_smoke_impact  \n",
      "0                       38.878935  \n",
      "1                       38.878935  \n",
      "2                       30.398554  \n",
      "3                       30.398554  \n",
      "4                       30.398554  \n",
      "5                       30.398554  \n",
      "6                       30.398554  \n",
      "7                       30.398554  \n",
      "8                       27.660410  \n",
      "9                       27.660410  \n",
      "10                      27.660410  \n",
      "11                      27.660410  \n",
      "12                      27.660410  \n",
      "13                      27.660410  \n",
      "14                      29.147812  \n",
      "15                      29.147812  \n",
      "16                      29.147812  \n",
      "17                      29.147812  \n"
     ]
    }
   ],
   "source": [
    "# Display the merged dataset\n",
    "print(merged_df.head(18))"
   ]
  },
  {
   "cell_type": "markdown",
   "metadata": {},
   "source": [
    "## Training"
   ]
  },
  {
   "cell_type": "code",
   "execution_count": 180,
   "metadata": {},
   "outputs": [
    {
     "name": "stdout",
     "output_type": "stream",
     "text": [
      "Rows with NaN values:\n",
      "          date  noaa_tavg  noaa_prcp  bls_pct_diff_sae_hrs  \\\n",
      "68 2021-05-01       69.5       4.01              5.027933   \n",
      "69 2021-06-01       78.9       4.74              2.185792   \n",
      "70 2021-07-01       81.6       5.73              1.639344   \n",
      "71 2021-08-01       83.0       2.40              0.539084   \n",
      "72 2021-09-01       75.9       2.04             -0.546448   \n",
      "73 2021-10-01       67.9       4.78             -1.355014   \n",
      "74 2022-05-01       74.3       4.05             -1.063830   \n",
      "75 2022-06-01       83.2       0.88             -0.802139   \n",
      "76 2022-07-01       87.2       4.24             -1.344086   \n",
      "77 2022-08-01       82.9       5.95              0.000000   \n",
      "78 2022-09-01       77.7       2.24              1.648352   \n",
      "79 2022-10-01       63.2       4.82              1.648352   \n",
      "80 2023-05-01       72.6       2.05             -2.419355   \n",
      "81 2023-06-01       79.4       5.41             -1.347709   \n",
      "82 2023-07-01       82.3       8.62             -0.272480   \n",
      "83 2023-08-01       82.6       2.82             -2.144772   \n",
      "84 2023-09-01       77.7       1.63             -2.972973   \n",
      "85 2023-10-01       67.0       1.57             -2.972973   \n",
      "86 2024-05-01       74.6       6.62             -0.826446   \n",
      "87 2024-06-01       80.6       2.71             -0.546448   \n",
      "88 2024-07-01       81.8       4.89             -2.185792   \n",
      "89 2024-08-01       82.6       2.52             -0.821918   \n",
      "90 2024-09-01       75.2       9.89              0.278552   \n",
      "\n",
      "    bls_pct_diff_laus_labor_force  bls_pct_diff_laus_unemployment_rate  \\\n",
      "68                       3.392264                           -61.458333   \n",
      "69                       2.870254                           -47.126437   \n",
      "70                       2.934980                           -51.250000   \n",
      "71                       2.057440                           -41.666667   \n",
      "72                       1.665415                           -43.396226   \n",
      "73                       0.157513                           -39.583333   \n",
      "74                       2.967683                           -21.621622   \n",
      "75                       1.957276                           -17.391304   \n",
      "76                       1.444035                           -12.820513   \n",
      "77                       1.781145                            -5.714286   \n",
      "78                       1.939176                            -3.333333   \n",
      "79                       1.380568                            10.344828   \n",
      "80                       1.284319                             0.000000   \n",
      "81                       1.796693                            -7.894737   \n",
      "82                       0.743037                             0.000000   \n",
      "83                       0.139789                            -3.030303   \n",
      "84                       0.627659                             6.896552   \n",
      "85                       0.992610                            -3.125000   \n",
      "86                      -0.136705                           -10.344828   \n",
      "87                      -0.146067                            -2.857143   \n",
      "88                       1.368727                            -5.882353   \n",
      "89                       1.929572                             0.000000   \n",
      "90                       1.576856                             6.451613   \n",
      "\n",
      "    scaled_avg_daily_smoke_impact  \n",
      "68                            NaN  \n",
      "69                            NaN  \n",
      "70                            NaN  \n",
      "71                            NaN  \n",
      "72                            NaN  \n",
      "73                            NaN  \n",
      "74                            NaN  \n",
      "75                            NaN  \n",
      "76                            NaN  \n",
      "77                            NaN  \n",
      "78                            NaN  \n",
      "79                            NaN  \n",
      "80                            NaN  \n",
      "81                            NaN  \n",
      "82                            NaN  \n",
      "83                            NaN  \n",
      "84                            NaN  \n",
      "85                            NaN  \n",
      "86                            NaN  \n",
      "87                            NaN  \n",
      "88                            NaN  \n",
      "89                            NaN  \n",
      "90                            NaN  \n"
     ]
    }
   ],
   "source": [
    "# Identify rows in the merged dataset with missing values\n",
    "nan_rows = merged_df[merged_df[['scaled_avg_daily_smoke_impact', 'noaa_tavg', 'noaa_prcp', 'bls_pct_diff_laus_unemployment_rate']].isna().any(axis=1)]\n",
    "\n",
    "# Display the rows with NaN values\n",
    "print(\"Rows with NaN values:\\n\", nan_rows)\n",
    "\n",
    "# Alternatively, you can save these rows to a CSV for further review\n",
    "# nan_rows.to_csv('nan_rows_review.csv', index=False)\n"
   ]
  },
  {
   "cell_type": "code",
   "execution_count": 181,
   "metadata": {},
   "outputs": [
    {
     "name": "stdout",
     "output_type": "stream",
     "text": [
      "Number of rows before removing nan: 91\n",
      "Number of rows before removing nan: 68\n",
      "Summary statistics:\n",
      "                                 date  noaa_tavg  noaa_prcp  \\\n",
      "count                             68  68.000000  68.000000   \n",
      "mean   2015-05-15 09:10:35.294117632  76.598529   4.308382   \n",
      "min              2009-09-01 00:00:00  60.700000   0.120000   \n",
      "25%              2012-07-24 06:00:00  71.225000   2.152500   \n",
      "50%              2015-06-16 00:00:00  78.400000   3.695000   \n",
      "75%              2018-05-08 18:00:00  82.275000   5.320000   \n",
      "max              2020-10-01 00:00:00  86.600000  13.400000   \n",
      "std                              NaN   7.079938   2.958250   \n",
      "\n",
      "       bls_pct_diff_sae_hrs  bls_pct_diff_laus_labor_force  \\\n",
      "count             68.000000                      68.000000   \n",
      "mean              -0.167823                      -0.035703   \n",
      "min               -4.210526                      -3.787130   \n",
      "25%               -1.092164                      -1.462664   \n",
      "50%               -0.134409                       0.140802   \n",
      "75%                0.825314                       1.221718   \n",
      "max                3.888889                       2.737748   \n",
      "std                1.754549                       1.595039   \n",
      "\n",
      "       bls_pct_diff_laus_unemployment_rate  scaled_avg_daily_smoke_impact  \n",
      "count                            68.000000                      68.000000  \n",
      "mean                              3.679296                      33.236260  \n",
      "min                             -34.042553                      20.311513  \n",
      "25%                             -13.924051                      27.660410  \n",
      "50%                              -6.787469                      32.915612  \n",
      "75%                               0.000000                      38.764487  \n",
      "max                             220.000000                      46.958652  \n",
      "std                              41.353131                       7.808434  \n"
     ]
    }
   ],
   "source": [
    "num_rows_before_remove_nan = len(merged_df)\n",
    "print(f'Number of rows before removing nan: {num_rows_before_remove_nan}')\n",
    "\n",
    "# Drop rows with any NaN values in X or y\n",
    "merged_df = merged_df.dropna(subset=['scaled_avg_daily_smoke_impact', 'noaa_tavg', 'noaa_prcp', 'bls_pct_diff_laus_unemployment_rate'])\n",
    "\n",
    "num_rows_after_remove_nan = len(merged_df)\n",
    "print(f'Number of rows before removing nan: {num_rows_after_remove_nan}')\n",
    "\n",
    "# Summary statistics to understand the dataset better (excluding the DATE column)\n",
    "summary_stats = merged_df.describe()\n",
    "print(\"Summary statistics:\\n\", summary_stats)"
   ]
  },
  {
   "cell_type": "markdown",
   "metadata": {},
   "source": [
    "## Grid Search & Bootstrapping - Find Most Common Best Parameters Across Bootstraps"
   ]
  },
  {
   "cell_type": "code",
   "execution_count": null,
   "metadata": {},
   "outputs": [
    {
     "name": "stdout",
     "output_type": "stream",
     "text": [
      "Best overall model saved to best_gradient_boosting_model.pkl\n",
      "Best overall R^2 Score: 0.9993707476415556\n",
      "Best overall hyperparameters: {'learning_rate': 0.1, 'max_depth': 5, 'min_samples_split': 2, 'n_estimators': 50}\n",
      "Average Bootstrap Mean Squared Error: 431.5041469725602\n",
      "Average Bootstrap R^2 Score: 0.48444340639522315\n",
      "Most Common Best Parameters Across Bootstraps: {'learning_rate': 0.2, 'max_depth': 3, 'min_samples_split': 2, 'n_estimators': 100}\n"
     ]
    }
   ],
   "source": [
    "# Set up fixed random state\n",
    "fixed_random_state = 42\n",
    "\n",
    "# Define the Gradient Boosting Regressor\n",
    "gbr = GradientBoostingRegressor(random_state=fixed_random_state)\n",
    "\n",
    "# Set up the parameter grid for hyperparameter tuning\n",
    "param_grid = {\n",
    "    'n_estimators': [50, 100, 200],\n",
    "    'learning_rate': [0.01, 0.1, 0.2],\n",
    "    'max_depth': [3, 4, 5],\n",
    "    'min_samples_split': [2, 5, 10]\n",
    "}\n",
    "\n",
    "# Bootstrapping with Grid Search in each iteration\n",
    "n_iterations = 100  # Number of bootstrap samples\n",
    "boot_mse_scores = []\n",
    "boot_r2_scores = []\n",
    "boot_best_params = []  # To store best parameters from each iteration\n",
    "\n",
    "# Variables to track the best model and its performance\n",
    "best_overall_model = None\n",
    "best_overall_r2 = -np.inf  # Initialize to negative infinity\n",
    "best_overall_params = None\n",
    "\n",
    "for i in range(n_iterations):\n",
    "    # Resample with replacement to create a bootstrap sample\n",
    "    X_resample, y_resample = resample(X, y, replace=True, random_state=fixed_random_state + i)\n",
    "    \n",
    "    # Split the resampled dataset into training and testing sets\n",
    "    X_train, X_test, y_train, y_test = train_test_split(X_resample, y_resample, test_size=0.2, random_state=fixed_random_state)\n",
    "    \n",
    "    # Perform Grid Search on the bootstrap sample\n",
    "    grid_search = GridSearchCV(estimator=gbr, param_grid=param_grid, cv=5, scoring='r2', n_jobs=-1)\n",
    "    grid_search.fit(X_train, y_train)\n",
    "    \n",
    "    # Get the best model and hyperparameters\n",
    "    best_gbr = grid_search.best_estimator_\n",
    "    best_params = grid_search.best_params_\n",
    "    boot_best_params.append(best_params)\n",
    "    \n",
    "    # Evaluate the best model on the test set\n",
    "    y_pred = best_gbr.predict(X_test)\n",
    "    mse = mean_squared_error(y_test, y_pred)\n",
    "    r2 = r2_score(y_test, y_pred)\n",
    "    \n",
    "    # Store the evaluation metrics\n",
    "    boot_mse_scores.append(mse)\n",
    "    boot_r2_scores.append(r2)\n",
    "    \n",
    "    # Update the best overall model if the current one is better\n",
    "    if r2 > best_overall_r2:\n",
    "        best_overall_r2 = r2\n",
    "        best_overall_model = best_gbr\n",
    "        best_overall_params = best_params\n",
    "\n",
    "\n",
    "\n",
    "\n",
    "print(\"Best overall R^2 Score:\", best_overall_r2)\n",
    "print(\"Best overall hyperparameters:\", best_overall_params)\n",
    "\n",
    "# Summary Statistics\n",
    "print(\"Average Bootstrap Mean Squared Error:\", np.mean(boot_mse_scores))\n",
    "print(\"Average Bootstrap R^2 Score:\", np.mean(boot_r2_scores))\n",
    "\n",
    "# Analyze the best hyperparameters across bootstrap iterations\n",
    "\n",
    "param_counts = Counter(tuple(p.items()) for p in boot_best_params)\n",
    "most_common_params = param_counts.most_common(1)[0][0]\n",
    "most_common_params = dict(most_common_params)  # Convert back to dictionary\n",
    "print(\"Most Common Best Parameters Across Bootstraps:\", most_common_params)"
   ]
  },
  {
   "cell_type": "code",
   "execution_count": 192,
   "metadata": {},
   "outputs": [
    {
     "data": {
      "image/png": "[encoded data removed]",
      "text/plain": [
       "<Figure size 640x480 with 1 Axes>"
      ]
     },
     "metadata": {},
     "output_type": "display_data"
    }
   ],
   "source": [
    "plt.hist(boot_r2_scores, bins=10, alpha=0.7)\n",
    "plt.title('Distribution of R^2 Scores Across Bootstrap Iterations')\n",
    "plt.xlabel('R^2 Score')\n",
    "plt.ylabel('Frequency')\n",
    "plt.show()"
   ]
  },
  {
   "cell_type": "markdown",
   "metadata": {},
   "source": [
    "## Grid Search & Bootstrapping - Find Most Common Best Parameters Across Bootstraps"
   ]
  },
  {
   "cell_type": "code",
   "execution_count": 209,
   "metadata": {},
   "outputs": [
    {
     "name": "stdout",
     "output_type": "stream",
     "text": [
      "Average Bootstrap Mean Squared Error (Fixed Params): 374.3102390048586\n",
      "Average Bootstrap R^2 Score (Fixed Params): 0.7007845449252588\n"
     ]
    }
   ],
   "source": [
    "# Use the most common best parameters from the previous bootstrap\n",
    "fixed_params = {'learning_rate': 0.2, 'max_depth': 3, 'min_samples_split': 2, 'n_estimators': 100}\n",
    "best_gbr_fixed = GradientBoostingRegressor(**fixed_params, random_state=fixed_random_state)\n",
    "\n",
    "# Perform Bootstrapping Without Grid Search\n",
    "n_iterations = 100  # Number of bootstrap samples\n",
    "boot_mse_scores_fixed = []\n",
    "boot_r2_scores_fixed = []\n",
    "\n",
    "for i in range(n_iterations):\n",
    "    # Resample with replacement to create a bootstrap sample\n",
    "    X_resample, y_resample = resample(X, y, replace=True, random_state=fixed_random_state + i)\n",
    "    \n",
    "    # Split the resampled dataset into training and testing sets\n",
    "    X_train, X_test, y_train, y_test = train_test_split(X_resample, y_resample, test_size=0.3, random_state=fixed_random_state)\n",
    "    \n",
    "    # Train the model with fixed hyperparameters\n",
    "    best_gbr_fixed.fit(X_train, y_train)\n",
    "    \n",
    "    # Evaluate the model on the test set\n",
    "    y_pred = best_gbr_fixed.predict(X_test)\n",
    "    mse = mean_squared_error(y_test, y_pred)\n",
    "    r2 = r2_score(y_test, y_pred)\n",
    "    \n",
    "    # Store the evaluation metrics\n",
    "    boot_mse_scores_fixed.append(mse)\n",
    "    boot_r2_scores_fixed.append(r2)\n",
    "\n",
    "# Summary Statistics for Fixed Hyperparameters\n",
    "print(\"Average Bootstrap Mean Squared Error (Fixed Params):\", np.mean(boot_mse_scores_fixed))\n",
    "print(\"Average Bootstrap R^2 Score (Fixed Params):\", np.mean(boot_r2_scores_fixed))"
   ]
  },
  {
   "cell_type": "code",
   "execution_count": 212,
   "metadata": {},
   "outputs": [
    {
     "data": {
      "image/png": "[encoded data removed]",
      "text/plain": [
       "<Figure size 1200x600 with 1 Axes>"
      ]
     },
     "metadata": {},
     "output_type": "display_data"
    }
   ],
   "source": [
    "# Calculate the average R² score\n",
    "average_r2 = np.mean(boot_r2_scores_fixed)\n",
    "\n",
    "# Create histogram with 20 bins\n",
    "bins = np.linspace(min(boot_r2_scores_fixed), max(boot_r2_scores_fixed), 11)  # 21 edges for 20 bins\n",
    "hist, edges = np.histogram(boot_r2_scores_fixed, bins=bins)\n",
    "\n",
    "# Plot histogram\n",
    "plt.figure(figsize=(12, 6))  # Make the chart wider\n",
    "plt.bar(edges[:-1], hist, width=np.diff(edges), align='edge', alpha=0.7, edgecolor='black')\n",
    "\n",
    "# Add a vertical line for the average value\n",
    "plt.axvline(average_r2, color='red', linestyle='--', linewidth=2, label=f'Average R² = {average_r2:.3f}')\n",
    "\n",
    "# Set titles and labels\n",
    "plt.title('Distribution of R^2 Scores for Fixed Hyperparameters')\n",
    "plt.xlabel('R^2 Score')\n",
    "plt.ylabel('Frequency')\n",
    "\n",
    "# Set x-axis tick labels for each bin\n",
    "plt.xticks(edges, rotation=45)\n",
    "\n",
    "# Add a legend\n",
    "plt.legend()\n",
    "\n",
    "# Show the plot\n",
    "plt.tight_layout()\n",
    "plt.show()\n",
    "\n"
   ]
  },
  {
   "cell_type": "code",
   "execution_count": 186,
   "metadata": {},
   "outputs": [],
   "source": [
    "# Save the model to a file\n",
    "with open(EI_MODEL_OUTPUT_PATH, 'wb') as file:\n",
    "    pickle.dump(best_gbr_fixed, file)"
   ]
  }
 ],
 "metadata": {
  "kernelspec": {
   "display_name": "512_proj",
   "language": "python",
   "name": "python3"
  },
  "language_info": {
   "codemirror_mode": {
    "name": "ipython",
    "version": 3
   },
   "file_extension": ".py",
   "mimetype": "text/x-python",
   "name": "python",
   "nbconvert_exporter": "python",
   "pygments_lexer": "ipython3",
   "version": "3.11.10"
  }
 },
 "nbformat": 4,
 "nbformat_minor": 2
}
