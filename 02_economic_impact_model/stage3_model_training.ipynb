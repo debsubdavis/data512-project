{
 "cells": [
  {
   "cell_type": "code",
   "execution_count": 40,
   "metadata": {},
   "outputs": [],
   "source": [
    "import json\n",
    "import pandas as pd\n",
    "import matplotlib.pyplot as plt\n",
    "import numpy as np\n",
    "from sklearn.ensemble import GradientBoostingRegressor\n",
    "import pickle\n",
    "from sklearn.model_selection import train_test_split, KFold, cross_val_score, GridSearchCV\n",
    "from sklearn.utils import resample"
   ]
  },
  {
   "cell_type": "markdown",
   "metadata": {},
   "source": [
    "# Load in all the Data"
   ]
  },
  {
   "cell_type": "code",
   "execution_count": 41,
   "metadata": {},
   "outputs": [],
   "source": [
    "with open('ei_intermediate_file_paths.json') as file_path_file:\n",
    "    file_paths = json.load(file_path_file)\n",
    "\n",
    "\n",
    "SI_HISTORICAL_INPUT_PATH = file_paths.get(\"historical_si_per_year_csv\")\n",
    "\n",
    "NOAA_BLS_MERGED_INPUT_PATH = file_paths.get(\"stage2_fs_merged_output.csv\")\n",
    "\n",
    "EI_MODEL_OUTPUT_PATH = file_paths.get(\"ei_model_output\")"
   ]
  },
  {
   "cell_type": "code",
   "execution_count": 42,
   "metadata": {},
   "outputs": [],
   "source": [
    "# Load dataset\n",
    "si_historical_df = pd.read_csv(SI_HISTORICAL_INPUT_PATH)\n",
    "\n",
    "noaa_bls_df = pd.read_csv(NOAA_BLS_MERGED_INPUT_PATH)"
   ]
  },
  {
   "cell_type": "markdown",
   "metadata": {},
   "source": [
    "## Review the Smoke Impact Data"
   ]
  },
  {
   "cell_type": "code",
   "execution_count": 43,
   "metadata": {},
   "outputs": [
    {
     "name": "stdout",
     "output_type": "stream",
     "text": [
      "   year  fire_year  total_amortized_smoke_impact  total_fire_duration  \\\n",
      "0  1961        NaN                           NaN                  NaN   \n",
      "1  1962        NaN                           NaN                  NaN   \n",
      "2  1963        NaN                           NaN                  NaN   \n",
      "3  1964     1964.0                  7.432192e-07            10.002545   \n",
      "4  1965     1965.0                  1.181915e-06            30.003913   \n",
      "\n",
      "   total_acres_burned  avg_daily_smoke_impact  scaled_avg_daily_smoke_impact  \n",
      "0                 NaN                     NaN                            NaN  \n",
      "1                 NaN                     NaN                            NaN  \n",
      "2                 NaN                     NaN                            NaN  \n",
      "3           28.468121            7.430301e-08                        0.74303  \n",
      "4           43.781494            3.939202e-08                        0.39392  \n"
     ]
    }
   ],
   "source": [
    "print(si_historical_df.head(5))"
   ]
  },
  {
   "cell_type": "code",
   "execution_count": 44,
   "metadata": {},
   "outputs": [
    {
     "name": "stdout",
     "output_type": "stream",
     "text": [
      "Column names:\n",
      " Index(['year', 'fire_year', 'total_amortized_smoke_impact',\n",
      "       'total_fire_duration', 'total_acres_burned', 'avg_daily_smoke_impact',\n",
      "       'scaled_avg_daily_smoke_impact'],\n",
      "      dtype='object')\n",
      "Data types of columns:\n",
      " year                               int64\n",
      "fire_year                        float64\n",
      "total_amortized_smoke_impact     float64\n",
      "total_fire_duration              float64\n",
      "total_acres_burned               float64\n",
      "avg_daily_smoke_impact           float64\n",
      "scaled_avg_daily_smoke_impact    float64\n",
      "dtype: object\n",
      "Number of rows: 61\n"
     ]
    }
   ],
   "source": [
    "# List all column names\n",
    "columns = si_historical_df.columns\n",
    "print(\"Column names:\\n\", columns)\n",
    "\n",
    "# Check data types of each column\n",
    "data_types = si_historical_df.dtypes\n",
    "print(\"Data types of columns:\\n\", data_types)\n",
    "\n",
    "# Find out the number of rows in the dataset\n",
    "num_rows = len(si_historical_df)\n",
    "print(\"Number of rows:\", num_rows)"
   ]
  },
  {
   "cell_type": "markdown",
   "metadata": {},
   "source": [
    "## Review the BLS and NOAA Data"
   ]
  },
  {
   "cell_type": "code",
   "execution_count": 45,
   "metadata": {},
   "outputs": [
    {
     "name": "stdout",
     "output_type": "stream",
     "text": [
      "         date    bls_date  bls_curr_sae_hrs  bls_curr_laus_labor_force  \\\n",
      "0  2009-09-01  2009-09-01              36.8                   421301.0   \n",
      "1  2009-10-01  2009-10-01              36.7                   422913.0   \n",
      "2  2010-05-01  2010-05-01              38.0                   415895.0   \n",
      "3  2010-06-01  2010-06-01              37.9                   421034.0   \n",
      "4  2010-07-01  2010-07-01              37.4                   423239.0   \n",
      "\n",
      "   bls_curr_laus_unemployment_rate  bls_prev_yr_sae_hrs  \\\n",
      "0                              9.1                 37.4   \n",
      "1                              8.8                 37.0   \n",
      "2                              8.2                 37.4   \n",
      "3                              8.7                 37.9   \n",
      "4                              8.4                 37.1   \n",
      "\n",
      "   bls_prev_yr_laus_labor_force  bls_prev_yr_laus_unemployment_rate  \\\n",
      "0                      427171.0                                 5.8   \n",
      "1                      431740.0                                 5.7   \n",
      "2                      420518.0                                 8.8   \n",
      "3                      428844.0                                 9.6   \n",
      "4                      428604.0                                 9.4   \n",
      "\n",
      "   bls_pct_diff_sae_hrs  bls_pct_diff_laus_labor_force  \\\n",
      "0             -1.604278                      -1.374157   \n",
      "1             -0.810811                      -2.044518   \n",
      "2              1.604278                      -1.099358   \n",
      "3              0.000000                      -1.821175   \n",
      "4              0.808625                      -1.251738   \n",
      "\n",
      "   bls_pct_diff_laus_unemployment_rate                             noaa_name  \\\n",
      "0                            56.896552  MEMPHIS INTERNATIONAL AIRPORT, TN US   \n",
      "1                            54.385965  MEMPHIS INTERNATIONAL AIRPORT, TN US   \n",
      "2                            -6.818182  MEMPHIS INTERNATIONAL AIRPORT, TN US   \n",
      "3                            -9.375000  MEMPHIS INTERNATIONAL AIRPORT, TN US   \n",
      "4                           -10.638298  MEMPHIS INTERNATIONAL AIRPORT, TN US   \n",
      "\n",
      "    noaa_date  noaa_tavg  noaa_tmax  noaa_tmin  noaa_prcp  \n",
      "0  2009-09-01       75.7       83.4       68.0       8.60  \n",
      "1  2009-10-01       60.7       69.0       52.5      10.55  \n",
      "2  2010-05-01       74.2       83.2       65.1       9.26  \n",
      "3  2010-06-01       84.6       93.6       75.6       0.31  \n",
      "4  2010-07-01       84.9       93.8       75.9       6.30  \n"
     ]
    }
   ],
   "source": [
    "print(noaa_bls_df.head(5))"
   ]
  },
  {
   "cell_type": "code",
   "execution_count": 46,
   "metadata": {},
   "outputs": [
    {
     "name": "stdout",
     "output_type": "stream",
     "text": [
      "Column names:\n",
      " Index(['date', 'bls_date', 'bls_curr_sae_hrs', 'bls_curr_laus_labor_force',\n",
      "       'bls_curr_laus_unemployment_rate', 'bls_prev_yr_sae_hrs',\n",
      "       'bls_prev_yr_laus_labor_force', 'bls_prev_yr_laus_unemployment_rate',\n",
      "       'bls_pct_diff_sae_hrs', 'bls_pct_diff_laus_labor_force',\n",
      "       'bls_pct_diff_laus_unemployment_rate', 'noaa_name', 'noaa_date',\n",
      "       'noaa_tavg', 'noaa_tmax', 'noaa_tmin', 'noaa_prcp'],\n",
      "      dtype='object')\n",
      "Data types of columns:\n",
      " date                                    object\n",
      "bls_date                                object\n",
      "bls_curr_sae_hrs                       float64\n",
      "bls_curr_laus_labor_force              float64\n",
      "bls_curr_laus_unemployment_rate        float64\n",
      "bls_prev_yr_sae_hrs                    float64\n",
      "bls_prev_yr_laus_labor_force           float64\n",
      "bls_prev_yr_laus_unemployment_rate     float64\n",
      "bls_pct_diff_sae_hrs                   float64\n",
      "bls_pct_diff_laus_labor_force          float64\n",
      "bls_pct_diff_laus_unemployment_rate    float64\n",
      "noaa_name                               object\n",
      "noaa_date                               object\n",
      "noaa_tavg                              float64\n",
      "noaa_tmax                              float64\n",
      "noaa_tmin                              float64\n",
      "noaa_prcp                              float64\n",
      "dtype: object\n",
      "Number of rows: 91\n"
     ]
    }
   ],
   "source": [
    "# List all column names\n",
    "noaa_bls_columns = noaa_bls_df.columns\n",
    "print(\"Column names:\\n\", noaa_bls_columns)\n",
    "\n",
    "# Check data types of each column\n",
    "noaa_bls_data_types = noaa_bls_df.dtypes\n",
    "print(\"Data types of columns:\\n\", noaa_bls_data_types)\n",
    "\n",
    "# Find out the number of rows in the dataset\n",
    "noaa_bls_num_rows = len(noaa_bls_df)\n",
    "print(\"Number of rows:\", noaa_bls_num_rows)"
   ]
  },
  {
   "cell_type": "markdown",
   "metadata": {},
   "source": [
    "## Merge the Data"
   ]
  },
  {
   "cell_type": "code",
   "execution_count": 47,
   "metadata": {},
   "outputs": [],
   "source": [
    "# Ensure the date columns are in datetime format for NOAA/BLS dataset\n",
    "noaa_bls_df['date'] = pd.to_datetime(noaa_bls_df['date'])\n",
    "\n",
    "# Repeat the 'scaled_avg_daily_smoke_impact' value for each month in the year\n",
    "# Create a new 'year' column in NOAA/BLS dataset to merge with SI historical data\n",
    "noaa_bls_df['year'] = noaa_bls_df['date'].dt.year"
   ]
  },
  {
   "cell_type": "code",
   "execution_count": 48,
   "metadata": {},
   "outputs": [],
   "source": [
    "merged_df = pd.merge(\n",
    "    noaa_bls_df[['date', 'year', 'noaa_tavg', 'noaa_prcp', 'bls_pct_diff_sae_hrs', 'bls_pct_diff_laus_labor_force', 'bls_pct_diff_laus_unemployment_rate']],\n",
    "    si_historical_df[['year', 'scaled_avg_daily_smoke_impact']],\n",
    "    on='year',\n",
    "    how='left'\n",
    ")\n",
    "\n",
    "# Drop the 'year' column as it's no longer needed\n",
    "merged_df = merged_df.drop(columns=['year'])\n",
    "\n"
   ]
  },
  {
   "cell_type": "code",
   "execution_count": 49,
   "metadata": {},
   "outputs": [
    {
     "name": "stdout",
     "output_type": "stream",
     "text": [
      "         date  noaa_tavg  noaa_prcp  bls_pct_diff_sae_hrs  \\\n",
      "0  2009-09-01       75.7       8.60             -1.604278   \n",
      "1  2009-10-01       60.7      10.55             -0.810811   \n",
      "2  2010-05-01       74.2       9.26              1.604278   \n",
      "3  2010-06-01       84.6       0.31              0.000000   \n",
      "4  2010-07-01       84.9       6.30              0.808625   \n",
      "5  2010-08-01       86.6       2.32             -0.534759   \n",
      "6  2010-09-01       79.2       0.15              0.000000   \n",
      "7  2010-10-01       66.1       2.04              0.544959   \n",
      "8  2011-05-01       70.2       7.12             -1.578947   \n",
      "9  2011-06-01       83.7       3.56             -1.583113   \n",
      "10 2011-07-01       86.0       2.95             -1.604278   \n",
      "11 2011-08-01       83.9       3.08             -0.268817   \n",
      "12 2011-09-01       73.3       2.56              0.543478   \n",
      "13 2011-10-01       62.7       1.28              0.813008   \n",
      "14 2012-05-01       76.3       3.18             -2.673797   \n",
      "15 2012-06-01       80.2       1.38             -1.072386   \n",
      "16 2012-07-01       85.4       2.26             -1.086957   \n",
      "17 2012-08-01       82.7       2.64             -1.347709   \n",
      "\n",
      "    bls_pct_diff_laus_labor_force  bls_pct_diff_laus_unemployment_rate  \\\n",
      "0                       -1.374157                            56.896552   \n",
      "1                       -2.044518                            54.385965   \n",
      "2                       -1.099358                            -6.818182   \n",
      "3                       -1.821175                            -9.375000   \n",
      "4                       -1.251738                           -10.638298   \n",
      "5                       -0.755439                            -9.677419   \n",
      "6                       -0.780440                           -12.087912   \n",
      "7                       -1.612388                            -7.954545   \n",
      "8                        0.743697                            -3.658537   \n",
      "9                        0.931754                             0.000000   \n",
      "10                       0.094273                            -1.190476   \n",
      "11                       0.054115                            -3.571429   \n",
      "12                       0.172483                            -1.250000   \n",
      "13                       0.170394                            -8.641975   \n",
      "14                      -1.531309                           -11.392405   \n",
      "15                      -1.341783                           -10.344828   \n",
      "16                      -1.344544                            -6.024096   \n",
      "17                      -1.997370                            -8.641975   \n",
      "\n",
      "    scaled_avg_daily_smoke_impact  \n",
      "0                       38.878935  \n",
      "1                       38.878935  \n",
      "2                       30.398554  \n",
      "3                       30.398554  \n",
      "4                       30.398554  \n",
      "5                       30.398554  \n",
      "6                       30.398554  \n",
      "7                       30.398554  \n",
      "8                       27.660410  \n",
      "9                       27.660410  \n",
      "10                      27.660410  \n",
      "11                      27.660410  \n",
      "12                      27.660410  \n",
      "13                      27.660410  \n",
      "14                      29.147812  \n",
      "15                      29.147812  \n",
      "16                      29.147812  \n",
      "17                      29.147812  \n"
     ]
    }
   ],
   "source": [
    "# Display the merged dataset\n",
    "print(merged_df.head(18))"
   ]
  }
 ],
 "metadata": {
  "kernelspec": {
   "display_name": "512_proj",
   "language": "python",
   "name": "python3"
  },
  "language_info": {
   "codemirror_mode": {
    "name": "ipython",
    "version": 3
   },
   "file_extension": ".py",
   "mimetype": "text/x-python",
   "name": "python",
   "nbconvert_exporter": "python",
   "pygments_lexer": "ipython3",
   "version": "3.11.10"
  }
 },
 "nbformat": 4,
 "nbformat_minor": 2
}
