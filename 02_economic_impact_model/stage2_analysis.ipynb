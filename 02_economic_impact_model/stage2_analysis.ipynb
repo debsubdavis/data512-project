{
 "cells": [
  {
   "cell_type": "code",
   "execution_count": 24,
   "metadata": {},
   "outputs": [],
   "source": [
    "import json\n",
    "import pandas as pd"
   ]
  },
  {
   "cell_type": "code",
   "execution_count": 25,
   "metadata": {},
   "outputs": [],
   "source": [
    "with open('ei_intermediate_file_paths.json') as output_path_file:\n",
    "    file_paths = json.load(output_path_file)\n",
    "\n",
    "NOAA_PROCCESSED_INPUT_PATH = file_paths.get(\"stage1_noaa_output.csv\")\n",
    "\n",
    "BLS_PROCESSED_INPUT_PATH = file_paths.get(\"stage1_bls_output.csv\")"
   ]
  },
  {
   "cell_type": "code",
   "execution_count": 26,
   "metadata": {},
   "outputs": [],
   "source": [
    "# Load the datasets into dataframes\n",
    "noaa_df = pd.read_csv(NOAA_PROCCESSED_INPUT_PATH)\n",
    "bls_df = pd.read_csv(BLS_PROCESSED_INPUT_PATH)"
   ]
  },
  {
   "cell_type": "code",
   "execution_count": 27,
   "metadata": {},
   "outputs": [
    {
     "name": "stdout",
     "output_type": "stream",
     "text": [
      "First rows of BLS Dataset\n",
      "         date  curr_sae_hrs  curr_laus_labor_force  \\\n",
      "0  2024-12-01           NaN                    NaN   \n",
      "1  2024-11-01           NaN                    NaN   \n",
      "2  2024-10-01           NaN                    NaN   \n",
      "3  2024-09-01          36.0               449955.0   \n",
      "4  2024-08-01          36.2               449065.0   \n",
      "\n",
      "   curr_laus_unemployment_rate  prev_yr_sae_hrs  prev_yr_laus_labor_force  \\\n",
      "0                          NaN             36.0                       NaN   \n",
      "1                          NaN             35.5                       NaN   \n",
      "2                          NaN             35.9                       NaN   \n",
      "3                          3.3             35.9                  442970.0   \n",
      "4                          3.2             36.5                  440564.0   \n",
      "\n",
      "   prev_yr_laus_unemployment_rate  pct_diff_sae_hrs  \\\n",
      "0                             NaN               NaN   \n",
      "1                             NaN               NaN   \n",
      "2                             NaN               NaN   \n",
      "3                             3.1          0.278552   \n",
      "4                             3.2         -0.821918   \n",
      "\n",
      "   pct_diff_laus_labor_force  pct_diff_laus_unemployment_rate  \n",
      "0                        NaN                              NaN  \n",
      "1                        NaN                              NaN  \n",
      "2                        NaN                              NaN  \n",
      "3                   1.576856                         6.451613  \n",
      "4                   1.929572                         0.000000  \n"
     ]
    }
   ],
   "source": [
    "print(\"First rows of BLS Dataset\")\n",
    "print(bls_df.head(5))"
   ]
  },
  {
   "cell_type": "code",
   "execution_count": 28,
   "metadata": {},
   "outputs": [
    {
     "name": "stdout",
     "output_type": "stream",
     "text": [
      "BLS Columns\n",
      "Index(['date', 'curr_sae_hrs', 'curr_laus_labor_force',\n",
      "       'curr_laus_unemployment_rate', 'prev_yr_sae_hrs',\n",
      "       'prev_yr_laus_labor_force', 'prev_yr_laus_unemployment_rate',\n",
      "       'pct_diff_sae_hrs', 'pct_diff_laus_labor_force',\n",
      "       'pct_diff_laus_unemployment_rate'],\n",
      "      dtype='object')\n",
      "Number of rows in BLS Dataset: 216\n"
     ]
    }
   ],
   "source": [
    "print(\"BLS Columns\")\n",
    "print(bls_df.columns)\n",
    "\n",
    "\n",
    "bls_num_rows = bls_df.shape[0]\n",
    "print(f\"Number of rows in BLS Dataset: {bls_num_rows}\")"
   ]
  },
  {
   "cell_type": "code",
   "execution_count": 29,
   "metadata": {},
   "outputs": [
    {
     "name": "stdout",
     "output_type": "stream",
     "text": [
      "First rows of the NOAA Dataset\n",
      "                                   NAME        DATE  TAVG  TMAX  TMIN   PRCP\n",
      "0  MEMPHIS INTERNATIONAL AIRPORT, TN US  2009-09-01  75.7  83.4  68.0   8.60\n",
      "1  MEMPHIS INTERNATIONAL AIRPORT, TN US  2009-10-01  60.7  69.0  52.5  10.55\n",
      "2  MEMPHIS INTERNATIONAL AIRPORT, TN US  2009-11-01  55.1  65.1  45.1   1.37\n",
      "3  MEMPHIS INTERNATIONAL AIRPORT, TN US  2009-12-01  40.9  48.3  33.5   5.13\n",
      "4  MEMPHIS INTERNATIONAL AIRPORT, TN US  2010-01-01  37.1  45.2  29.0   3.93\n",
      "\n",
      "Column names in NOAA dataset:\n",
      "Index(['NAME', 'DATE', 'TAVG', 'TMAX', 'TMIN', 'PRCP'], dtype='object')\n",
      "Number of rows in NOAA Dataset: 181\n"
     ]
    }
   ],
   "source": [
    "print(\"First rows of the NOAA Dataset\")\n",
    "print(noaa_df.head(5))\n",
    "\n",
    "print(\"\\nColumn names in NOAA dataset:\")\n",
    "print(noaa_df.columns)\n",
    "\n",
    "\n",
    "noaa_num_rows = noaa_df.shape[0]\n",
    "print(f\"Number of rows in NOAA Dataset: {noaa_num_rows}\")"
   ]
  }
 ],
 "metadata": {
  "kernelspec": {
   "display_name": "512_proj",
   "language": "python",
   "name": "python3"
  },
  "language_info": {
   "codemirror_mode": {
    "name": "ipython",
    "version": 3
   },
   "file_extension": ".py",
   "mimetype": "text/x-python",
   "name": "python",
   "nbconvert_exporter": "python",
   "pygments_lexer": "ipython3",
   "version": "3.11.10"
  }
 },
 "nbformat": 4,
 "nbformat_minor": 2
}
