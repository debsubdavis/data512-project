{
 "cells": [
  {
   "cell_type": "code",
   "execution_count": 60,
   "metadata": {},
   "outputs": [],
   "source": [
    "import json\n",
    "import pandas as pd\n",
    "import matplotlib.pyplot as plt\n",
    "import numpy as np\n",
    "import pickle"
   ]
  },
  {
   "cell_type": "code",
   "execution_count": 61,
   "metadata": {},
   "outputs": [],
   "source": [
    "with open('ei_intermediate_file_paths.json') as file_path_file:\n",
    "    file_paths = json.load(file_path_file)\n",
    "\n",
    "\n",
    "SI_PREDS_INPUT_PATH = file_paths.get(\"smoke_impact_model_predictions.csv\")\n",
    "NOAA_BLS_MERGED_INPUT_PATH = file_paths.get(\"stage2_fs_merged_output.csv\")\n",
    "EI_MODEL_INPUT_PATH = file_paths.get(\"ei_model_output\")\n",
    "\n",
    "EI_PREDS_OUTPUT_PATH = file_paths.get(\"economic_impact_model_predictions.csv\")"
   ]
  },
  {
   "cell_type": "code",
   "execution_count": 62,
   "metadata": {},
   "outputs": [],
   "source": [
    "# Load dataset\n",
    "si_preds_df = pd.read_csv(SI_PREDS_INPUT_PATH)\n",
    "\n",
    "noaa_bls_historical_df = pd.read_csv(NOAA_BLS_MERGED_INPUT_PATH)"
   ]
  },
  {
   "cell_type": "code",
   "execution_count": 63,
   "metadata": {},
   "outputs": [
    {
     "name": "stdout",
     "output_type": "stream",
     "text": [
      "   year  predicted_total_acres_burned  predicted_avg_distance  \\\n",
      "0  2021                  2.351687e+06              359.010931   \n",
      "1  2022                  2.351687e+06              359.010931   \n",
      "2  2023                  2.351687e+06              359.010931   \n",
      "3  2024                  2.351687e+06              359.010931   \n",
      "4  2025                  2.351687e+06              359.010931   \n",
      "\n",
      "   total_acres_burned_normalized  distance_normalized  \\\n",
      "0                       0.483929             0.552325   \n",
      "1                       0.483929             0.552325   \n",
      "2                       0.483929             0.552325   \n",
      "3                       0.483929             0.552325   \n",
      "4                       0.483929             0.552325   \n",
      "\n",
      "   total_acres_burned_weighted  distance_weighted  predicted_smoke_impact  \n",
      "0                     0.483929           0.552325               35.208975  \n",
      "1                     0.483929           0.552325               35.208975  \n",
      "2                     0.483929           0.552325               35.208975  \n",
      "3                     0.483929           0.552325               35.208975  \n",
      "4                     0.483929           0.552325               35.208975  \n",
      "Index(['year', 'predicted_total_acres_burned', 'predicted_avg_distance',\n",
      "       'total_acres_burned_normalized', 'distance_normalized',\n",
      "       'total_acres_burned_weighted', 'distance_weighted',\n",
      "       'predicted_smoke_impact'],\n",
      "      dtype='object')\n"
     ]
    }
   ],
   "source": [
    "print(si_preds_df.head(5))\n",
    "\n",
    "print(si_preds_df.columns)"
   ]
  },
  {
   "cell_type": "code",
   "execution_count": 64,
   "metadata": {},
   "outputs": [
    {
     "name": "stdout",
     "output_type": "stream",
     "text": [
      "         date    bls_date  bls_curr_sae_hrs  bls_curr_laus_labor_force  \\\n",
      "0  2009-09-01  2009-09-01              36.8                   421301.0   \n",
      "1  2009-10-01  2009-10-01              36.7                   422913.0   \n",
      "2  2010-05-01  2010-05-01              38.0                   415895.0   \n",
      "3  2010-06-01  2010-06-01              37.9                   421034.0   \n",
      "4  2010-07-01  2010-07-01              37.4                   423239.0   \n",
      "\n",
      "   bls_curr_laus_unemployment_rate  bls_prev_yr_sae_hrs  \\\n",
      "0                              9.1                 37.4   \n",
      "1                              8.8                 37.0   \n",
      "2                              8.2                 37.4   \n",
      "3                              8.7                 37.9   \n",
      "4                              8.4                 37.1   \n",
      "\n",
      "   bls_prev_yr_laus_labor_force  bls_prev_yr_laus_unemployment_rate  \\\n",
      "0                      427171.0                                 5.8   \n",
      "1                      431740.0                                 5.7   \n",
      "2                      420518.0                                 8.8   \n",
      "3                      428844.0                                 9.6   \n",
      "4                      428604.0                                 9.4   \n",
      "\n",
      "   bls_pct_diff_sae_hrs  bls_pct_diff_laus_labor_force  \\\n",
      "0             -1.604278                      -1.374157   \n",
      "1             -0.810811                      -2.044518   \n",
      "2              1.604278                      -1.099358   \n",
      "3              0.000000                      -1.821175   \n",
      "4              0.808625                      -1.251738   \n",
      "\n",
      "   bls_pct_diff_laus_unemployment_rate                             noaa_name  \\\n",
      "0                            56.896552  MEMPHIS INTERNATIONAL AIRPORT, TN US   \n",
      "1                            54.385965  MEMPHIS INTERNATIONAL AIRPORT, TN US   \n",
      "2                            -6.818182  MEMPHIS INTERNATIONAL AIRPORT, TN US   \n",
      "3                            -9.375000  MEMPHIS INTERNATIONAL AIRPORT, TN US   \n",
      "4                           -10.638298  MEMPHIS INTERNATIONAL AIRPORT, TN US   \n",
      "\n",
      "    noaa_date  noaa_tavg  noaa_tmax  noaa_tmin  noaa_prcp  \n",
      "0  2009-09-01       75.7       83.4       68.0       8.60  \n",
      "1  2009-10-01       60.7       69.0       52.5      10.55  \n",
      "2  2010-05-01       74.2       83.2       65.1       9.26  \n",
      "3  2010-06-01       84.6       93.6       75.6       0.31  \n",
      "4  2010-07-01       84.9       93.8       75.9       6.30  \n",
      "Index(['date', 'bls_date', 'bls_curr_sae_hrs', 'bls_curr_laus_labor_force',\n",
      "       'bls_curr_laus_unemployment_rate', 'bls_prev_yr_sae_hrs',\n",
      "       'bls_prev_yr_laus_labor_force', 'bls_prev_yr_laus_unemployment_rate',\n",
      "       'bls_pct_diff_sae_hrs', 'bls_pct_diff_laus_labor_force',\n",
      "       'bls_pct_diff_laus_unemployment_rate', 'noaa_name', 'noaa_date',\n",
      "       'noaa_tavg', 'noaa_tmax', 'noaa_tmin', 'noaa_prcp'],\n",
      "      dtype='object')\n"
     ]
    }
   ],
   "source": [
    "print(noaa_bls_historical_df.head(5))\n",
    "\n",
    "print(noaa_bls_historical_df.columns)"
   ]
  },
  {
   "cell_type": "code",
   "execution_count": 65,
   "metadata": {},
   "outputs": [],
   "source": [
    "# Convert the date column to datetime and extract month and year\n",
    "noaa_bls_historical_df['date'] = pd.to_datetime(noaa_bls_historical_df['date'])\n",
    "noaa_bls_historical_df['month'] = noaa_bls_historical_df['date'].dt.month\n",
    "noaa_bls_historical_df['year'] = noaa_bls_historical_df['date'].dt.year\n",
    "\n",
    "# Calculate 5-year rolling averages for each variable, considering only data from May to October for each year\n",
    "noaa_bls_historical_df = noaa_bls_historical_df[noaa_bls_historical_df['month'].isin([5, 6, 7, 8, 9, 10])]\n",
    "\n",
    "# Select relevant columns for grouping\n",
    "group_columns = ['year', 'noaa_tavg', 'noaa_prcp', 'bls_pct_diff_sae_hrs', 'bls_pct_diff_laus_labor_force']\n",
    "noaa_bls_historical_df = noaa_bls_historical_df[group_columns]\n",
    "\n",
    "yearly_avg_df = noaa_bls_historical_df.groupby('year').mean().reset_index()"
   ]
  },
  {
   "cell_type": "code",
   "execution_count": 66,
   "metadata": {},
   "outputs": [
    {
     "name": "stdout",
     "output_type": "stream",
     "text": [
      "    year  predicted_tavg  predicted_prcp  predicted_pct_diff_sae_hrs  \\\n",
      "0   2025       77.032000        3.991200                   -0.176528   \n",
      "1   2026       77.032000        3.991200                   -0.176528   \n",
      "2   2027       77.032000        3.991200                   -0.176528   \n",
      "3   2028       77.032000        3.991200                   -0.176528   \n",
      "4   2029       77.032000        3.991200                   -0.176528   \n",
      "5   2030       77.428400        4.129440                   -0.351152   \n",
      "6   2031       77.428400        4.129440                   -0.351152   \n",
      "7   2032       77.428400        4.129440                   -0.351152   \n",
      "8   2033       77.428400        4.129440                   -0.351152   \n",
      "9   2034       77.428400        4.129440                   -0.351152   \n",
      "10  2035       77.687413        4.165328                   -0.671072   \n",
      "11  2036       77.687413        4.165328                   -0.671072   \n",
      "12  2037       77.687413        4.165328                   -0.671072   \n",
      "13  2038       77.687413        4.165328                   -0.671072   \n",
      "14  2039       77.687413        4.165328                   -0.671072   \n",
      "15  2040       77.608229        4.259060                   -0.808175   \n",
      "16  2041       77.608229        4.259060                   -0.808175   \n",
      "17  2042       77.608229        4.259060                   -0.808175   \n",
      "18  2043       77.608229        4.259060                   -0.808175   \n",
      "19  2044       77.608229        4.259060                   -0.808175   \n",
      "20  2045       77.743209        4.374206                   -0.565467   \n",
      "21  2046       77.743209        4.374206                   -0.565467   \n",
      "22  2047       77.743209        4.374206                   -0.565467   \n",
      "23  2048       77.743209        4.374206                   -0.565467   \n",
      "24  2049       77.743209        4.374206                   -0.565467   \n",
      "25  2050       77.499850        4.183847                   -0.514479   \n",
      "\n",
      "    predicted_pct_diff_labor_force  \n",
      "0                         0.749384  \n",
      "1                         0.749384  \n",
      "2                         0.749384  \n",
      "3                         0.749384  \n",
      "4                         0.749384  \n",
      "5                         1.337967  \n",
      "6                         1.337967  \n",
      "7                         1.337967  \n",
      "8                         1.337967  \n",
      "9                         1.337967  \n",
      "10                        1.169632  \n",
      "11                        1.169632  \n",
      "12                        1.169632  \n",
      "13                        1.169632  \n",
      "14                        1.169632  \n",
      "15                        1.021229  \n",
      "16                        1.021229  \n",
      "17                        1.021229  \n",
      "18                        1.021229  \n",
      "19                        1.021229  \n",
      "20                        1.039338  \n",
      "21                        1.039338  \n",
      "22                        1.039338  \n",
      "23                        1.039338  \n",
      "24                        1.039338  \n",
      "25                        1.063510  \n"
     ]
    }
   ],
   "source": [
    "yearly_avg_df['5yr_avg_tavg'] = yearly_avg_df['noaa_tavg'].rolling(window=5, min_periods=1).mean()\n",
    "yearly_avg_df['5yr_avg_prcp'] = yearly_avg_df['noaa_prcp'].rolling(window=5, min_periods=1).mean()\n",
    "yearly_avg_df['5yr_avg_pct_diff_sae_hrs'] = yearly_avg_df['bls_pct_diff_sae_hrs'].rolling(window=5, min_periods=1).mean()\n",
    "yearly_avg_df['5yr_avg_pct_diff_labor_force'] = yearly_avg_df['bls_pct_diff_laus_labor_force'].rolling(window=5, min_periods=1).mean()\n",
    "\n",
    "# Initialize a DataFrame to hold predictions for each year from 2025 to 2050\n",
    "future_years = range(2025, 2051)\n",
    "future_predictions = pd.DataFrame({\n",
    "    'year': future_years,\n",
    "    'predicted_tavg': np.nan,\n",
    "    'predicted_prcp': np.nan,\n",
    "    'predicted_pct_diff_sae_hrs': np.nan,\n",
    "    'predicted_pct_diff_labor_force': np.nan\n",
    "})\n",
    "\n",
    "# Copy historical data into a temporary DataFrame to simulate adding future data\n",
    "temp_data = yearly_avg_df.copy()\n",
    "\n",
    "# Set the 5-year recalculation cycle\n",
    "cycle_length = 5\n",
    "\n",
    "# Loop through each year in the forecast period, applying 5-year recalculations\n",
    "for i, year in enumerate(future_years):\n",
    "    # Assign predictions for this year based on the latest 5-year averages\n",
    "    future_predictions.loc[i, 'predicted_tavg'] = temp_data['5yr_avg_tavg'].iloc[-1]\n",
    "    future_predictions.loc[i, 'predicted_prcp'] = temp_data['5yr_avg_prcp'].iloc[-1]\n",
    "    future_predictions.loc[i, 'predicted_pct_diff_sae_hrs'] = temp_data['5yr_avg_pct_diff_sae_hrs'].iloc[-1]\n",
    "    future_predictions.loc[i, 'predicted_pct_diff_labor_force'] = temp_data['5yr_avg_pct_diff_labor_force'].iloc[-1]\n",
    "\n",
    "    # Every 5 years, update rolling averages using the latest values\n",
    "    if (i + 1) % cycle_length == 0:\n",
    "        # Create a new row for the latest predictions as \"historical\" data\n",
    "        new_row = pd.DataFrame({\n",
    "            'year': [year],\n",
    "            'noaa_tavg': [future_predictions.loc[i, 'predicted_tavg']],\n",
    "            'noaa_prcp': [future_predictions.loc[i, 'predicted_prcp']],\n",
    "            'bls_pct_diff_sae_hrs': [future_predictions.loc[i, 'predicted_pct_diff_sae_hrs']],\n",
    "            'bls_pct_diff_laus_labor_force': [future_predictions.loc[i, 'predicted_pct_diff_labor_force']]\n",
    "        })\n",
    "        \n",
    "        # Concatenate the new row to `temp_data`\n",
    "        temp_data = pd.concat([temp_data, new_row], ignore_index=True)\n",
    "\n",
    "        # Recalculate the 5-year rolling averages on the updated data\n",
    "        temp_data['5yr_avg_tavg'] = temp_data['noaa_tavg'].rolling(window=5, min_periods=1).mean()\n",
    "        temp_data['5yr_avg_prcp'] = temp_data['noaa_prcp'].rolling(window=5, min_periods=1).mean()\n",
    "        temp_data['5yr_avg_pct_diff_sae_hrs'] = temp_data['bls_pct_diff_sae_hrs'].rolling(window=5, min_periods=1).mean()\n",
    "        temp_data['5yr_avg_pct_diff_labor_force'] = temp_data['bls_pct_diff_laus_labor_force'].rolling(window=5, min_periods=1).mean()\n",
    "\n",
    "# Display the updated predictions with 5-year interval adjustments\n",
    "print(future_predictions)\n"
   ]
  },
  {
   "cell_type": "code",
   "execution_count": 67,
   "metadata": {},
   "outputs": [],
   "source": [
    "future_predictions = future_predictions.merge(si_preds_df[['year', 'predicted_smoke_impact']], on='year', how='left')"
   ]
  },
  {
   "cell_type": "code",
   "execution_count": 68,
   "metadata": {},
   "outputs": [
    {
     "name": "stdout",
     "output_type": "stream",
     "text": [
      "    year  predicted_tavg  predicted_prcp  predicted_pct_diff_sae_hrs  \\\n",
      "0   2025       77.032000        3.991200                   -0.176528   \n",
      "1   2026       77.032000        3.991200                   -0.176528   \n",
      "2   2027       77.032000        3.991200                   -0.176528   \n",
      "3   2028       77.032000        3.991200                   -0.176528   \n",
      "4   2029       77.032000        3.991200                   -0.176528   \n",
      "5   2030       77.428400        4.129440                   -0.351152   \n",
      "6   2031       77.428400        4.129440                   -0.351152   \n",
      "7   2032       77.428400        4.129440                   -0.351152   \n",
      "8   2033       77.428400        4.129440                   -0.351152   \n",
      "9   2034       77.428400        4.129440                   -0.351152   \n",
      "10  2035       77.687413        4.165328                   -0.671072   \n",
      "11  2036       77.687413        4.165328                   -0.671072   \n",
      "12  2037       77.687413        4.165328                   -0.671072   \n",
      "13  2038       77.687413        4.165328                   -0.671072   \n",
      "14  2039       77.687413        4.165328                   -0.671072   \n",
      "15  2040       77.608229        4.259060                   -0.808175   \n",
      "16  2041       77.608229        4.259060                   -0.808175   \n",
      "17  2042       77.608229        4.259060                   -0.808175   \n",
      "18  2043       77.608229        4.259060                   -0.808175   \n",
      "19  2044       77.608229        4.259060                   -0.808175   \n",
      "20  2045       77.743209        4.374206                   -0.565467   \n",
      "21  2046       77.743209        4.374206                   -0.565467   \n",
      "22  2047       77.743209        4.374206                   -0.565467   \n",
      "23  2048       77.743209        4.374206                   -0.565467   \n",
      "24  2049       77.743209        4.374206                   -0.565467   \n",
      "25  2050       77.499850        4.183847                   -0.514479   \n",
      "\n",
      "    predicted_pct_diff_labor_force  predicted_smoke_impact  \n",
      "0                         0.749384               35.208975  \n",
      "1                         0.749384               31.384901  \n",
      "2                         0.749384               31.384901  \n",
      "3                         0.749384               31.384901  \n",
      "4                         0.749384               31.384901  \n",
      "5                         1.337967               31.384901  \n",
      "6                         1.337967               31.384901  \n",
      "7                         1.337967               31.384901  \n",
      "8                         1.337967               31.384901  \n",
      "9                         1.337967               31.384901  \n",
      "10                        1.169632               31.384901  \n",
      "11                        1.169632               31.771121  \n",
      "12                        1.169632               31.771121  \n",
      "13                        1.169632               31.771121  \n",
      "14                        1.169632               31.771121  \n",
      "15                        1.021229               31.771121  \n",
      "16                        1.021229               31.384901  \n",
      "17                        1.021229               31.384901  \n",
      "18                        1.021229               31.384901  \n",
      "19                        1.021229               31.384901  \n",
      "20                        1.039338               31.384901  \n",
      "21                        1.039338               31.384901  \n",
      "22                        1.039338               31.384901  \n",
      "23                        1.039338               31.384901  \n",
      "24                        1.039338               31.384901  \n",
      "25                        1.063510               31.384901  \n"
     ]
    }
   ],
   "source": [
    "print(future_predictions)"
   ]
  },
  {
   "cell_type": "code",
   "execution_count": 69,
   "metadata": {},
   "outputs": [
    {
     "name": "stdout",
     "output_type": "stream",
     "text": [
      "Index(['year', 'predicted_tavg', 'predicted_prcp',\n",
      "       'predicted_pct_diff_sae_hrs', 'predicted_pct_diff_labor_force',\n",
      "       'predicted_smoke_impact'],\n",
      "      dtype='object')\n"
     ]
    }
   ],
   "source": [
    "print(future_predictions.columns)"
   ]
  },
  {
   "cell_type": "code",
   "execution_count": 70,
   "metadata": {},
   "outputs": [],
   "source": [
    "# Load the trained model\n",
    "with open(EI_MODEL_INPUT_PATH, 'rb') as model_file:\n",
    "    economic_impact_model = pickle.load(model_file)\n",
    "\n",
    "# Remap column names to the expected names for the model\n",
    "future_predictions.rename(columns={\n",
    "    'predicted_smoke_impact': 'scaled_avg_daily_smoke_impact',\n",
    "    'predicted_tavg': 'noaa_tavg',\n",
    "    'predicted_prcp': 'noaa_prcp',\n",
    "    'predicted_pct_diff_sae_hrs': 'bls_pct_diff_sae_hrs',\n",
    "    'predicted_pct_diff_labor_force': 'bls_pct_diff_laus_labor_force'\n",
    "}, inplace=True)"
   ]
  },
  {
   "cell_type": "code",
   "execution_count": 71,
   "metadata": {},
   "outputs": [
    {
     "name": "stdout",
     "output_type": "stream",
     "text": [
      "   year  noaa_tavg  noaa_prcp  bls_pct_diff_sae_hrs  \\\n",
      "0  2025     77.032     3.9912             -0.176528   \n",
      "1  2026     77.032     3.9912             -0.176528   \n",
      "2  2027     77.032     3.9912             -0.176528   \n",
      "3  2028     77.032     3.9912             -0.176528   \n",
      "4  2029     77.032     3.9912             -0.176528   \n",
      "\n",
      "   bls_pct_diff_laus_labor_force  scaled_avg_daily_smoke_impact  \n",
      "0                       0.749384                      35.208975  \n",
      "1                       0.749384                      31.384901  \n",
      "2                       0.749384                      31.384901  \n",
      "3                       0.749384                      31.384901  \n",
      "4                       0.749384                      31.384901  \n",
      "Index(['year', 'noaa_tavg', 'noaa_prcp', 'bls_pct_diff_sae_hrs',\n",
      "       'bls_pct_diff_laus_labor_force', 'scaled_avg_daily_smoke_impact'],\n",
      "      dtype='object')\n"
     ]
    }
   ],
   "source": [
    "print(future_predictions.head(5))\n",
    "\n",
    "print(future_predictions.columns)"
   ]
  },
  {
   "cell_type": "code",
   "execution_count": 72,
   "metadata": {},
   "outputs": [],
   "source": [
    "# Prepare the data for prediction\n",
    "# Select the required features for the model\n",
    "prediction_features = ['noaa_tavg', 'noaa_prcp', 'scaled_avg_daily_smoke_impact', 'bls_pct_diff_sae_hrs', 'bls_pct_diff_laus_labor_force']"
   ]
  },
  {
   "cell_type": "code",
   "execution_count": 73,
   "metadata": {},
   "outputs": [],
   "source": [
    "# Ensure future_predictions includes the required columns\n",
    "X_future = future_predictions[prediction_features]\n",
    "\n",
    "# Make predictions using the loaded model\n",
    "future_predictions['pct_diff_laus_unemployment_rate'] = economic_impact_model.predict(X_future)"
   ]
  },
  {
   "cell_type": "code",
   "execution_count": 75,
   "metadata": {},
   "outputs": [
    {
     "name": "stdout",
     "output_type": "stream",
     "text": [
      "    year  noaa_tavg  noaa_prcp  bls_pct_diff_sae_hrs  \\\n",
      "0   2025  77.032000   3.991200             -0.176528   \n",
      "1   2026  77.032000   3.991200             -0.176528   \n",
      "2   2027  77.032000   3.991200             -0.176528   \n",
      "3   2028  77.032000   3.991200             -0.176528   \n",
      "4   2029  77.032000   3.991200             -0.176528   \n",
      "5   2030  77.428400   4.129440             -0.351152   \n",
      "6   2031  77.428400   4.129440             -0.351152   \n",
      "7   2032  77.428400   4.129440             -0.351152   \n",
      "8   2033  77.428400   4.129440             -0.351152   \n",
      "9   2034  77.428400   4.129440             -0.351152   \n",
      "10  2035  77.687413   4.165328             -0.671072   \n",
      "11  2036  77.687413   4.165328             -0.671072   \n",
      "12  2037  77.687413   4.165328             -0.671072   \n",
      "13  2038  77.687413   4.165328             -0.671072   \n",
      "14  2039  77.687413   4.165328             -0.671072   \n",
      "15  2040  77.608229   4.259060             -0.808175   \n",
      "16  2041  77.608229   4.259060             -0.808175   \n",
      "17  2042  77.608229   4.259060             -0.808175   \n",
      "18  2043  77.608229   4.259060             -0.808175   \n",
      "19  2044  77.608229   4.259060             -0.808175   \n",
      "20  2045  77.743209   4.374206             -0.565467   \n",
      "21  2046  77.743209   4.374206             -0.565467   \n",
      "22  2047  77.743209   4.374206             -0.565467   \n",
      "23  2048  77.743209   4.374206             -0.565467   \n",
      "24  2049  77.743209   4.374206             -0.565467   \n",
      "25  2050  77.499850   4.183847             -0.514479   \n",
      "\n",
      "    bls_pct_diff_laus_labor_force  scaled_avg_daily_smoke_impact  \\\n",
      "0                        0.749384                      35.208975   \n",
      "1                        0.749384                      31.384901   \n",
      "2                        0.749384                      31.384901   \n",
      "3                        0.749384                      31.384901   \n",
      "4                        0.749384                      31.384901   \n",
      "5                        1.337967                      31.384901   \n",
      "6                        1.337967                      31.384901   \n",
      "7                        1.337967                      31.384901   \n",
      "8                        1.337967                      31.384901   \n",
      "9                        1.337967                      31.384901   \n",
      "10                       1.169632                      31.384901   \n",
      "11                       1.169632                      31.771121   \n",
      "12                       1.169632                      31.771121   \n",
      "13                       1.169632                      31.771121   \n",
      "14                       1.169632                      31.771121   \n",
      "15                       1.021229                      31.771121   \n",
      "16                       1.021229                      31.384901   \n",
      "17                       1.021229                      31.384901   \n",
      "18                       1.021229                      31.384901   \n",
      "19                       1.021229                      31.384901   \n",
      "20                       1.039338                      31.384901   \n",
      "21                       1.039338                      31.384901   \n",
      "22                       1.039338                      31.384901   \n",
      "23                       1.039338                      31.384901   \n",
      "24                       1.039338                      31.384901   \n",
      "25                       1.063510                      31.384901   \n",
      "\n",
      "    pct_diff_laus_unemployment_rate  \n",
      "0                        -10.683535  \n",
      "1                        -11.022994  \n",
      "2                        -11.022994  \n",
      "3                        -11.022994  \n",
      "4                        -11.022994  \n",
      "5                         -9.953683  \n",
      "6                         -9.953683  \n",
      "7                         -9.953683  \n",
      "8                         -9.953683  \n",
      "9                         -9.953683  \n",
      "10                        -8.882575  \n",
      "11                        -7.867816  \n",
      "12                        -7.867816  \n",
      "13                        -7.867816  \n",
      "14                        -7.867816  \n",
      "15                        -8.493587  \n",
      "16                        -9.508346  \n",
      "17                        -9.508346  \n",
      "18                        -9.508346  \n",
      "19                        -9.508346  \n",
      "20                        -8.235079  \n",
      "21                        -8.235079  \n",
      "22                        -8.235079  \n",
      "23                        -8.235079  \n",
      "24                        -8.235079  \n",
      "25                        -9.095107  \n"
     ]
    }
   ],
   "source": [
    "# Display the predictions\n",
    "print(future_predictions)"
   ]
  },
  {
   "cell_type": "code",
   "execution_count": 76,
   "metadata": {},
   "outputs": [
    {
     "data": {
      "image/png": "[encoded data removed]",
      "text/plain": [
       "<Figure size 1000x600 with 1 Axes>"
      ]
     },
     "metadata": {},
     "output_type": "display_data"
    }
   ],
   "source": [
    "# Plot the predicted unemployment rate\n",
    "plt.figure(figsize=(10, 6))\n",
    "plt.plot(future_predictions['year'], future_predictions['pct_diff_laus_unemployment_rate'], marker='o', linestyle='-', color='b')\n",
    "plt.xlabel('Year')\n",
    "plt.ylabel('Predicted % Difference in LAUS Unemployment Rate')\n",
    "plt.title('Predicted % Difference in LAUS Unemployment Rate Over Time')\n",
    "plt.grid(True)\n",
    "plt.show()"
   ]
  },
  {
   "cell_type": "code",
   "execution_count": null,
   "metadata": {},
   "outputs": [],
   "source": [
    "# # Save the predictions to the output CSV file\n",
    "# future_predictions.to_csv(EI_PREDS_OUTPUT_PATH, index=False)\n",
    "# print(f\"Predictions saved to {EI_PREDS_OUTPUT_PATH}\")\n",
    "\n",
    "# # %%\n"
   ]
  }
 ],
 "metadata": {
  "kernelspec": {
   "display_name": "512_proj",
   "language": "python",
   "name": "python3"
  },
  "language_info": {
   "codemirror_mode": {
    "name": "ipython",
    "version": 3
   },
   "file_extension": ".py",
   "mimetype": "text/x-python",
   "name": "python",
   "nbconvert_exporter": "python",
   "pygments_lexer": "ipython3",
   "version": "3.11.10"
  }
 },
 "nbformat": 4,
 "nbformat_minor": 2
}
