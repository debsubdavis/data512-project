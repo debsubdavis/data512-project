{
 "cells": [
  {
   "cell_type": "code",
   "execution_count": 59,
   "metadata": {},
   "outputs": [],
   "source": [
    "import json\n",
    "import pandas as pd\n",
    "import matplotlib.pyplot as plt\n",
    "import numpy as np\n",
    "import pickle"
   ]
  },
  {
   "cell_type": "code",
   "execution_count": 60,
   "metadata": {},
   "outputs": [],
   "source": [
    "with open('ei_intermediate_file_paths.json') as file_path_file:\n",
    "    file_paths = json.load(file_path_file)\n",
    "\n",
    "\n",
    "SI_PREDS_INPUT_PATH = file_paths.get(\"smoke_impact_model_predictions.csv\")\n",
    "NOAA_BLS_MERGED_INPUT_PATH = file_paths.get(\"stage2_fs_merged_output.csv\")\n",
    "EI_MODEL_INPUT_PATH = file_paths.get(\"ei_model_output\")\n",
    "\n",
    "EI_PREDS_OUTPUT_PATH = file_paths.get(\"economic_impact_model_predictions.csv\")"
   ]
  },
  {
   "cell_type": "code",
   "execution_count": 61,
   "metadata": {},
   "outputs": [],
   "source": [
    "# Load dataset\n",
    "si_preds_df = pd.read_csv(SI_PREDS_INPUT_PATH)\n",
    "\n",
    "noaa_bls_historical_df = pd.read_csv(NOAA_BLS_MERGED_INPUT_PATH)"
   ]
  },
  {
   "cell_type": "code",
   "execution_count": 62,
   "metadata": {},
   "outputs": [
    {
     "name": "stdout",
     "output_type": "stream",
     "text": [
      "   year  predicted_total_acres_burned  predicted_avg_distance  \\\n",
      "0  2021                  2.351687e+06              359.010931   \n",
      "1  2022                  2.351687e+06              359.010931   \n",
      "2  2023                  2.351687e+06              359.010931   \n",
      "3  2024                  2.351687e+06              359.010931   \n",
      "4  2025                  2.351687e+06              359.010931   \n",
      "\n",
      "   total_acres_burned_normalized  distance_normalized  \\\n",
      "0                       0.483929             0.552325   \n",
      "1                       0.483929             0.552325   \n",
      "2                       0.483929             0.552325   \n",
      "3                       0.483929             0.552325   \n",
      "4                       0.483929             0.552325   \n",
      "\n",
      "   total_acres_burned_weighted  distance_weighted  predicted_smoke_impact  \n",
      "0                     0.483929           0.552325               34.902199  \n",
      "1                     0.483929           0.552325               34.902199  \n",
      "2                     0.483929           0.552325               34.902199  \n",
      "3                     0.483929           0.552325               34.902199  \n",
      "4                     0.483929           0.552325               34.902199  \n",
      "Index(['year', 'predicted_total_acres_burned', 'predicted_avg_distance',\n",
      "       'total_acres_burned_normalized', 'distance_normalized',\n",
      "       'total_acres_burned_weighted', 'distance_weighted',\n",
      "       'predicted_smoke_impact'],\n",
      "      dtype='object')\n"
     ]
    }
   ],
   "source": [
    "print(si_preds_df.head(5))\n",
    "\n",
    "print(si_preds_df.columns)"
   ]
  },
  {
   "cell_type": "code",
   "execution_count": 63,
   "metadata": {},
   "outputs": [
    {
     "name": "stdout",
     "output_type": "stream",
     "text": [
      "         date    bls_date  bls_curr_sae_hrs  bls_curr_laus_labor_force  \\\n",
      "0  2009-09-01  2009-09-01              36.8                   421301.0   \n",
      "1  2009-10-01  2009-10-01              36.7                   422913.0   \n",
      "2  2010-05-01  2010-05-01              38.0                   415895.0   \n",
      "3  2010-06-01  2010-06-01              37.9                   421034.0   \n",
      "4  2010-07-01  2010-07-01              37.4                   423239.0   \n",
      "\n",
      "   bls_curr_laus_unemployment_rate  bls_prev_yr_sae_hrs  \\\n",
      "0                              9.1                 37.4   \n",
      "1                              8.8                 37.0   \n",
      "2                              8.2                 37.4   \n",
      "3                              8.7                 37.9   \n",
      "4                              8.4                 37.1   \n",
      "\n",
      "   bls_prev_yr_laus_labor_force  bls_prev_yr_laus_unemployment_rate  \\\n",
      "0                      427171.0                                 5.8   \n",
      "1                      431740.0                                 5.7   \n",
      "2                      420518.0                                 8.8   \n",
      "3                      428844.0                                 9.6   \n",
      "4                      428604.0                                 9.4   \n",
      "\n",
      "   bls_pct_diff_sae_hrs  bls_pct_diff_laus_labor_force  \\\n",
      "0             -1.604278                      -1.374157   \n",
      "1             -0.810811                      -2.044518   \n",
      "2              1.604278                      -1.099358   \n",
      "3              0.000000                      -1.821175   \n",
      "4              0.808625                      -1.251738   \n",
      "\n",
      "   bls_pct_diff_laus_unemployment_rate                             noaa_name  \\\n",
      "0                            56.896552  MEMPHIS INTERNATIONAL AIRPORT, TN US   \n",
      "1                            54.385965  MEMPHIS INTERNATIONAL AIRPORT, TN US   \n",
      "2                            -6.818182  MEMPHIS INTERNATIONAL AIRPORT, TN US   \n",
      "3                            -9.375000  MEMPHIS INTERNATIONAL AIRPORT, TN US   \n",
      "4                           -10.638298  MEMPHIS INTERNATIONAL AIRPORT, TN US   \n",
      "\n",
      "    noaa_date  noaa_tavg  noaa_tmax  noaa_tmin  noaa_prcp  \n",
      "0  2009-09-01       75.7       83.4       68.0       8.60  \n",
      "1  2009-10-01       60.7       69.0       52.5      10.55  \n",
      "2  2010-05-01       74.2       83.2       65.1       9.26  \n",
      "3  2010-06-01       84.6       93.6       75.6       0.31  \n",
      "4  2010-07-01       84.9       93.8       75.9       6.30  \n",
      "Index(['date', 'bls_date', 'bls_curr_sae_hrs', 'bls_curr_laus_labor_force',\n",
      "       'bls_curr_laus_unemployment_rate', 'bls_prev_yr_sae_hrs',\n",
      "       'bls_prev_yr_laus_labor_force', 'bls_prev_yr_laus_unemployment_rate',\n",
      "       'bls_pct_diff_sae_hrs', 'bls_pct_diff_laus_labor_force',\n",
      "       'bls_pct_diff_laus_unemployment_rate', 'noaa_name', 'noaa_date',\n",
      "       'noaa_tavg', 'noaa_tmax', 'noaa_tmin', 'noaa_prcp'],\n",
      "      dtype='object')\n"
     ]
    }
   ],
   "source": [
    "print(noaa_bls_historical_df.head(5))\n",
    "\n",
    "print(noaa_bls_historical_df.columns)"
   ]
  },
  {
   "cell_type": "markdown",
   "metadata": {},
   "source": [
    "## MIGHT NEED TO CHANGE IT TO THIS"
   ]
  },
  {
   "cell_type": "code",
   "execution_count": 64,
   "metadata": {},
   "outputs": [],
   "source": [
    "noaa_bls_historical_df['date'] = pd.to_datetime(noaa_bls_historical_df['date'])"
   ]
  },
  {
   "cell_type": "code",
   "execution_count": 65,
   "metadata": {},
   "outputs": [],
   "source": [
    "noaa_bls_historical_df['month'] = noaa_bls_historical_df['date'].dt.month\n",
    "noaa_bls_historical_df['year'] = noaa_bls_historical_df['date'].dt.year\n",
    "fire_season_data = noaa_bls_historical_df[noaa_bls_historical_df['month'].isin([5, 6, 7, 8, 9, 10])]"
   ]
  },
  {
   "cell_type": "code",
   "execution_count": 66,
   "metadata": {},
   "outputs": [],
   "source": [
    "# Ensure only May–October data is included\n",
    "\n",
    "group_columns = ['year','noaa_tavg', 'noaa_prcp', 'bls_pct_diff_sae_hrs', 'bls_pct_diff_laus_labor_force']\n",
    "fire_season_data = fire_season_data[group_columns]\n",
    "\n",
    "# %% [Group by Year and Calculate Annual Averages for May–October]\n",
    "annual_avg = fire_season_data.groupby('year').mean().reset_index()"
   ]
  },
  {
   "cell_type": "code",
   "execution_count": 67,
   "metadata": {},
   "outputs": [
    {
     "name": "stdout",
     "output_type": "stream",
     "text": [
      "    year  noaa_tavg  noaa_prcp  bls_pct_diff_sae_hrs  \\\n",
      "0   2009  68.200000   9.575000             -1.207544   \n",
      "1   2010  79.266667   3.396667              0.403851   \n",
      "2   2011  76.633333   3.425000             -0.613112   \n",
      "3   2012  76.883333   3.355000             -1.702911   \n",
      "4   2013  75.633333   4.688333             -0.865232   \n",
      "5   2014  75.516667   5.141667             -0.039008   \n",
      "6   2015  77.116667   3.920000              1.108074   \n",
      "7   2016  79.066667   3.613333              1.152528   \n",
      "8   2017  75.350000   4.615000              1.855834   \n",
      "9   2018  77.783333   3.551667             -3.226398   \n",
      "10  2019  77.083333   6.630000             -0.269698   \n",
      "11  2020  75.050000   3.300000              0.696589   \n",
      "12  2021  76.133333   3.950000              1.248449   \n",
      "13  2022  78.083333   3.696667              0.014441   \n",
      "14  2023  76.933333   3.683333             -2.021710   \n",
      "15  2024  78.960000   5.326000             -0.820411   \n",
      "\n",
      "    bls_pct_diff_laus_labor_force  \n",
      "0                       -1.709337  \n",
      "1                       -1.220090  \n",
      "2                        0.361119  \n",
      "3                       -1.482207  \n",
      "4                       -1.597483  \n",
      "5                       -1.150654  \n",
      "6                        1.071826  \n",
      "7                        1.932990  \n",
      "8                        1.090752  \n",
      "9                        1.223661  \n",
      "10                       2.128757  \n",
      "11                      -2.193531  \n",
      "12                       2.179644  \n",
      "13                       1.911647  \n",
      "14                       0.930685  \n",
      "15                       0.918477  \n"
     ]
    }
   ],
   "source": [
    "print(annual_avg)"
   ]
  },
  {
   "cell_type": "code",
   "execution_count": 68,
   "metadata": {},
   "outputs": [
    {
     "name": "stdout",
     "output_type": "stream",
     "text": [
      "Updated future predictions saved to 'future_predictions_updated.csv'.\n"
     ]
    }
   ],
   "source": [
    "# %% [Prepare Future Predictions]\n",
    "# Generate rows for future years\n",
    "future_years = range(2025, 2051)\n",
    "future_predictions = pd.DataFrame({\n",
    "    'year': future_years,\n",
    "    'predicted_tavg': np.nan,\n",
    "    'predicted_prcp': np.nan,\n",
    "    'predicted_pct_diff_sae_hrs': np.nan,\n",
    "    'predicted_pct_diff_labor_force': np.nan\n",
    "})\n",
    "\n",
    "# Create a copy of the annual averages to dynamically update rolling averages\n",
    "dynamic_annual_avg = annual_avg.copy()\n",
    "\n",
    "# Use dynamic rolling averages to predict future values\n",
    "for i, row in future_predictions.iterrows():\n",
    "    # Calculate rolling averages from the most recent 3 years\n",
    "    rolling_tavg = dynamic_annual_avg['noaa_tavg'].rolling(window=5, min_periods=1).mean().iloc[-1]\n",
    "    rolling_prcp = dynamic_annual_avg['noaa_prcp'].rolling(window=5, min_periods=1).mean().iloc[-1]\n",
    "    rolling_sae_hrs = dynamic_annual_avg['bls_pct_diff_sae_hrs'].rolling(window=5, min_periods=1).mean().iloc[-1]\n",
    "    rolling_labor_force = dynamic_annual_avg['bls_pct_diff_laus_labor_force'].rolling(window=5, min_periods=1).mean().iloc[-1]\n",
    "\n",
    "    # Assign the calculated rolling averages as predictions for the future year\n",
    "    future_predictions.loc[i, 'predicted_tavg'] = rolling_tavg\n",
    "    future_predictions.loc[i, 'predicted_prcp'] = rolling_prcp\n",
    "    future_predictions.loc[i, 'predicted_pct_diff_sae_hrs'] = rolling_sae_hrs\n",
    "    future_predictions.loc[i, 'predicted_pct_diff_labor_force'] = rolling_labor_force\n",
    "\n",
    "    # Append the predicted values to the dynamic dataset\n",
    "    new_row = {\n",
    "        'year': row['year'],\n",
    "        'noaa_tavg': rolling_tavg,\n",
    "        'noaa_prcp': rolling_prcp,\n",
    "        'bls_pct_diff_sae_hrs': rolling_sae_hrs,\n",
    "        'bls_pct_diff_laus_labor_force': rolling_labor_force\n",
    "    }\n",
    "    dynamic_annual_avg = pd.concat([dynamic_annual_avg, pd.DataFrame([new_row])], ignore_index=True)\n",
    "\n",
    "# %% [Merge with Smoke Impact Predictions]\n",
    "# Merge with smoke impact predictions on the year\n",
    "future_predictions = future_predictions.merge(si_preds_df[['year', 'predicted_smoke_impact']], on='year', how='left')\n",
    "\n",
    "# Rename columns to align with the economic impact model expectations\n",
    "future_predictions.rename(columns={\n",
    "    'predicted_smoke_impact': 'scaled_avg_daily_smoke_impact',\n",
    "    'predicted_tavg': 'noaa_tavg',\n",
    "    'predicted_prcp': 'noaa_prcp',\n",
    "    'predicted_pct_diff_sae_hrs': 'bls_pct_diff_sae_hrs',\n",
    "    'predicted_pct_diff_labor_force': 'bls_pct_diff_laus_labor_force'\n",
    "}, inplace=True)\n",
    "\n",
    "# %% [Save Predictions for Review]\n",
    "future_predictions.to_csv(\"future_predictions_updated.csv\", index=False)\n",
    "print(\"Updated future predictions saved to 'future_predictions_updated.csv'.\")\n"
   ]
  },
  {
   "cell_type": "code",
   "execution_count": 69,
   "metadata": {},
   "outputs": [],
   "source": [
    "\n",
    "\n",
    "# # %% [3-Year Moving Average]\n",
    "# # Calculate 3-year moving averages for relevant columns\n",
    "# annual_avg['3yr_avg_tavg'] = annual_avg['noaa_tavg'].rolling(window=3, min_periods=1).mean()\n",
    "# annual_avg['3yr_avg_prcp'] = annual_avg['noaa_prcp'].rolling(window=3, min_periods=1).mean()\n",
    "# annual_avg['3yr_avg_pct_diff_sae_hrs'] = annual_avg['bls_pct_diff_sae_hrs'].rolling(window=3, min_periods=1).mean()\n",
    "# annual_avg['3yr_avg_pct_diff_labor_force'] = annual_avg['bls_pct_diff_laus_labor_force'].rolling(window=3, min_periods=1).mean()\n",
    "\n",
    "# # %% [Prepare Future Predictions]\n",
    "# # Generate rows for future years\n",
    "# future_years = range(2025, 2051)\n",
    "# future_predictions = pd.DataFrame({\n",
    "#     'year': future_years,\n",
    "#     'predicted_tavg': np.nan,\n",
    "#     'predicted_prcp': np.nan,\n",
    "#     'predicted_pct_diff_sae_hrs': np.nan,\n",
    "#     'predicted_pct_diff_labor_force': np.nan\n",
    "# })\n",
    "\n",
    "# # Use the last available 3-year moving average values to predict future data\n",
    "# for i, row in future_predictions.iterrows():\n",
    "#     future_predictions.loc[i, 'predicted_tavg'] = annual_avg['3yr_avg_tavg'].iloc[-1]\n",
    "#     future_predictions.loc[i, 'predicted_prcp'] = annual_avg['3yr_avg_prcp'].iloc[-1]\n",
    "#     future_predictions.loc[i, 'predicted_pct_diff_sae_hrs'] = annual_avg['3yr_avg_pct_diff_sae_hrs'].iloc[-1]\n",
    "#     future_predictions.loc[i, 'predicted_pct_diff_labor_force'] = annual_avg['3yr_avg_pct_diff_labor_force'].iloc[-1]\n",
    "\n",
    "# # %% [Merge with Smoke Impact Predictions]\n",
    "# # Merge with smoke impact predictions on the year\n",
    "# future_predictions = future_predictions.merge(si_preds_df[['year', 'predicted_smoke_impact']], on='year', how='left')\n",
    "\n",
    "# # Rename columns to align with the economic impact model expectations\n",
    "# future_predictions.rename(columns={\n",
    "#     'predicted_smoke_impact': 'scaled_avg_daily_smoke_impact',\n",
    "#     'predicted_tavg': 'noaa_tavg',\n",
    "#     'predicted_prcp': 'noaa_prcp',\n",
    "#     'predicted_pct_diff_sae_hrs': 'bls_pct_diff_sae_hrs',\n",
    "#     'predicted_pct_diff_labor_force': 'bls_pct_diff_laus_labor_force'\n",
    "# }, inplace=True)\n",
    "\n",
    "# # %% [Prepare Data for Prediction]\n",
    "# # Select features required for the model\n",
    "\n"
   ]
  },
  {
   "cell_type": "code",
   "execution_count": 70,
   "metadata": {},
   "outputs": [],
   "source": [
    "# print(future_predictions)\n",
    "\n",
    "# future_predictions.to_csv(\"future_predictions.csv\")"
   ]
  },
  {
   "cell_type": "code",
   "execution_count": 71,
   "metadata": {},
   "outputs": [],
   "source": [
    "# Load the trained Gradient Boosting model\n",
    "with open(EI_MODEL_INPUT_PATH , 'rb') as model_file:\n",
    "    economic_impact_model = pickle.load(model_file)"
   ]
  },
  {
   "cell_type": "code",
   "execution_count": 72,
   "metadata": {},
   "outputs": [
    {
     "data": {
      "image/png": "[encoded data removed]",
      "text/plain": [
       "<Figure size 1000x600 with 1 Axes>"
      ]
     },
     "metadata": {},
     "output_type": "display_data"
    },
    {
     "name": "stdout",
     "output_type": "stream",
     "text": [
      "Predictions saved to final-output/economic_impact_estimate_mdl_future_prediction.csv\n"
     ]
    }
   ],
   "source": [
    "prediction_features = ['noaa_tavg', 'noaa_prcp', 'scaled_avg_daily_smoke_impact', 'bls_pct_diff_sae_hrs', 'bls_pct_diff_laus_labor_force']\n",
    "\n",
    "# Extract features for prediction\n",
    "X_future = future_predictions[prediction_features]\n",
    "\n",
    "# %% [Make Predictions]\n",
    "future_predictions['pct_diff_laus_unemployment_rate'] = economic_impact_model.predict(X_future)\n",
    "\n",
    "# %% [Plot Predictions]\n",
    "plt.figure(figsize=(10, 6))\n",
    "plt.plot(future_predictions['year'], future_predictions['pct_diff_laus_unemployment_rate'], marker='o', linestyle='-', color='b')\n",
    "plt.xlabel('Year')\n",
    "plt.ylabel('Predicted % Difference in LAUS Unemployment Rate')\n",
    "plt.title('Predicted % Difference in LAUS Unemployment Rate Over Time')\n",
    "plt.grid(True)\n",
    "plt.show()\n",
    "\n",
    "# %% [Save Predictions]\n",
    "future_predictions.to_csv(EI_PREDS_OUTPUT_PATH, index=False)\n",
    "print(f\"Predictions saved to {EI_PREDS_OUTPUT_PATH}\")"
   ]
  }
 ],
 "metadata": {
  "kernelspec": {
   "display_name": "512_proj",
   "language": "python",
   "name": "python3"
  },
  "language_info": {
   "codemirror_mode": {
    "name": "ipython",
    "version": 3
   },
   "file_extension": ".py",
   "mimetype": "text/x-python",
   "name": "python",
   "nbconvert_exporter": "python",
   "pygments_lexer": "ipython3",
   "version": "3.11.10"
  }
 },
 "nbformat": 4,
 "nbformat_minor": 2
}
