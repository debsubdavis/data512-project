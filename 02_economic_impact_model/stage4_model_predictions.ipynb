{
 "cells": [
  {
   "cell_type": "code",
   "execution_count": 149,
   "metadata": {},
   "outputs": [],
   "source": [
    "import json\n",
    "import pandas as pd\n",
    "import matplotlib.pyplot as plt\n",
    "import numpy as np\n",
    "import pickle"
   ]
  },
  {
   "cell_type": "code",
   "execution_count": 150,
   "metadata": {},
   "outputs": [],
   "source": [
    "with open('ei_intermediate_file_paths.json') as file_path_file:\n",
    "    file_paths = json.load(file_path_file)\n",
    "\n",
    "\n",
    "SI_PREDS_INPUT_PATH = file_paths.get(\"smoke_impact_model_predictions.csv\")\n",
    "NOAA_BLS_MERGED_INPUT_PATH = file_paths.get(\"stage2_fs_merged_output.csv\")\n",
    "EI_MODEL_INPUT_PATH = file_paths.get(\"ei_model_output\")\n",
    "\n",
    "EI_PREDS_OUTPUT_PATH = file_paths.get(\"economic_impact_model_predictions.csv\")"
   ]
  },
  {
   "cell_type": "code",
   "execution_count": 151,
   "metadata": {},
   "outputs": [],
   "source": [
    "# Load dataset\n",
    "si_preds_df = pd.read_csv(SI_PREDS_INPUT_PATH)\n",
    "\n",
    "noaa_bls_historical_df = pd.read_csv(NOAA_BLS_MERGED_INPUT_PATH)"
   ]
  },
  {
   "cell_type": "code",
   "execution_count": 152,
   "metadata": {},
   "outputs": [
    {
     "name": "stdout",
     "output_type": "stream",
     "text": [
      "   year  predicted_total_acres_burned  predicted_avg_distance  \\\n",
      "0  2021                  2.351687e+06              359.010931   \n",
      "1  2022                  2.351687e+06              359.010931   \n",
      "2  2023                  2.351687e+06              359.010931   \n",
      "3  2024                  2.351687e+06              359.010931   \n",
      "4  2025                  2.351687e+06              359.010931   \n",
      "\n",
      "   total_acres_burned_normalized  distance_normalized  \\\n",
      "0                       0.483929             0.552325   \n",
      "1                       0.483929             0.552325   \n",
      "2                       0.483929             0.552325   \n",
      "3                       0.483929             0.552325   \n",
      "4                       0.483929             0.552325   \n",
      "\n",
      "   total_acres_burned_weighted  distance_weighted  predicted_smoke_impact  \n",
      "0                     0.483929           0.552325               35.208975  \n",
      "1                     0.483929           0.552325               35.208975  \n",
      "2                     0.483929           0.552325               35.208975  \n",
      "3                     0.483929           0.552325               35.208975  \n",
      "4                     0.483929           0.552325               35.208975  \n",
      "Index(['year', 'predicted_total_acres_burned', 'predicted_avg_distance',\n",
      "       'total_acres_burned_normalized', 'distance_normalized',\n",
      "       'total_acres_burned_weighted', 'distance_weighted',\n",
      "       'predicted_smoke_impact'],\n",
      "      dtype='object')\n"
     ]
    }
   ],
   "source": [
    "print(si_preds_df.head(5))\n",
    "\n",
    "print(si_preds_df.columns)"
   ]
  },
  {
   "cell_type": "code",
   "execution_count": 153,
   "metadata": {},
   "outputs": [
    {
     "name": "stdout",
     "output_type": "stream",
     "text": [
      "         date    bls_date  bls_curr_sae_hrs  bls_curr_laus_labor_force  \\\n",
      "0  2009-09-01  2009-09-01              36.8                   421301.0   \n",
      "1  2009-10-01  2009-10-01              36.7                   422913.0   \n",
      "2  2010-05-01  2010-05-01              38.0                   415895.0   \n",
      "3  2010-06-01  2010-06-01              37.9                   421034.0   \n",
      "4  2010-07-01  2010-07-01              37.4                   423239.0   \n",
      "\n",
      "   bls_curr_laus_unemployment_rate  bls_prev_yr_sae_hrs  \\\n",
      "0                              9.1                 37.4   \n",
      "1                              8.8                 37.0   \n",
      "2                              8.2                 37.4   \n",
      "3                              8.7                 37.9   \n",
      "4                              8.4                 37.1   \n",
      "\n",
      "   bls_prev_yr_laus_labor_force  bls_prev_yr_laus_unemployment_rate  \\\n",
      "0                      427171.0                                 5.8   \n",
      "1                      431740.0                                 5.7   \n",
      "2                      420518.0                                 8.8   \n",
      "3                      428844.0                                 9.6   \n",
      "4                      428604.0                                 9.4   \n",
      "\n",
      "   bls_pct_diff_sae_hrs  bls_pct_diff_laus_labor_force  \\\n",
      "0             -1.604278                      -1.374157   \n",
      "1             -0.810811                      -2.044518   \n",
      "2              1.604278                      -1.099358   \n",
      "3              0.000000                      -1.821175   \n",
      "4              0.808625                      -1.251738   \n",
      "\n",
      "   bls_pct_diff_laus_unemployment_rate                             noaa_name  \\\n",
      "0                            56.896552  MEMPHIS INTERNATIONAL AIRPORT, TN US   \n",
      "1                            54.385965  MEMPHIS INTERNATIONAL AIRPORT, TN US   \n",
      "2                            -6.818182  MEMPHIS INTERNATIONAL AIRPORT, TN US   \n",
      "3                            -9.375000  MEMPHIS INTERNATIONAL AIRPORT, TN US   \n",
      "4                           -10.638298  MEMPHIS INTERNATIONAL AIRPORT, TN US   \n",
      "\n",
      "    noaa_date  noaa_tavg  noaa_tmax  noaa_tmin  noaa_prcp  \n",
      "0  2009-09-01       75.7       83.4       68.0       8.60  \n",
      "1  2009-10-01       60.7       69.0       52.5      10.55  \n",
      "2  2010-05-01       74.2       83.2       65.1       9.26  \n",
      "3  2010-06-01       84.6       93.6       75.6       0.31  \n",
      "4  2010-07-01       84.9       93.8       75.9       6.30  \n",
      "Index(['date', 'bls_date', 'bls_curr_sae_hrs', 'bls_curr_laus_labor_force',\n",
      "       'bls_curr_laus_unemployment_rate', 'bls_prev_yr_sae_hrs',\n",
      "       'bls_prev_yr_laus_labor_force', 'bls_prev_yr_laus_unemployment_rate',\n",
      "       'bls_pct_diff_sae_hrs', 'bls_pct_diff_laus_labor_force',\n",
      "       'bls_pct_diff_laus_unemployment_rate', 'noaa_name', 'noaa_date',\n",
      "       'noaa_tavg', 'noaa_tmax', 'noaa_tmin', 'noaa_prcp'],\n",
      "      dtype='object')\n"
     ]
    }
   ],
   "source": [
    "print(noaa_bls_historical_df.head(5))\n",
    "\n",
    "print(noaa_bls_historical_df.columns)"
   ]
  },
  {
   "cell_type": "code",
   "execution_count": 154,
   "metadata": {},
   "outputs": [],
   "source": [
    "# Convert the date column to datetime and extract month and year\n",
    "noaa_bls_historical_df['date'] = pd.to_datetime(noaa_bls_historical_df['date'])\n",
    "noaa_bls_historical_df['month'] = noaa_bls_historical_df['date'].dt.month\n",
    "noaa_bls_historical_df['year'] = noaa_bls_historical_df['date'].dt.year\n",
    "\n",
    "# Calculate 5-year rolling averages for each variable, considering only data from May to October for each year\n",
    "noaa_bls_historical_df = noaa_bls_historical_df[noaa_bls_historical_df['month'].isin([5, 6, 7, 8, 9, 10])]\n",
    "\n",
    "# Select relevant columns for grouping\n",
    "group_columns = ['year', 'month','noaa_tavg', 'noaa_prcp', 'bls_pct_diff_sae_hrs', 'bls_pct_diff_laus_labor_force']\n",
    "noaa_bls_historical_df = noaa_bls_historical_df[group_columns]\n",
    "\n",
    "# yearly_avg_df = noaa_bls_historical_df.groupby('year').mean().reset_index()"
   ]
  },
  {
   "cell_type": "code",
   "execution_count": 155,
   "metadata": {},
   "outputs": [],
   "source": [
    "# Calculate monthly averages by year and month\n",
    "monthly_avg_df = noaa_bls_historical_df.groupby(['year', 'month']).mean().reset_index()\n",
    "\n",
    "# %% [Modified Calculating 3-Year Rolling Averages]\n",
    "# Add 3-year rolling averages for May–October data\n",
    "monthly_avg_df['3yr_avg_tavg'] = (\n",
    "    monthly_avg_df.sort_values(by=['month', 'year'])  # Ensure data is sorted by month and year\n",
    "    .groupby('month')['noaa_tavg']\n",
    "    .rolling(window=3, min_periods=1)\n",
    "    .mean()\n",
    "    .reset_index(drop=True)\n",
    ")\n",
    "\n",
    "monthly_avg_df['3yr_avg_prcp'] = (\n",
    "    monthly_avg_df.sort_values(by=['month', 'year'])\n",
    "    .groupby('month')['noaa_prcp']\n",
    "    .rolling(window=3, min_periods=1)\n",
    "    .mean()\n",
    "    .reset_index(drop=True)\n",
    ")\n",
    "\n",
    "monthly_avg_df['3yr_avg_pct_diff_sae_hrs'] = (\n",
    "    monthly_avg_df.sort_values(by=['month', 'year'])\n",
    "    .groupby('month')['bls_pct_diff_sae_hrs']\n",
    "    .rolling(window=3, min_periods=1)\n",
    "    .mean()\n",
    "    .reset_index(drop=True)\n",
    ")\n",
    "\n",
    "monthly_avg_df['3yr_avg_pct_diff_labor_force'] = (\n",
    "    monthly_avg_df.sort_values(by=['month', 'year'])\n",
    "    .groupby('month')['bls_pct_diff_laus_labor_force']\n",
    "    .rolling(window=3, min_periods=1)\n",
    "    .mean()\n",
    "    .reset_index(drop=True)\n",
    ")\n",
    "\n",
    "\n"
   ]
  },
  {
   "cell_type": "code",
   "execution_count": 156,
   "metadata": {},
   "outputs": [
    {
     "name": "stdout",
     "output_type": "stream",
     "text": [
      "   year  month  noaa_tavg  noaa_prcp  bls_pct_diff_sae_hrs  \\\n",
      "0  2009      9       75.7       8.60             -1.604278   \n",
      "1  2009     10       60.7      10.55             -0.810811   \n",
      "2  2010      5       74.2       9.26              1.604278   \n",
      "3  2010      6       84.6       0.31              0.000000   \n",
      "4  2010      7       84.9       6.30              0.808625   \n",
      "\n",
      "   bls_pct_diff_laus_labor_force  3yr_avg_tavg  3yr_avg_prcp  \\\n",
      "0                      -1.374157     74.200000      9.260000   \n",
      "1                      -2.044518     72.200000      8.190000   \n",
      "2                      -1.099358     73.566667      6.520000   \n",
      "3                      -1.821175     72.033333      7.016667   \n",
      "4                      -1.251738     72.433333      6.086667   \n",
      "\n",
      "   3yr_avg_pct_diff_sae_hrs  3yr_avg_pct_diff_labor_force  \n",
      "0                  1.604278                     -1.099358  \n",
      "1                  0.012665                     -0.177831  \n",
      "2                 -0.882822                     -0.628990  \n",
      "3                 -2.150182                     -0.594116  \n",
      "4                 -1.062069                     -1.419702  \n",
      "Index(['year', 'month', 'noaa_tavg', 'noaa_prcp', 'bls_pct_diff_sae_hrs',\n",
      "       'bls_pct_diff_laus_labor_force', '3yr_avg_tavg', '3yr_avg_prcp',\n",
      "       '3yr_avg_pct_diff_sae_hrs', '3yr_avg_pct_diff_labor_force'],\n",
      "      dtype='object')\n"
     ]
    }
   ],
   "source": [
    "print(monthly_avg_df.head(5))\n",
    "\n",
    "print(monthly_avg_df.columns)"
   ]
  },
  {
   "cell_type": "code",
   "execution_count": 157,
   "metadata": {},
   "outputs": [],
   "source": [
    "# %% [Modified Forecasting Future Data]\n",
    "# Generate rows for May–October months for 2025–2050\n",
    "future_months = pd.date_range(start=\"2025-05-01\", end=\"2050-10-31\", freq='MS')\n",
    "future_predictions = pd.DataFrame({\n",
    "    'year': future_months.year,\n",
    "    'month': future_months.month,\n",
    "    'predicted_tavg': np.nan,\n",
    "    'predicted_prcp': np.nan,\n",
    "    'predicted_pct_diff_sae_hrs': np.nan,\n",
    "    'predicted_pct_diff_labor_force': np.nan\n",
    "})"
   ]
  },
  {
   "cell_type": "code",
   "execution_count": 158,
   "metadata": {},
   "outputs": [],
   "source": [
    "# Copy historical data into a temporary DataFrame to simulate adding future data\n",
    "temp_data = monthly_avg_df.copy()\n",
    "\n",
    "# %% [Modified Simulating Rolling Averages]\n",
    "cycle_length = 3 * 6  # 3 years * 6 months per year (rolling window for monthly data)\n",
    "\n",
    "for i, row in future_predictions.iterrows():\n",
    "    # Assign predictions for this month based on the latest 3-year averages\n",
    "    future_predictions.loc[i, 'predicted_tavg'] = temp_data['3yr_avg_tavg'].iloc[-1]\n",
    "    future_predictions.loc[i, 'predicted_prcp'] = temp_data['3yr_avg_prcp'].iloc[-1]\n",
    "    future_predictions.loc[i, 'predicted_pct_diff_sae_hrs'] = temp_data['3yr_avg_pct_diff_sae_hrs'].iloc[-1]\n",
    "    future_predictions.loc[i, 'predicted_pct_diff_labor_force'] = temp_data['3yr_avg_pct_diff_labor_force'].iloc[-1]\n",
    "\n",
    "    # Every cycle_length (18 months), update rolling averages\n",
    "    if (i + 1) % cycle_length == 0:\n",
    "        # Create a new row for the latest predictions as \"historical\" data\n",
    "        new_row = pd.DataFrame({\n",
    "            'year': [row['year']],\n",
    "            'month': [row['month']],\n",
    "            'noaa_tavg': [future_predictions.loc[i, 'predicted_tavg']],\n",
    "            'noaa_prcp': [future_predictions.loc[i, 'predicted_prcp']],\n",
    "            'bls_pct_diff_sae_hrs': [future_predictions.loc[i, 'predicted_pct_diff_sae_hrs']],\n",
    "            'bls_pct_diff_laus_labor_force': [future_predictions.loc[i, 'predicted_pct_diff_labor_force']]\n",
    "        })\n",
    "\n",
    "        # Concatenate the new row to `temp_data`\n",
    "        temp_data = pd.concat([temp_data, new_row], ignore_index=True)\n",
    "\n",
    "        # Recalculate the 3-year rolling averages\n",
    "        temp_data['3yr_avg_tavg'] = (\n",
    "            temp_data.sort_values(by=['month', 'year'])\n",
    "            .groupby('month')['noaa_tavg']\n",
    "            .rolling(window=3, min_periods=1)\n",
    "            .mean()\n",
    "            .reset_index(drop=True)\n",
    "        )\n",
    "        temp_data['3yr_avg_prcp'] = (\n",
    "            temp_data.sort_values(by=['month', 'year'])\n",
    "            .groupby('month')['noaa_prcp']\n",
    "            .rolling(window=3, min_periods=1)\n",
    "            .mean()\n",
    "            .reset_index(drop=True)\n",
    "        )\n",
    "        temp_data['3yr_avg_pct_diff_sae_hrs'] = (\n",
    "            temp_data.sort_values(by=['month', 'year'])\n",
    "            .groupby('month')['bls_pct_diff_sae_hrs']\n",
    "            .rolling(window=3, min_periods=1)\n",
    "            .mean()\n",
    "            .reset_index(drop=True)\n",
    "        )\n",
    "        temp_data['3yr_avg_pct_diff_labor_force'] = (\n",
    "            temp_data.sort_values(by=['month', 'year'])\n",
    "            .groupby('month')['bls_pct_diff_laus_labor_force']\n",
    "            .rolling(window=3, min_periods=1)\n",
    "            .mean()\n",
    "            .reset_index(drop=True)\n",
    "        )"
   ]
  },
  {
   "cell_type": "code",
   "execution_count": 159,
   "metadata": {},
   "outputs": [],
   "source": [
    "future_predictions = future_predictions.merge(si_preds_df[['year', 'predicted_smoke_impact']], on='year', how='left')\n"
   ]
  },
  {
   "cell_type": "code",
   "execution_count": 160,
   "metadata": {},
   "outputs": [
    {
     "name": "stdout",
     "output_type": "stream",
     "text": [
      "     year  month  predicted_tavg  predicted_prcp  predicted_pct_diff_sae_hrs  \\\n",
      "0    2025      5       66.033333        3.723333                   -0.893212   \n",
      "1    2025      6       66.033333        3.723333                   -0.893212   \n",
      "2    2025      7       66.033333        3.723333                   -0.893212   \n",
      "3    2025      8       66.033333        3.723333                   -0.893212   \n",
      "4    2025      9       66.033333        3.723333                   -0.893212   \n",
      "..    ...    ...             ...             ...                         ...   \n",
      "301  2050      6       65.894533        3.180473                   -1.175321   \n",
      "302  2050      7       65.894533        3.180473                   -1.175321   \n",
      "303  2050      8       65.894533        3.180473                   -1.175321   \n",
      "304  2050      9       65.894533        3.180473                   -1.175321   \n",
      "305  2050     10       65.894533        3.180473                   -1.175321   \n",
      "\n",
      "     predicted_pct_diff_labor_force  predicted_smoke_impact  \n",
      "0                          0.843564               35.208975  \n",
      "1                          0.843564               35.208975  \n",
      "2                          0.843564               35.208975  \n",
      "3                          0.843564               35.208975  \n",
      "4                          0.843564               35.208975  \n",
      "..                              ...                     ...  \n",
      "301                        0.981282               31.384901  \n",
      "302                        0.981282               31.384901  \n",
      "303                        0.981282               31.384901  \n",
      "304                        0.981282               31.384901  \n",
      "305                        0.981282               31.384901  \n",
      "\n",
      "[306 rows x 7 columns]\n"
     ]
    }
   ],
   "source": [
    "print(future_predictions)"
   ]
  },
  {
   "cell_type": "code",
   "execution_count": 161,
   "metadata": {},
   "outputs": [],
   "source": [
    "# Load the trained model\n",
    "with open(EI_MODEL_INPUT_PATH, 'rb') as model_file:\n",
    "    economic_impact_model = pickle.load(model_file)\n",
    "\n",
    "# Remap column names to the expected names for the model\n",
    "future_predictions.rename(columns={\n",
    "    'predicted_smoke_impact': 'scaled_avg_daily_smoke_impact',\n",
    "    'predicted_tavg': 'noaa_tavg',\n",
    "    'predicted_prcp': 'noaa_prcp',\n",
    "    'predicted_pct_diff_sae_hrs': 'bls_pct_diff_sae_hrs',\n",
    "    'predicted_pct_diff_labor_force': 'bls_pct_diff_laus_labor_force'\n",
    "}, inplace=True)"
   ]
  },
  {
   "cell_type": "code",
   "execution_count": 162,
   "metadata": {},
   "outputs": [
    {
     "name": "stdout",
     "output_type": "stream",
     "text": [
      "   year  month  noaa_tavg  noaa_prcp  bls_pct_diff_sae_hrs  \\\n",
      "0  2025      5  66.033333   3.723333             -0.893212   \n",
      "1  2025      6  66.033333   3.723333             -0.893212   \n",
      "2  2025      7  66.033333   3.723333             -0.893212   \n",
      "3  2025      8  66.033333   3.723333             -0.893212   \n",
      "4  2025      9  66.033333   3.723333             -0.893212   \n",
      "\n",
      "   bls_pct_diff_laus_labor_force  scaled_avg_daily_smoke_impact  \n",
      "0                       0.843564                      35.208975  \n",
      "1                       0.843564                      35.208975  \n",
      "2                       0.843564                      35.208975  \n",
      "3                       0.843564                      35.208975  \n",
      "4                       0.843564                      35.208975  \n",
      "Index(['year', 'month', 'noaa_tavg', 'noaa_prcp', 'bls_pct_diff_sae_hrs',\n",
      "       'bls_pct_diff_laus_labor_force', 'scaled_avg_daily_smoke_impact'],\n",
      "      dtype='object')\n"
     ]
    }
   ],
   "source": [
    "print(future_predictions.head(5))\n",
    "\n",
    "print(future_predictions.columns)"
   ]
  },
  {
   "cell_type": "code",
   "execution_count": 163,
   "metadata": {},
   "outputs": [],
   "source": [
    "# Prepare the data for prediction\n",
    "# Select the required features for the model\n",
    "prediction_features = ['noaa_tavg', 'noaa_prcp', 'scaled_avg_daily_smoke_impact', 'bls_pct_diff_sae_hrs', 'bls_pct_diff_laus_labor_force']"
   ]
  },
  {
   "cell_type": "code",
   "execution_count": 164,
   "metadata": {},
   "outputs": [
    {
     "name": "stdout",
     "output_type": "stream",
     "text": [
      "     noaa_tavg  noaa_prcp  scaled_avg_daily_smoke_impact  \\\n",
      "0    66.033333   3.723333                      35.208975   \n",
      "1    66.033333   3.723333                      35.208975   \n",
      "2    66.033333   3.723333                      35.208975   \n",
      "3    66.033333   3.723333                      35.208975   \n",
      "4    66.033333   3.723333                      35.208975   \n",
      "..         ...        ...                            ...   \n",
      "301  65.894533   3.180473                      31.384901   \n",
      "302  65.894533   3.180473                      31.384901   \n",
      "303  65.894533   3.180473                      31.384901   \n",
      "304  65.894533   3.180473                      31.384901   \n",
      "305  65.894533   3.180473                      31.384901   \n",
      "\n",
      "     bls_pct_diff_sae_hrs  bls_pct_diff_laus_labor_force  \n",
      "0               -0.893212                       0.843564  \n",
      "1               -0.893212                       0.843564  \n",
      "2               -0.893212                       0.843564  \n",
      "3               -0.893212                       0.843564  \n",
      "4               -0.893212                       0.843564  \n",
      "..                    ...                            ...  \n",
      "301             -1.175321                       0.981282  \n",
      "302             -1.175321                       0.981282  \n",
      "303             -1.175321                       0.981282  \n",
      "304             -1.175321                       0.981282  \n",
      "305             -1.175321                       0.981282  \n",
      "\n",
      "[306 rows x 5 columns]\n"
     ]
    }
   ],
   "source": [
    "# Ensure future_predictions includes the required columns\n",
    "X_future = future_predictions[prediction_features]\n",
    "\n",
    "print(X_future)\n",
    "\n",
    "# X_future.to_csv(\"X_future.csv\")"
   ]
  },
  {
   "cell_type": "code",
   "execution_count": 165,
   "metadata": {},
   "outputs": [
    {
     "name": "stdout",
     "output_type": "stream",
     "text": [
      "Columns with NaN values and their counts:\n",
      "Series([], dtype: int64)\n"
     ]
    }
   ],
   "source": [
    "# Check for NaN values in the prediction features\n",
    "nan_columns = future_predictions[prediction_features].isna().sum()\n",
    "\n",
    "# Print columns with NaN values\n",
    "print(\"Columns with NaN values and their counts:\")\n",
    "print(nan_columns[nan_columns > 0])\n"
   ]
  },
  {
   "cell_type": "code",
   "execution_count": 166,
   "metadata": {},
   "outputs": [],
   "source": [
    "# Make predictions using the loaded model\n",
    "future_predictions['pct_diff_laus_unemployment_rate'] = economic_impact_model.predict(X_future)"
   ]
  },
  {
   "cell_type": "code",
   "execution_count": 167,
   "metadata": {},
   "outputs": [
    {
     "name": "stdout",
     "output_type": "stream",
     "text": [
      "     year  month  noaa_tavg  noaa_prcp  bls_pct_diff_sae_hrs  \\\n",
      "0    2025      5  66.033333   3.723333             -0.893212   \n",
      "1    2025      6  66.033333   3.723333             -0.893212   \n",
      "2    2025      7  66.033333   3.723333             -0.893212   \n",
      "3    2025      8  66.033333   3.723333             -0.893212   \n",
      "4    2025      9  66.033333   3.723333             -0.893212   \n",
      "..    ...    ...        ...        ...                   ...   \n",
      "301  2050      6  65.894533   3.180473             -1.175321   \n",
      "302  2050      7  65.894533   3.180473             -1.175321   \n",
      "303  2050      8  65.894533   3.180473             -1.175321   \n",
      "304  2050      9  65.894533   3.180473             -1.175321   \n",
      "305  2050     10  65.894533   3.180473             -1.175321   \n",
      "\n",
      "     bls_pct_diff_laus_labor_force  scaled_avg_daily_smoke_impact  \\\n",
      "0                         0.843564                      35.208975   \n",
      "1                         0.843564                      35.208975   \n",
      "2                         0.843564                      35.208975   \n",
      "3                         0.843564                      35.208975   \n",
      "4                         0.843564                      35.208975   \n",
      "..                             ...                            ...   \n",
      "301                       0.981282                      31.384901   \n",
      "302                       0.981282                      31.384901   \n",
      "303                       0.981282                      31.384901   \n",
      "304                       0.981282                      31.384901   \n",
      "305                       0.981282                      31.384901   \n",
      "\n",
      "     pct_diff_laus_unemployment_rate  \n",
      "0                          -9.731950  \n",
      "1                          -9.731950  \n",
      "2                          -9.731950  \n",
      "3                          -9.731950  \n",
      "4                          -9.731950  \n",
      "..                               ...  \n",
      "301                        -6.729096  \n",
      "302                        -6.729096  \n",
      "303                        -6.729096  \n",
      "304                        -6.729096  \n",
      "305                        -6.729096  \n",
      "\n",
      "[306 rows x 8 columns]\n"
     ]
    }
   ],
   "source": [
    "# Display the predictions\n",
    "print(future_predictions)"
   ]
  },
  {
   "cell_type": "code",
   "execution_count": 168,
   "metadata": {},
   "outputs": [
    {
     "data": {
      "image/png": "[encoded data removed]",
      "text/plain": [
       "<Figure size 1000x600 with 1 Axes>"
      ]
     },
     "metadata": {},
     "output_type": "display_data"
    }
   ],
   "source": [
    "# Plot the predicted unemployment rate\n",
    "plt.figure(figsize=(10, 6))\n",
    "plt.plot(future_predictions['year'], future_predictions['pct_diff_laus_unemployment_rate'], marker='o', linestyle='-', color='b')\n",
    "plt.xlabel('Year')\n",
    "plt.ylabel('Predicted % Difference in LAUS Unemployment Rate')\n",
    "plt.title('Predicted % Difference in LAUS Unemployment Rate Over Time')\n",
    "plt.ylim(None, 0)  # Set the y-axis to start at 0 and let it scale automatically for the upper limit\n",
    "plt.grid(True)\n",
    "plt.show()\n"
   ]
  },
  {
   "cell_type": "code",
   "execution_count": 169,
   "metadata": {},
   "outputs": [
    {
     "name": "stdout",
     "output_type": "stream",
     "text": [
      "Predictions saved to final-output/economic_impact_estimate_mdl_future_prediction.csv\n"
     ]
    }
   ],
   "source": [
    "# Save the predictions to the output CSV file\n",
    "future_predictions.to_csv(EI_PREDS_OUTPUT_PATH, index=False)\n",
    "print(f\"Predictions saved to {EI_PREDS_OUTPUT_PATH}\")"
   ]
  }
 ],
 "metadata": {
  "kernelspec": {
   "display_name": "512_proj",
   "language": "python",
   "name": "python3"
  },
  "language_info": {
   "codemirror_mode": {
    "name": "ipython",
    "version": 3
   },
   "file_extension": ".py",
   "mimetype": "text/x-python",
   "name": "python",
   "nbconvert_exporter": "python",
   "pygments_lexer": "ipython3",
   "version": "3.11.10"
  }
 },
 "nbformat": 4,
 "nbformat_minor": 2
}
