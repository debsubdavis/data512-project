{
 "cells": [
  {
   "cell_type": "code",
   "execution_count": 2,
   "metadata": {},
   "outputs": [
    {
     "name": "stderr",
     "output_type": "stream",
     "text": [
      "/var/folders/js/_m5r698x29j4dvr0w18h6jdm0000gn/T/ipykernel_19115/3983986288.py:2: DeprecationWarning: \n",
      "Pyarrow will become a required dependency of pandas in the next major release of pandas (pandas 3.0),\n",
      "(to allow more performant data types, such as the Arrow string type, and better interoperability with other libraries)\n",
      "but was not found to be installed on your system.\n",
      "If this would cause problems for you,\n",
      "please provide us feedback at https://github.com/pandas-dev/pandas/issues/54466\n",
      "        \n",
      "  import pandas as pd\n"
     ]
    }
   ],
   "source": [
    "import json\n",
    "import pandas as pd\n",
    "import matplotlib.pyplot as plt\n",
    "import numpy as np\n",
    "import pickle"
   ]
  },
  {
   "cell_type": "code",
   "execution_count": 8,
   "metadata": {},
   "outputs": [],
   "source": [
    "with open('ei_intermediate_file_paths.json') as file_path_file:\n",
    "    file_paths = json.load(file_path_file)\n",
    "\n",
    "\n",
    "SI_PREDS_INPUT_PATH = file_paths.get(\"smoke_impact_model_predictions.csv\")\n",
    "NOAA_BLS_MERGED_INPUT_PATH = file_paths.get(\"stage2_fs_merged_output.csv\")\n",
    "EI_MODEL_INPUT_PATH = file_paths.get(\"ei_model_output\")\n",
    "\n",
    "EI_PREDS_OUTPUT_PATH = file_paths.get(\"economic_impact_model_predictions.csv\")"
   ]
  },
  {
   "cell_type": "code",
   "execution_count": 9,
   "metadata": {},
   "outputs": [],
   "source": [
    "# Load dataset\n",
    "si_preds_df = pd.read_csv(SI_PREDS_INPUT_PATH)\n",
    "\n",
    "noaa_bls_historical_df = pd.read_csv(NOAA_BLS_MERGED_INPUT_PATH)"
   ]
  },
  {
   "cell_type": "code",
   "execution_count": 5,
   "metadata": {},
   "outputs": [
    {
     "name": "stdout",
     "output_type": "stream",
     "text": [
      "   year  predicted_total_acres_burned  predicted_avg_distance  \\\n",
      "0  2021                  2.351687e+06              359.010931   \n",
      "1  2022                  2.351687e+06              359.010931   \n",
      "2  2023                  2.351687e+06              359.010931   \n",
      "3  2024                  2.351687e+06              359.010931   \n",
      "4  2025                  2.351687e+06              359.010931   \n",
      "\n",
      "   total_acres_burned_normalized  distance_normalized  \\\n",
      "0                       0.483929             0.552325   \n",
      "1                       0.483929             0.552325   \n",
      "2                       0.483929             0.552325   \n",
      "3                       0.483929             0.552325   \n",
      "4                       0.483929             0.552325   \n",
      "\n",
      "   total_acres_burned_weighted  distance_weighted  predicted_smoke_impact  \n",
      "0                     0.483929           0.552325               34.902199  \n",
      "1                     0.483929           0.552325               34.902199  \n",
      "2                     0.483929           0.552325               34.902199  \n",
      "3                     0.483929           0.552325               34.902199  \n",
      "4                     0.483929           0.552325               34.902199  \n",
      "Index(['year', 'predicted_total_acres_burned', 'predicted_avg_distance',\n",
      "       'total_acres_burned_normalized', 'distance_normalized',\n",
      "       'total_acres_burned_weighted', 'distance_weighted',\n",
      "       'predicted_smoke_impact'],\n",
      "      dtype='object')\n"
     ]
    }
   ],
   "source": [
    "print(si_preds_df.head(5))\n",
    "\n",
    "print(si_preds_df.columns)"
   ]
  },
  {
   "cell_type": "code",
   "execution_count": 6,
   "metadata": {},
   "outputs": [
    {
     "name": "stdout",
     "output_type": "stream",
     "text": [
      "         date    bls_date  bls_curr_sae_hrs  bls_curr_laus_labor_force  \\\n",
      "0  2009-09-01  2009-09-01              36.8                   421301.0   \n",
      "1  2009-10-01  2009-10-01              36.7                   422913.0   \n",
      "2  2010-05-01  2010-05-01              38.0                   415895.0   \n",
      "3  2010-06-01  2010-06-01              37.9                   421034.0   \n",
      "4  2010-07-01  2010-07-01              37.4                   423239.0   \n",
      "\n",
      "   bls_curr_laus_unemployment_rate  bls_prev_yr_sae_hrs  \\\n",
      "0                              9.1                 37.4   \n",
      "1                              8.8                 37.0   \n",
      "2                              8.2                 37.4   \n",
      "3                              8.7                 37.9   \n",
      "4                              8.4                 37.1   \n",
      "\n",
      "   bls_prev_yr_laus_labor_force  bls_prev_yr_laus_unemployment_rate  \\\n",
      "0                      427171.0                                 5.8   \n",
      "1                      431740.0                                 5.7   \n",
      "2                      420518.0                                 8.8   \n",
      "3                      428844.0                                 9.6   \n",
      "4                      428604.0                                 9.4   \n",
      "\n",
      "   bls_pct_diff_sae_hrs  bls_pct_diff_laus_labor_force  \\\n",
      "0             -1.604278                      -1.374157   \n",
      "1             -0.810811                      -2.044518   \n",
      "2              1.604278                      -1.099358   \n",
      "3              0.000000                      -1.821175   \n",
      "4              0.808625                      -1.251738   \n",
      "\n",
      "   bls_pct_diff_laus_unemployment_rate                             noaa_name  \\\n",
      "0                            56.896552  MEMPHIS INTERNATIONAL AIRPORT, TN US   \n",
      "1                            54.385965  MEMPHIS INTERNATIONAL AIRPORT, TN US   \n",
      "2                            -6.818182  MEMPHIS INTERNATIONAL AIRPORT, TN US   \n",
      "3                            -9.375000  MEMPHIS INTERNATIONAL AIRPORT, TN US   \n",
      "4                           -10.638298  MEMPHIS INTERNATIONAL AIRPORT, TN US   \n",
      "\n",
      "    noaa_date  noaa_tavg  noaa_tmax  noaa_tmin  noaa_prcp  \n",
      "0  2009-09-01       75.7       83.4       68.0       8.60  \n",
      "1  2009-10-01       60.7       69.0       52.5      10.55  \n",
      "2  2010-05-01       74.2       83.2       65.1       9.26  \n",
      "3  2010-06-01       84.6       93.6       75.6       0.31  \n",
      "4  2010-07-01       84.9       93.8       75.9       6.30  \n",
      "Index(['date', 'bls_date', 'bls_curr_sae_hrs', 'bls_curr_laus_labor_force',\n",
      "       'bls_curr_laus_unemployment_rate', 'bls_prev_yr_sae_hrs',\n",
      "       'bls_prev_yr_laus_labor_force', 'bls_prev_yr_laus_unemployment_rate',\n",
      "       'bls_pct_diff_sae_hrs', 'bls_pct_diff_laus_labor_force',\n",
      "       'bls_pct_diff_laus_unemployment_rate', 'noaa_name', 'noaa_date',\n",
      "       'noaa_tavg', 'noaa_tmax', 'noaa_tmin', 'noaa_prcp'],\n",
      "      dtype='object')\n"
     ]
    }
   ],
   "source": [
    "print(noaa_bls_historical_df.head(5))\n",
    "\n",
    "print(noaa_bls_historical_df.columns)"
   ]
  },
  {
   "cell_type": "code",
   "execution_count": null,
   "metadata": {},
   "outputs": [],
   "source": [
    "# Convert the date column to datetime and extract month and year\n",
    "noaa_bls_historical_df['date'] = pd.to_datetime(noaa_bls_historical_df['date'])\n",
    "noaa_bls_historical_df['month'] = noaa_bls_historical_df['date'].dt.month\n",
    "noaa_bls_historical_df['year'] = noaa_bls_historical_df['date'].dt.year\n",
    "\n",
    "# Calculate 5-year rolling averages for each variable, considering only data from May to October for each year\n",
    "noaa_bls_historical_df = noaa_bls_historical_df[noaa_bls_historical_df['month'].isin([5, 6, 7, 8, 9, 10])]\n",
    "\n",
    "# Select relevant columns for grouping\n",
    "group_columns = ['year', 'month','noaa_tavg', 'noaa_prcp', 'bls_pct_diff_sae_hrs', 'bls_pct_diff_laus_labor_force']\n",
    "noaa_bls_historical_df = noaa_bls_historical_df[group_columns]\n",
    "\n",
    "# yearly_avg_df = noaa_bls_historical_df.groupby('year').mean().reset_index()"
   ]
  },
  {
   "cell_type": "code",
   "execution_count": null,
   "metadata": {},
   "outputs": [],
   "source": [
    "# Calculate monthly averages by year and month\n",
    "monthly_avg_df = noaa_bls_historical_df.groupby(['year', 'month']).mean().reset_index()\n",
    "\n",
    "# %% [Modified Calculating 3-Year Rolling Averages]\n",
    "# Add 3-year rolling averages for May–October data\n",
    "monthly_avg_df['3yr_avg_tavg'] = (\n",
    "    monthly_avg_df.sort_values(by=['month', 'year'])  # Ensure data is sorted by month and year\n",
    "    .groupby('month')['noaa_tavg']\n",
    "    .rolling(window=3, min_periods=1)\n",
    "    .mean()\n",
    "    .reset_index(drop=True)\n",
    ")\n",
    "\n",
    "monthly_avg_df['3yr_avg_prcp'] = (\n",
    "    monthly_avg_df.sort_values(by=['month', 'year'])\n",
    "    .groupby('month')['noaa_prcp']\n",
    "    .rolling(window=3, min_periods=1)\n",
    "    .mean()\n",
    "    .reset_index(drop=True)\n",
    ")\n",
    "\n",
    "monthly_avg_df['3yr_avg_pct_diff_sae_hrs'] = (\n",
    "    monthly_avg_df.sort_values(by=['month', 'year'])\n",
    "    .groupby('month')['bls_pct_diff_sae_hrs']\n",
    "    .rolling(window=3, min_periods=1)\n",
    "    .mean()\n",
    "    .reset_index(drop=True)\n",
    ")\n",
    "\n",
    "monthly_avg_df['3yr_avg_pct_diff_labor_force'] = (\n",
    "    monthly_avg_df.sort_values(by=['month', 'year'])\n",
    "    .groupby('month')['bls_pct_diff_laus_labor_force']\n",
    "    .rolling(window=3, min_periods=1)\n",
    "    .mean()\n",
    "    .reset_index(drop=True)\n",
    ")\n",
    "\n",
    "\n"
   ]
  },
  {
   "cell_type": "code",
   "execution_count": null,
   "metadata": {},
   "outputs": [],
   "source": [
    "print(monthly_avg_df.head(5))\n",
    "\n",
    "print(monthly_avg_df.columns)"
   ]
  },
  {
   "cell_type": "code",
   "execution_count": null,
   "metadata": {},
   "outputs": [],
   "source": [
    "# %% [Modified Forecasting Future Data]\n",
    "# Generate rows for May–October months for 2025–2050\n",
    "future_months = pd.date_range(start=\"2025-05-01\", end=\"2050-10-31\", freq='MS')\n",
    "future_predictions = pd.DataFrame({\n",
    "    'year': future_months.year,\n",
    "    'month': future_months.month,\n",
    "    'predicted_tavg': np.nan,\n",
    "    'predicted_prcp': np.nan,\n",
    "    'predicted_pct_diff_sae_hrs': np.nan,\n",
    "    'predicted_pct_diff_labor_force': np.nan\n",
    "})"
   ]
  },
  {
   "cell_type": "code",
   "execution_count": null,
   "metadata": {},
   "outputs": [],
   "source": [
    "# Copy historical data into a temporary DataFrame to simulate adding future data\n",
    "temp_data = monthly_avg_df.copy()\n",
    "\n",
    "# %% [Modified Simulating Rolling Averages]\n",
    "cycle_length = 3 * 6  # 3 years * 6 months per year (rolling window for monthly data)\n",
    "\n",
    "for i, row in future_predictions.iterrows():\n",
    "    # Assign predictions for this month based on the latest 3-year averages\n",
    "    future_predictions.loc[i, 'predicted_tavg'] = temp_data['3yr_avg_tavg'].iloc[-1]\n",
    "    future_predictions.loc[i, 'predicted_prcp'] = temp_data['3yr_avg_prcp'].iloc[-1]\n",
    "    future_predictions.loc[i, 'predicted_pct_diff_sae_hrs'] = temp_data['3yr_avg_pct_diff_sae_hrs'].iloc[-1]\n",
    "    future_predictions.loc[i, 'predicted_pct_diff_labor_force'] = temp_data['3yr_avg_pct_diff_labor_force'].iloc[-1]\n",
    "\n",
    "    # Every cycle_length (18 months), update rolling averages\n",
    "    if (i + 1) % cycle_length == 0:\n",
    "        # Create a new row for the latest predictions as \"historical\" data\n",
    "        new_row = pd.DataFrame({\n",
    "            'year': [row['year']],\n",
    "            'month': [row['month']],\n",
    "            'noaa_tavg': [future_predictions.loc[i, 'predicted_tavg']],\n",
    "            'noaa_prcp': [future_predictions.loc[i, 'predicted_prcp']],\n",
    "            'bls_pct_diff_sae_hrs': [future_predictions.loc[i, 'predicted_pct_diff_sae_hrs']],\n",
    "            'bls_pct_diff_laus_labor_force': [future_predictions.loc[i, 'predicted_pct_diff_labor_force']]\n",
    "        })\n",
    "\n",
    "        # Concatenate the new row to `temp_data`\n",
    "        temp_data = pd.concat([temp_data, new_row], ignore_index=True)\n",
    "\n",
    "        # Recalculate the 3-year rolling averages\n",
    "        temp_data['3yr_avg_tavg'] = (\n",
    "            temp_data.sort_values(by=['month', 'year'])\n",
    "            .groupby('month')['noaa_tavg']\n",
    "            .rolling(window=3, min_periods=1)\n",
    "            .mean()\n",
    "            .reset_index(drop=True)\n",
    "        )\n",
    "        temp_data['3yr_avg_prcp'] = (\n",
    "            temp_data.sort_values(by=['month', 'year'])\n",
    "            .groupby('month')['noaa_prcp']\n",
    "            .rolling(window=3, min_periods=1)\n",
    "            .mean()\n",
    "            .reset_index(drop=True)\n",
    "        )\n",
    "        temp_data['3yr_avg_pct_diff_sae_hrs'] = (\n",
    "            temp_data.sort_values(by=['month', 'year'])\n",
    "            .groupby('month')['bls_pct_diff_sae_hrs']\n",
    "            .rolling(window=3, min_periods=1)\n",
    "            .mean()\n",
    "            .reset_index(drop=True)\n",
    "        )\n",
    "        temp_data['3yr_avg_pct_diff_labor_force'] = (\n",
    "            temp_data.sort_values(by=['month', 'year'])\n",
    "            .groupby('month')['bls_pct_diff_laus_labor_force']\n",
    "            .rolling(window=3, min_periods=1)\n",
    "            .mean()\n",
    "            .reset_index(drop=True)\n",
    "        )"
   ]
  },
  {
   "cell_type": "code",
   "execution_count": null,
   "metadata": {},
   "outputs": [],
   "source": [
    "future_predictions = future_predictions.merge(si_preds_df[['year', 'predicted_smoke_impact']], on='year', how='left')\n"
   ]
  },
  {
   "cell_type": "code",
   "execution_count": null,
   "metadata": {},
   "outputs": [],
   "source": [
    "print(future_predictions)"
   ]
  },
  {
   "cell_type": "code",
   "execution_count": null,
   "metadata": {},
   "outputs": [],
   "source": [
    "# Load the trained model\n",
    "with open(EI_MODEL_INPUT_PATH, 'rb') as model_file:\n",
    "    economic_impact_model = pickle.load(model_file)\n",
    "\n",
    "# Remap column names to the expected names for the model\n",
    "future_predictions.rename(columns={\n",
    "    'predicted_smoke_impact': 'scaled_avg_daily_smoke_impact',\n",
    "    'predicted_tavg': 'noaa_tavg',\n",
    "    'predicted_prcp': 'noaa_prcp',\n",
    "    'predicted_pct_diff_sae_hrs': 'bls_pct_diff_sae_hrs',\n",
    "    'predicted_pct_diff_labor_force': 'bls_pct_diff_laus_labor_force'\n",
    "}, inplace=True)"
   ]
  },
  {
   "cell_type": "code",
   "execution_count": null,
   "metadata": {},
   "outputs": [],
   "source": [
    "print(future_predictions.head(5))\n",
    "\n",
    "print(future_predictions.columns)"
   ]
  },
  {
   "cell_type": "code",
   "execution_count": null,
   "metadata": {},
   "outputs": [],
   "source": [
    "# Prepare the data for prediction\n",
    "# Select the required features for the model\n",
    "prediction_features = ['noaa_tavg', 'noaa_prcp', 'scaled_avg_daily_smoke_impact', 'bls_pct_diff_sae_hrs', 'bls_pct_diff_laus_labor_force']"
   ]
  },
  {
   "cell_type": "code",
   "execution_count": null,
   "metadata": {},
   "outputs": [],
   "source": [
    "# Ensure future_predictions includes the required columns\n",
    "X_future = future_predictions[prediction_features]\n",
    "\n",
    "print(X_future)\n",
    "\n",
    "# X_future.to_csv(\"X_future.csv\")"
   ]
  },
  {
   "cell_type": "code",
   "execution_count": null,
   "metadata": {},
   "outputs": [],
   "source": [
    "# Check for NaN values in the prediction features\n",
    "nan_columns = future_predictions[prediction_features].isna().sum()\n",
    "\n",
    "# Print columns with NaN values\n",
    "print(\"Columns with NaN values and their counts:\")\n",
    "print(nan_columns[nan_columns > 0])\n"
   ]
  },
  {
   "cell_type": "code",
   "execution_count": null,
   "metadata": {},
   "outputs": [],
   "source": [
    "# Make predictions using the loaded model\n",
    "future_predictions['pct_diff_laus_unemployment_rate'] = economic_impact_model.predict(X_future)"
   ]
  },
  {
   "cell_type": "code",
   "execution_count": null,
   "metadata": {},
   "outputs": [],
   "source": [
    "# Display the predictions\n",
    "print(future_predictions)"
   ]
  },
  {
   "cell_type": "code",
   "execution_count": null,
   "metadata": {},
   "outputs": [],
   "source": [
    "# Plot the predicted unemployment rate\n",
    "plt.figure(figsize=(10, 6))\n",
    "plt.plot(future_predictions['year'], future_predictions['pct_diff_laus_unemployment_rate'], marker='o', linestyle='-', color='b')\n",
    "plt.xlabel('Year')\n",
    "plt.ylabel('Predicted % Difference in LAUS Unemployment Rate')\n",
    "plt.title('Predicted % Difference in LAUS Unemployment Rate Over Time')\n",
    "plt.ylim(None, 0)  # Set the y-axis to start at 0 and let it scale automatically for the upper limit\n",
    "plt.grid(True)\n",
    "plt.show()\n"
   ]
  },
  {
   "cell_type": "code",
   "execution_count": null,
   "metadata": {},
   "outputs": [],
   "source": [
    "# Save the predictions to the output CSV file\n",
    "future_predictions.to_csv(EI_PREDS_OUTPUT_PATH, index=False)\n",
    "print(f\"Predictions saved to {EI_PREDS_OUTPUT_PATH}\")"
   ]
  },
  {
   "cell_type": "markdown",
   "metadata": {},
   "source": [
    "## MIGHT NEED TO CHANGE IT TO THIS"
   ]
  },
  {
   "cell_type": "code",
   "execution_count": 21,
   "metadata": {},
   "outputs": [
    {
     "name": "stdout",
     "output_type": "stream",
     "text": [
      "         date    bls_date  bls_curr_sae_hrs  bls_curr_laus_labor_force  \\\n",
      "0  2009-09-01  2009-09-01              36.8                   421301.0   \n",
      "1  2009-10-01  2009-10-01              36.7                   422913.0   \n",
      "2  2010-05-01  2010-05-01              38.0                   415895.0   \n",
      "3  2010-06-01  2010-06-01              37.9                   421034.0   \n",
      "4  2010-07-01  2010-07-01              37.4                   423239.0   \n",
      "\n",
      "   bls_curr_laus_unemployment_rate  bls_prev_yr_sae_hrs  \\\n",
      "0                              9.1                 37.4   \n",
      "1                              8.8                 37.0   \n",
      "2                              8.2                 37.4   \n",
      "3                              8.7                 37.9   \n",
      "4                              8.4                 37.1   \n",
      "\n",
      "   bls_prev_yr_laus_labor_force  bls_prev_yr_laus_unemployment_rate  \\\n",
      "0                      427171.0                                 5.8   \n",
      "1                      431740.0                                 5.7   \n",
      "2                      420518.0                                 8.8   \n",
      "3                      428844.0                                 9.6   \n",
      "4                      428604.0                                 9.4   \n",
      "\n",
      "   bls_pct_diff_sae_hrs  bls_pct_diff_laus_labor_force  \\\n",
      "0             -1.604278                      -1.374157   \n",
      "1             -0.810811                      -2.044518   \n",
      "2              1.604278                      -1.099358   \n",
      "3              0.000000                      -1.821175   \n",
      "4              0.808625                      -1.251738   \n",
      "\n",
      "   bls_pct_diff_laus_unemployment_rate                             noaa_name  \\\n",
      "0                            56.896552  MEMPHIS INTERNATIONAL AIRPORT, TN US   \n",
      "1                            54.385965  MEMPHIS INTERNATIONAL AIRPORT, TN US   \n",
      "2                            -6.818182  MEMPHIS INTERNATIONAL AIRPORT, TN US   \n",
      "3                            -9.375000  MEMPHIS INTERNATIONAL AIRPORT, TN US   \n",
      "4                           -10.638298  MEMPHIS INTERNATIONAL AIRPORT, TN US   \n",
      "\n",
      "    noaa_date  noaa_tavg  noaa_tmax  noaa_tmin  noaa_prcp  \n",
      "0  2009-09-01       75.7       83.4       68.0       8.60  \n",
      "1  2009-10-01       60.7       69.0       52.5      10.55  \n",
      "2  2010-05-01       74.2       83.2       65.1       9.26  \n",
      "3  2010-06-01       84.6       93.6       75.6       0.31  \n",
      "4  2010-07-01       84.9       93.8       75.9       6.30  \n",
      "Index(['date', 'bls_date', 'bls_curr_sae_hrs', 'bls_curr_laus_labor_force',\n",
      "       'bls_curr_laus_unemployment_rate', 'bls_prev_yr_sae_hrs',\n",
      "       'bls_prev_yr_laus_labor_force', 'bls_prev_yr_laus_unemployment_rate',\n",
      "       'bls_pct_diff_sae_hrs', 'bls_pct_diff_laus_labor_force',\n",
      "       'bls_pct_diff_laus_unemployment_rate', 'noaa_name', 'noaa_date',\n",
      "       'noaa_tavg', 'noaa_tmax', 'noaa_tmin', 'noaa_prcp'],\n",
      "      dtype='object')\n"
     ]
    }
   ],
   "source": [
    "# %% [Filter for May–October]\n",
    "\n",
    "noaa_bls_historical_df = pd.read_csv(NOAA_BLS_MERGED_INPUT_PATH)\n",
    "\n",
    "print(noaa_bls_historical_df.head(5))\n",
    "\n",
    "print(noaa_bls_historical_df.columns)"
   ]
  },
  {
   "cell_type": "code",
   "execution_count": 22,
   "metadata": {},
   "outputs": [],
   "source": [
    "noaa_bls_historical_df['date'] = pd.to_datetime(noaa_bls_historical_df['date'])"
   ]
  },
  {
   "cell_type": "code",
   "execution_count": 23,
   "metadata": {},
   "outputs": [],
   "source": [
    "noaa_bls_historical_df['month'] = noaa_bls_historical_df['date'].dt.month\n",
    "noaa_bls_historical_df['year'] = noaa_bls_historical_df['date'].dt.year\n",
    "fire_season_data = noaa_bls_historical_df[noaa_bls_historical_df['month'].isin([5, 6, 7, 8, 9, 10])]"
   ]
  },
  {
   "cell_type": "code",
   "execution_count": 24,
   "metadata": {},
   "outputs": [],
   "source": [
    "# Ensure only May–October data is included\n",
    "\n",
    "group_columns = ['year','noaa_tavg', 'noaa_prcp', 'bls_pct_diff_sae_hrs', 'bls_pct_diff_laus_labor_force']\n",
    "fire_season_data = fire_season_data[group_columns]\n",
    "\n",
    "# %% [Group by Year and Calculate Annual Averages for May–October]\n",
    "annual_avg = fire_season_data.groupby('year').mean().reset_index()"
   ]
  },
  {
   "cell_type": "code",
   "execution_count": 25,
   "metadata": {},
   "outputs": [],
   "source": [
    "\n",
    "\n",
    "# %% [3-Year Moving Average]\n",
    "# Calculate 3-year moving averages for relevant columns\n",
    "annual_avg['3yr_avg_tavg'] = annual_avg['noaa_tavg'].rolling(window=3, min_periods=1).mean()\n",
    "annual_avg['3yr_avg_prcp'] = annual_avg['noaa_prcp'].rolling(window=3, min_periods=1).mean()\n",
    "annual_avg['3yr_avg_pct_diff_sae_hrs'] = annual_avg['bls_pct_diff_sae_hrs'].rolling(window=3, min_periods=1).mean()\n",
    "annual_avg['3yr_avg_pct_diff_labor_force'] = annual_avg['bls_pct_diff_laus_labor_force'].rolling(window=3, min_periods=1).mean()\n",
    "\n",
    "# %% [Prepare Future Predictions]\n",
    "# Generate rows for future years\n",
    "future_years = range(2025, 2051)\n",
    "future_predictions = pd.DataFrame({\n",
    "    'year': future_years,\n",
    "    'predicted_tavg': np.nan,\n",
    "    'predicted_prcp': np.nan,\n",
    "    'predicted_pct_diff_sae_hrs': np.nan,\n",
    "    'predicted_pct_diff_labor_force': np.nan\n",
    "})\n",
    "\n",
    "# Use the last available 3-year moving average values to predict future data\n",
    "for i, row in future_predictions.iterrows():\n",
    "    future_predictions.loc[i, 'predicted_tavg'] = annual_avg['3yr_avg_tavg'].iloc[-1]\n",
    "    future_predictions.loc[i, 'predicted_prcp'] = annual_avg['3yr_avg_prcp'].iloc[-1]\n",
    "    future_predictions.loc[i, 'predicted_pct_diff_sae_hrs'] = annual_avg['3yr_avg_pct_diff_sae_hrs'].iloc[-1]\n",
    "    future_predictions.loc[i, 'predicted_pct_diff_labor_force'] = annual_avg['3yr_avg_pct_diff_labor_force'].iloc[-1]\n",
    "\n",
    "# %% [Merge with Smoke Impact Predictions]\n",
    "# Merge with smoke impact predictions on the year\n",
    "future_predictions = future_predictions.merge(si_preds_df[['year', 'predicted_smoke_impact']], on='year', how='left')\n",
    "\n",
    "# Rename columns to align with the economic impact model expectations\n",
    "future_predictions.rename(columns={\n",
    "    'predicted_smoke_impact': 'scaled_avg_daily_smoke_impact',\n",
    "    'predicted_tavg': 'noaa_tavg',\n",
    "    'predicted_prcp': 'noaa_prcp',\n",
    "    'predicted_pct_diff_sae_hrs': 'bls_pct_diff_sae_hrs',\n",
    "    'predicted_pct_diff_labor_force': 'bls_pct_diff_laus_labor_force'\n",
    "}, inplace=True)\n",
    "\n",
    "# %% [Prepare Data for Prediction]\n",
    "# Select features required for the model\n",
    "\n"
   ]
  },
  {
   "cell_type": "code",
   "execution_count": 28,
   "metadata": {},
   "outputs": [],
   "source": [
    "# Load the trained Gradient Boosting model\n",
    "with open(EI_MODEL_INPUT_PATH , 'rb') as model_file:\n",
    "    economic_impact_model = pickle.load(model_file)"
   ]
  },
  {
   "cell_type": "code",
   "execution_count": 29,
   "metadata": {},
   "outputs": [
    {
     "data": {
      "image/png": "[encoded data removed]",
      "text/plain": [
       "<Figure size 1000x600 with 1 Axes>"
      ]
     },
     "metadata": {},
     "output_type": "display_data"
    },
    {
     "name": "stdout",
     "output_type": "stream",
     "text": [
      "Predictions saved to final-output/economic_impact_estimate_mdl_future_prediction.csv\n"
     ]
    }
   ],
   "source": [
    "prediction_features = ['noaa_tavg', 'noaa_prcp', 'scaled_avg_daily_smoke_impact', 'bls_pct_diff_sae_hrs', 'bls_pct_diff_laus_labor_force']\n",
    "\n",
    "# Extract features for prediction\n",
    "X_future = future_predictions[prediction_features]\n",
    "\n",
    "# %% [Make Predictions]\n",
    "future_predictions['pct_diff_laus_unemployment_rate'] = economic_impact_model.predict(X_future)\n",
    "\n",
    "# %% [Plot Predictions]\n",
    "plt.figure(figsize=(10, 6))\n",
    "plt.plot(future_predictions['year'], future_predictions['pct_diff_laus_unemployment_rate'], marker='o', linestyle='-', color='b')\n",
    "plt.xlabel('Year')\n",
    "plt.ylabel('Predicted % Difference in LAUS Unemployment Rate')\n",
    "plt.title('Predicted % Difference in LAUS Unemployment Rate Over Time')\n",
    "plt.grid(True)\n",
    "plt.show()\n",
    "\n",
    "# %% [Save Predictions]\n",
    "future_predictions.to_csv(EI_PREDS_OUTPUT_PATH, index=False)\n",
    "print(f\"Predictions saved to {EI_PREDS_OUTPUT_PATH}\")"
   ]
  }
 ],
 "metadata": {
  "kernelspec": {
   "display_name": "512_proj",
   "language": "python",
   "name": "python3"
  },
  "language_info": {
   "codemirror_mode": {
    "name": "ipython",
    "version": 3
   },
   "file_extension": ".py",
   "mimetype": "text/x-python",
   "name": "python",
   "nbconvert_exporter": "python",
   "pygments_lexer": "ipython3",
   "version": "3.11.10"
  }
 },
 "nbformat": 4,
 "nbformat_minor": 2
}
