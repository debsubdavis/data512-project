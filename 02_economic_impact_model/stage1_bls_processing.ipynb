{
 "cells": [
  {
   "cell_type": "markdown",
   "metadata": {},
   "source": [
    "# Processing U.S. Bureau of Labor Statistics Datasets"
   ]
  },
  {
   "cell_type": "markdown",
   "metadata": {},
   "source": [
    "The `Local Area Unemployment Statistics (LAUS)` and `State and Metro Area Employment, Hours, & Earnings (SAE)` datasets were downloaded using the [SAE Databases One Screen option](https://www.bls.gov/sae/data/) and the [LAUS Databases One Screen option]()\n",
    "\n",
    "The United States Office of Management and Budget (OMB) delineates metropolitan and micropolitan statistical areas according to published standards that are applied to Census Bureau data. The general concept of a metropolitan or micropolitan statistical area is that of a core area containing a substantial population nucleus, together with adjacent communities having a high degree of economic and social integration with that core. Current area delineations are based on OMB Bulletin No. 18-03 effective April 2018."
   ]
  },
  {
   "cell_type": "code",
   "execution_count": 183,
   "metadata": {},
   "outputs": [],
   "source": [
    "import json\n",
    "import pandas as pd"
   ]
  },
  {
   "cell_type": "code",
   "execution_count": 184,
   "metadata": {},
   "outputs": [],
   "source": [
    "with open('ei_intermediate_file_paths.json') as output_path_file:\n",
    "    file_paths = json.load(output_path_file)\n",
    "\n",
    "LAUS_INPUT_PATH = file_paths.get(\"raw_laus.csv\")\n",
    "\n",
    "SAE_INPUT_PATH = file_paths.get(\"raw_sae.csv\")\n",
    "\n",
    "BLS_STAGE1_OUTPUT_PATH = file_paths.get(\"stage1_bls_output.csv\")"
   ]
  },
  {
   "cell_type": "markdown",
   "metadata": {},
   "source": [
    "## Read in the Data\n",
    "\n",
    "Note: added skiprows due to the format of the file download from the BLS website. Original file formats included in the 02_economic_impact_model/raw directory"
   ]
  },
  {
   "cell_type": "code",
   "execution_count": 185,
   "metadata": {},
   "outputs": [
    {
     "name": "stderr",
     "output_type": "stream",
     "text": [
      "/Users/debbiesubocz/anaconda3/envs/512_proj/lib/python3.11/site-packages/openpyxl/styles/stylesheet.py:237: UserWarning: Workbook contains no default style, apply openpyxl's default\n",
      "  warn(\"Workbook contains no default style, apply openpyxl's default\")\n",
      "/Users/debbiesubocz/anaconda3/envs/512_proj/lib/python3.11/site-packages/openpyxl/styles/stylesheet.py:237: UserWarning: Workbook contains no default style, apply openpyxl's default\n",
      "  warn(\"Workbook contains no default style, apply openpyxl's default\")\n"
     ]
    }
   ],
   "source": [
    "laus_df = pd.read_excel(LAUS_INPUT_PATH,skiprows=10)\n",
    "\n",
    "sae_df = pd.read_excel(SAE_INPUT_PATH,skiprows=12)"
   ]
  },
  {
   "cell_type": "code",
   "execution_count": 186,
   "metadata": {},
   "outputs": [
    {
     "name": "stdout",
     "output_type": "stream",
     "text": [
      "LAUS Dataset Columns\n",
      "Index(['Year', 'Period', 'labor force', 'employment', 'unemployment',\n",
      "       'unemployment rate'],\n",
      "      dtype='object')\n",
      "First 10 Rows of LAUS Dataset\n",
      "   Year Period  labor force  employment  unemployment  unemployment rate\n",
      "0  2007    Jan       418651      400707         17944                4.3\n",
      "1  2007    Feb       417496      400487         17009                4.1\n",
      "2  2007    Mar       418341      403220         15121                3.6\n",
      "3  2007    Apr       416759      402919         13840                3.3\n",
      "4  2007    May       418696      404791         13905                3.3\n",
      "5  2007    Jun       424835      408624         16211                3.8\n",
      "6  2007    Jul       426582      410904         15678                3.7\n",
      "7  2007    Aug       421945      406594         15351                3.6\n",
      "8  2007    Sep       420835      405049         15786                3.8\n",
      "9  2007    Oct       421942      405496         16446                3.9\n"
     ]
    }
   ],
   "source": [
    "print(\"LAUS Dataset Columns\")\n",
    "print(laus_df.columns)\n",
    "\n",
    "print(\"First 10 Rows of LAUS Dataset\")\n",
    "print(laus_df.head(10))"
   ]
  },
  {
   "cell_type": "code",
   "execution_count": 187,
   "metadata": {},
   "outputs": [
    {
     "name": "stdout",
     "output_type": "stream",
     "text": [
      "SAE Dataset Columns\n",
      "Index(['Year', 'Jan', 'Feb', 'Mar', 'Apr', 'May', 'Jun', 'Jul', 'Aug', 'Sep',\n",
      "       'Oct', 'Nov', 'Dec'],\n",
      "      dtype='object')\n",
      "First 10 Rows of SAE Dataset\n",
      "   Year   Jan   Feb   Mar   Apr   May   Jun   Jul   Aug   Sep   Oct   Nov  \\\n",
      "0  2007  36.5  37.2  36.6  37.2  36.3  36.7  36.9  37.2  38.0  37.2  37.5   \n",
      "1  2008  37.4  37.8  38.2  37.7  37.3  38.2  36.7  37.7  37.4  37.0  37.5   \n",
      "2  2009  37.4  37.7  37.7  37.2  37.4  37.9  37.1  37.4  36.8  36.7  37.2   \n",
      "3  2010  36.5  36.8  37.2  37.7  38.0  37.9  37.4  37.2  36.8  36.9  37.1   \n",
      "4  2011  36.7  37.7  37.3  37.2  37.4  37.3  36.8  37.1  37.0  37.2  36.9   \n",
      "5  2012  36.6  36.9  36.5  36.7  36.4  36.9  36.4  36.6  36.7  36.0  35.9   \n",
      "6  2013  35.5  36.0  35.8  35.5  35.6  36.3  36.0  36.4  36.7  36.1  36.1   \n",
      "7  2014  35.7  35.4  36.6  36.0  36.2  36.4  35.8  36.2  36.3  36.1  36.7   \n",
      "8  2015  35.9  35.6  36.1  36.1  36.5  36.7  36.6  37.2  36.4  36.0  36.6   \n",
      "9  2016  36.3  36.5  36.8  36.8  37.2  36.8  36.6  37.0  36.9  37.4  37.3   \n",
      "\n",
      "    Dec  \n",
      "0  38.5  \n",
      "1  37.2  \n",
      "2  36.5  \n",
      "3  37.1  \n",
      "4  36.7  \n",
      "5  36.5  \n",
      "6  36.5  \n",
      "7  36.7  \n",
      "8  36.4  \n",
      "9  37.5  \n"
     ]
    }
   ],
   "source": [
    "print(\"SAE Dataset Columns\")\n",
    "print(sae_df.columns)\n",
    "\n",
    "print(\"First 10 Rows of SAE Dataset\")\n",
    "print(sae_df.head(10))"
   ]
  },
  {
   "cell_type": "markdown",
   "metadata": {},
   "source": [
    "## Process SAE Data"
   ]
  },
  {
   "cell_type": "code",
   "execution_count": 188,
   "metadata": {},
   "outputs": [],
   "source": [
    "# Step 1: Convert SAE dataset to long format\n",
    "sae_long = sae_df.melt(id_vars=['Year'], var_name='Month', value_name='curr_sae_hrs')\n",
    "sae_long['Month'] = sae_long['Month'].str.strip()  # Remove any whitespace in column names"
   ]
  },
  {
   "cell_type": "code",
   "execution_count": 189,
   "metadata": {},
   "outputs": [
    {
     "name": "stdout",
     "output_type": "stream",
     "text": [
      "   Year Month  curr_sae_hrs\n",
      "0  2007   Jan          36.5\n",
      "1  2008   Jan          37.4\n",
      "2  2009   Jan          37.4\n",
      "3  2010   Jan          36.5\n",
      "4  2011   Jan          36.7\n",
      "5  2012   Jan          36.6\n",
      "6  2013   Jan          35.5\n",
      "7  2014   Jan          35.7\n",
      "8  2015   Jan          35.9\n",
      "9  2016   Jan          36.3\n"
     ]
    }
   ],
   "source": [
    "print(sae_long.head(10))"
   ]
  },
  {
   "cell_type": "code",
   "execution_count": 190,
   "metadata": {},
   "outputs": [],
   "source": [
    "# Create a date column\n",
    "sae_long['date'] = pd.to_datetime(sae_long['Year'].astype(str) + sae_long['Month'], format='%Y%b')\n"
   ]
  },
  {
   "cell_type": "code",
   "execution_count": 191,
   "metadata": {},
   "outputs": [],
   "source": [
    "# Sort the DataFrame by the date column in descending order\n",
    "sae_long = sae_long.sort_values(by='date', ascending=False)\n"
   ]
  },
  {
   "cell_type": "code",
   "execution_count": 192,
   "metadata": {},
   "outputs": [
    {
     "name": "stdout",
     "output_type": "stream",
     "text": [
      "     Year Month  curr_sae_hrs       date\n",
      "215  2024   Dec           NaN 2024-12-01\n",
      "197  2024   Nov           NaN 2024-11-01\n",
      "179  2024   Oct           NaN 2024-10-01\n",
      "161  2024   Sep          36.0 2024-09-01\n",
      "143  2024   Aug          36.2 2024-08-01\n",
      "125  2024   Jul          35.8 2024-07-01\n",
      "107  2024   Jun          36.4 2024-06-01\n",
      "89   2024   May          36.0 2024-05-01\n",
      "71   2024   Apr          35.7 2024-04-01\n",
      "53   2024   Mar          36.0 2024-03-01\n"
     ]
    }
   ],
   "source": [
    "print(sae_long.head(10))"
   ]
  },
  {
   "cell_type": "code",
   "execution_count": 193,
   "metadata": {},
   "outputs": [
    {
     "name": "stdout",
     "output_type": "stream",
     "text": [
      "    Year Month  curr_sae_hrs       date  prev_yr_sae_hrs\n",
      "0   2024   Dec           NaN 2024-12-01             36.0\n",
      "1   2024   Nov           NaN 2024-11-01             35.5\n",
      "2   2024   Oct           NaN 2024-10-01             35.9\n",
      "3   2024   Sep          36.0 2024-09-01             35.9\n",
      "4   2024   Aug          36.2 2024-08-01             36.5\n",
      "5   2024   Jul          35.8 2024-07-01             36.6\n",
      "6   2024   Jun          36.4 2024-06-01             36.6\n",
      "7   2024   May          36.0 2024-05-01             36.3\n",
      "8   2024   Apr          35.7 2024-04-01             36.7\n",
      "9   2024   Mar          36.0 2024-03-01             36.9\n",
      "10  2024   Feb          36.1 2024-02-01             37.1\n",
      "11  2024   Jan          35.1 2024-01-01             36.8\n",
      "12  2023   Dec          36.0 2023-12-01             37.3\n",
      "13  2023   Nov          35.5 2023-11-01             36.5\n",
      "14  2023   Oct          35.9 2023-10-01             37.0\n",
      "15  2023   Sep          35.9 2023-09-01             37.0\n",
      "16  2023   Aug          36.5 2023-08-01             37.3\n",
      "17  2023   Jul          36.6 2023-07-01             36.7\n"
     ]
    }
   ],
   "source": [
    "# Step 1: Create a key for the current month-year and the previous month-year\n",
    "sae_long['key'] = sae_long['Year'].astype(str) + '-' + sae_long['Month']\n",
    "sae_long['prev_key'] = (sae_long['Year'] - 1).astype(str) + '-' + sae_long['Month']\n",
    "\n",
    "# Step 2: Rename columns in a copy of the dataframe for merging\n",
    "sae_lookup = sae_long[['key', 'curr_sae_hrs']].rename(columns={\n",
    "    'key': 'prev_key',\n",
    "    'curr_sae_hrs': 'prev_yr_sae_hrs'\n",
    "})\n",
    "\n",
    "# Step 3: Merge the current dataframe with the lookup dataframe on 'prev_key'\n",
    "sae_long = pd.merge(sae_long, sae_lookup, on='prev_key', how='left')\n",
    "\n",
    "# Drop the temporary keys to clean up the dataframe\n",
    "sae_long.drop(columns=['key', 'prev_key'], inplace=True)\n",
    "\n",
    "# Result now includes the explicitly searched previous year's SAE hours\n",
    "print(sae_long.head(18))\n"
   ]
  },
  {
   "cell_type": "markdown",
   "metadata": {},
   "source": [
    "## Process the LAUS Data"
   ]
  },
  {
   "cell_type": "code",
   "execution_count": 194,
   "metadata": {},
   "outputs": [
    {
     "name": "stdout",
     "output_type": "stream",
     "text": [
      "     Year Period  curr_laus_labor_force  curr_laus_unemployment  \\\n",
      "212  2024    Sep                 449955                   14931   \n",
      "211  2024    Aug                 449065                   14416   \n",
      "210  2024    Jul                 453547                   14372   \n",
      "209  2024    Jun                 451186                   15511   \n",
      "208  2024    May                 447798                   11624   \n",
      "207  2024    Apr                 449743                   11054   \n",
      "206  2024    Mar                 450534                   12068   \n",
      "205  2024    Feb                 446352                   11481   \n",
      "204  2024    Jan                 442027                   14780   \n",
      "203  2023    Dec                 440939                   12338   \n",
      "202  2023    Nov                 443648                   12815   \n",
      "201  2023    Oct                 444013                   13909   \n",
      "200  2023    Sep                 442970                   13798   \n",
      "199  2023    Aug                 440564                   13928   \n",
      "198  2023    Jul                 447423                   15034   \n",
      "197  2023    Jun                 451846                   15874   \n",
      "196  2023    May                 448411                   12823   \n",
      "195  2023    Apr                 445726                   10748   \n",
      "\n",
      "     prev_yr_laus_labor_force  prev_yr_laus_unemployment       date  \n",
      "212                  442970.0                    13798.0 2024-09-01  \n",
      "211                  440564.0                    13928.0 2024-08-01  \n",
      "210                  447423.0                    15034.0 2024-07-01  \n",
      "209                  451846.0                    15874.0 2024-06-01  \n",
      "208                  448411.0                    12823.0 2024-05-01  \n",
      "207                  445726.0                    10748.0 2024-04-01  \n",
      "206                  444666.0                    12913.0 2024-03-01  \n",
      "205                  442981.0                    13950.0 2024-02-01  \n",
      "204                  438386.0                    14360.0 2024-01-01  \n",
      "203                  437336.0                    12103.0 2023-12-01  \n",
      "202                  439076.0                    13228.0 2023-11-01  \n",
      "201                  439649.0                    14019.0 2023-10-01  \n",
      "200                  440207.0                    12979.0 2023-09-01  \n",
      "199                  439949.0                    14385.0 2023-08-01  \n",
      "198                  444123.0                    15246.0 2023-07-01  \n",
      "197                  443871.0                    17062.0 2023-06-01  \n",
      "196                  442725.0                    13028.0 2023-05-01  \n",
      "195                  443678.0                    12317.0 2023-04-01  \n"
     ]
    }
   ],
   "source": [
    "# Step 1: Create a key for the current month-year and the previous month-year\n",
    "laus_df['key'] = laus_df['Year'].astype(str) + '-' + laus_df['Period']\n",
    "laus_df['prev_key'] = (laus_df['Year'] - 1).astype(str) + '-' + laus_df['Period']\n",
    "\n",
    "# Step 2: Rename columns in a copy of the dataframe for merging\n",
    "laus_lookup = laus_df[['key', 'labor force', 'unemployment']].rename(columns={\n",
    "    'key': 'prev_key',\n",
    "    'labor force': 'prev_yr_laus_labor_force',\n",
    "    'unemployment': 'prev_yr_laus_unemployment'\n",
    "})\n",
    "\n",
    "# Step 3: Merge the current dataframe with the lookup dataframe on 'prev_key'\n",
    "laus_df = pd.merge(laus_df, laus_lookup, on='prev_key', how='left')\n",
    "\n",
    "# Rename columns to match the desired output format\n",
    "laus_df.rename(columns={\n",
    "    'labor force': 'curr_laus_labor_force',\n",
    "    'unemployment': 'curr_laus_unemployment'\n",
    "}, inplace=True)\n",
    "\n",
    "# Step 4: Create a date column\n",
    "laus_df['date'] = pd.to_datetime(laus_df['Year'].astype(str) + '-' + laus_df['Period'], format='%Y-%b')\n",
    "\n",
    "# Step 5: Drop unnecessary columns\n",
    "laus_df.drop(columns=['employment', 'unemployment rate', 'key', 'prev_key'], inplace=True)\n",
    "\n",
    "# Step 6: Sort by date column in descending order\n",
    "laus_df = laus_df.sort_values(by='date', ascending=False)\n",
    "\n",
    "# Display the updated dataframe\n",
    "print(laus_df.head(18))\n"
   ]
  },
  {
   "cell_type": "markdown",
   "metadata": {},
   "source": [
    "## Join the SAE and LAUS Data"
   ]
  },
  {
   "cell_type": "code",
   "execution_count": 195,
   "metadata": {},
   "outputs": [
    {
     "name": "stdout",
     "output_type": "stream",
     "text": [
      "          date  curr_sae_hrs  curr_laus_labor_force  curr_laus_unemployment  \\\n",
      "215 2024-12-01           NaN                    NaN                     NaN   \n",
      "214 2024-11-01           NaN                    NaN                     NaN   \n",
      "213 2024-10-01           NaN                    NaN                     NaN   \n",
      "212 2024-09-01          36.0               449955.0                 14931.0   \n",
      "211 2024-08-01          36.2               449065.0                 14416.0   \n",
      "210 2024-07-01          35.8               453547.0                 14372.0   \n",
      "209 2024-06-01          36.4               451186.0                 15511.0   \n",
      "208 2024-05-01          36.0               447798.0                 11624.0   \n",
      "207 2024-04-01          35.7               449743.0                 11054.0   \n",
      "206 2024-03-01          36.0               450534.0                 12068.0   \n",
      "205 2024-02-01          36.1               446352.0                 11481.0   \n",
      "204 2024-01-01          35.1               442027.0                 14780.0   \n",
      "203 2023-12-01          36.0               440939.0                 12338.0   \n",
      "202 2023-11-01          35.5               443648.0                 12815.0   \n",
      "201 2023-10-01          35.9               444013.0                 13909.0   \n",
      "200 2023-09-01          35.9               442970.0                 13798.0   \n",
      "199 2023-08-01          36.5               440564.0                 13928.0   \n",
      "198 2023-07-01          36.6               447423.0                 15034.0   \n",
      "\n",
      "     prev_yr_sae_hrs  prev_yr_laus_labor_force  prev_yr_laus_unemployment  \n",
      "215             36.0                       NaN                        NaN  \n",
      "214             35.5                       NaN                        NaN  \n",
      "213             35.9                       NaN                        NaN  \n",
      "212             35.9                  442970.0                    13798.0  \n",
      "211             36.5                  440564.0                    13928.0  \n",
      "210             36.6                  447423.0                    15034.0  \n",
      "209             36.6                  451846.0                    15874.0  \n",
      "208             36.3                  448411.0                    12823.0  \n",
      "207             36.7                  445726.0                    10748.0  \n",
      "206             36.9                  444666.0                    12913.0  \n",
      "205             37.1                  442981.0                    13950.0  \n",
      "204             36.8                  438386.0                    14360.0  \n",
      "203             37.3                  437336.0                    12103.0  \n",
      "202             36.5                  439076.0                    13228.0  \n",
      "201             37.0                  439649.0                    14019.0  \n",
      "200             37.0                  440207.0                    12979.0  \n",
      "199             37.3                  439949.0                    14385.0  \n",
      "198             36.7                  444123.0                    15246.0  \n"
     ]
    }
   ],
   "source": [
    "# Step 1: Merge the two DataFrames on the 'date' column\n",
    "merged_df = pd.merge(\n",
    "    sae_long,\n",
    "    laus_df,\n",
    "    on='date',\n",
    "    how='outer'  # 'outer' for all dates\n",
    ")\n",
    "\n",
    "# Step 2: Select and reorder the columns as desired\n",
    "merged_df = merged_df[[\n",
    "    'date', \n",
    "    'curr_sae_hrs', \n",
    "    'curr_laus_labor_force', \n",
    "    'curr_laus_unemployment', \n",
    "    'prev_yr_sae_hrs', \n",
    "    'prev_yr_laus_labor_force', \n",
    "    'prev_yr_laus_unemployment'\n",
    "]]\n",
    "\n",
    "merged_df = merged_df.sort_values(by='date', ascending=False)\n",
    "\n",
    "# Display the resulting merged DataFrame\n",
    "print(merged_df.head(18))\n"
   ]
  },
  {
   "cell_type": "code",
   "execution_count": 196,
   "metadata": {},
   "outputs": [
    {
     "name": "stdout",
     "output_type": "stream",
     "text": [
      "Merged DataFrame has been saved to intermediate/stage1-output/stage1_bls_output.csv\n"
     ]
    }
   ],
   "source": [
    "# Write the DataFrame to a CSV file\n",
    "merged_df.to_csv(BLS_STAGE1_OUTPUT_PATH, index=False)\n",
    "\n",
    "print(f\"Merged DataFrame has been saved to {BLS_STAGE1_OUTPUT_PATH}\")"
   ]
  }
 ],
 "metadata": {
  "kernelspec": {
   "display_name": "512_proj",
   "language": "python",
   "name": "python3"
  },
  "language_info": {
   "codemirror_mode": {
    "name": "ipython",
    "version": 3
   },
   "file_extension": ".py",
   "mimetype": "text/x-python",
   "name": "python",
   "nbconvert_exporter": "python",
   "pygments_lexer": "ipython3",
   "version": "3.11.10"
  }
 },
 "nbformat": 4,
 "nbformat_minor": 2
}
