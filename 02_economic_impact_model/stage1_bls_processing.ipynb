{
 "cells": [
  {
   "cell_type": "markdown",
   "metadata": {},
   "source": [
    "# Processing U.S. Bureau of Labor Statistics Datasets"
   ]
  },
  {
   "cell_type": "markdown",
   "metadata": {},
   "source": [
    "The `Local Area Unemployment Statistics (LAUS)` and `State and Metro Area Employment, Hours, & Earnings (SAE)` datasets were downloaded using the [SAE Databases One Screen option](https://www.bls.gov/sae/data/) and the [LAUS Databases One Screen option]()\n",
    "\n",
    "The United States Office of Management and Budget (OMB) delineates metropolitan and micropolitan statistical areas according to published standards that are applied to Census Bureau data. The general concept of a metropolitan or micropolitan statistical area is that of a core area containing a substantial population nucleus, together with adjacent communities having a high degree of economic and social integration with that core. Current area delineations are based on OMB Bulletin No. 18-03 effective April 2018."
   ]
  },
  {
   "cell_type": "code",
   "execution_count": 1,
   "metadata": {},
   "outputs": [
    {
     "name": "stderr",
     "output_type": "stream",
     "text": [
      "/var/folders/js/_m5r698x29j4dvr0w18h6jdm0000gn/T/ipykernel_14310/748694261.py:2: DeprecationWarning: \n",
      "Pyarrow will become a required dependency of pandas in the next major release of pandas (pandas 3.0),\n",
      "(to allow more performant data types, such as the Arrow string type, and better interoperability with other libraries)\n",
      "but was not found to be installed on your system.\n",
      "If this would cause problems for you,\n",
      "please provide us feedback at https://github.com/pandas-dev/pandas/issues/54466\n",
      "        \n",
      "  import pandas as pd\n"
     ]
    }
   ],
   "source": [
    "import json\n",
    "import pandas as pd"
   ]
  },
  {
   "cell_type": "code",
   "execution_count": 2,
   "metadata": {},
   "outputs": [],
   "source": [
    "with open('ei_intermediate_file_paths.json') as output_path_file:\n",
    "    file_paths = json.load(output_path_file)\n",
    "\n",
    "LAUS_INPUT_PATH = file_paths.get(\"raw_laus.csv\")\n",
    "\n",
    "SAE_INPUT_PATH = file_paths.get(\"raw_sae.csv\")\n",
    "\n",
    "BLS_STAGE1_OUTPUT_PATH = file_paths.get(\"stage1_bls_output.csv\")"
   ]
  },
  {
   "cell_type": "markdown",
   "metadata": {},
   "source": [
    "## Read in the Data\n",
    "\n",
    "Note: added skiprows due to the format of the file download from the BLS website. Original file formats included in the 02_economic_impact_model/raw directory"
   ]
  },
  {
   "cell_type": "code",
   "execution_count": 3,
   "metadata": {},
   "outputs": [],
   "source": [
    "laus_df = pd.read_excel(LAUS_INPUT_PATH,skiprows=10)\n",
    "\n",
    "sae_df = pd.read_excel(SAE_INPUT_PATH,skiprows=12)"
   ]
  },
  {
   "cell_type": "code",
   "execution_count": 4,
   "metadata": {},
   "outputs": [
    {
     "name": "stdout",
     "output_type": "stream",
     "text": [
      "LAUS Dataset Columns\n",
      "Index(['Year', 'Period', 'labor force', 'employment', 'unemployment',\n",
      "       'unemployment rate'],\n",
      "      dtype='object')\n",
      "First 10 Rows of LAUS Dataset\n",
      "   Year Period  labor force  employment  unemployment  unemployment rate\n",
      "0  2007    Jan       619054      584073         34981                5.7\n",
      "1  2007    Feb       614277      582072         32205                5.2\n",
      "2  2007    Mar       616410      586497         29913                4.9\n",
      "3  2007    Apr       614834      587479         27355                4.4\n",
      "4  2007    May       617835      589760         28075                4.5\n",
      "5  2007    Jun       629064      596036         33028                5.3\n",
      "6  2007    Jul       631471      599001         32470                5.1\n",
      "7  2007    Aug       622063      591348         30715                4.9\n",
      "8  2007    Sep       621736      589636         32100                5.2\n",
      "9  2007    Oct       623843      591794         32049                5.1\n"
     ]
    }
   ],
   "source": [
    "print(\"LAUS Dataset Columns\")\n",
    "print(laus_df.columns)\n",
    "\n",
    "print(\"First 10 Rows of LAUS Dataset\")\n",
    "print(laus_df.head(10))"
   ]
  },
  {
   "cell_type": "code",
   "execution_count": 5,
   "metadata": {},
   "outputs": [
    {
     "name": "stdout",
     "output_type": "stream",
     "text": [
      "SAE Dataset Columns\n",
      "Index(['Year', 'Jan', 'Feb', 'Mar', 'Apr', 'May', 'Jun', 'Jul', 'Aug', 'Sep',\n",
      "       'Oct', 'Nov', 'Dec'],\n",
      "      dtype='object')\n",
      "First 10 Rows of SAE Dataset\n",
      "   Year   Jan   Feb   Mar   Apr   May   Jun   Jul   Aug   Sep   Oct   Nov  \\\n",
      "0  2007  34.0  34.4  35.1  34.8  34.6  35.2  34.9  34.7  35.2  34.9  34.3   \n",
      "1  2008  33.4  34.4  34.7  34.5  34.5  35.6  35.0  35.3  35.1  34.9  34.9   \n",
      "2  2009  34.5  34.9  34.4  34.0  33.8  34.3  34.3  34.8  34.1  34.1  34.4   \n",
      "3  2010  34.9  34.7  35.2  35.3  35.3  35.5  35.4  35.7  35.4  35.5  35.3   \n",
      "4  2011  34.7  34.5  35.7  35.5  35.7  35.7  35.5  35.8  34.6  35.4  34.3   \n",
      "5  2012  34.4  34.1  34.3  34.9  34.4  34.6  34.9  35.1  35.5  35.3  35.5   \n",
      "6  2013  34.2  35.2  35.0  34.3  34.7  35.2  34.6  34.8  35.4  35.0  35.0   \n",
      "7  2014  34.8  35.4  35.9  35.4  35.2  35.6  35.4  35.5  35.1  35.1  35.8   \n",
      "8  2015  34.6  34.8  34.9  35.2  35.0  35.2  35.4  36.3  35.2  35.5  35.7   \n",
      "9  2016  35.2  34.8  34.9  35.3  36.0  35.7  35.9  35.8  35.9  35.8  35.7   \n",
      "\n",
      "    Dec  \n",
      "0  35.3  \n",
      "1  35.2  \n",
      "2  34.7  \n",
      "3  35.7  \n",
      "4  34.2  \n",
      "5  35.8  \n",
      "6  35.7  \n",
      "7  35.5  \n",
      "8  35.4  \n",
      "9  35.8  \n"
     ]
    }
   ],
   "source": [
    "print(\"SAE Dataset Columns\")\n",
    "print(sae_df.columns)\n",
    "\n",
    "print(\"First 10 Rows of SAE Dataset\")\n",
    "print(sae_df.head(10))"
   ]
  },
  {
   "cell_type": "markdown",
   "metadata": {},
   "source": [
    "## Process SAE Data"
   ]
  },
  {
   "cell_type": "code",
   "execution_count": 6,
   "metadata": {},
   "outputs": [],
   "source": [
    "# Step 1: Convert SAE dataset to long format\n",
    "sae_long = sae_df.melt(id_vars=['Year'], var_name='Month', value_name='curr_sae_hrs')\n",
    "sae_long['Month'] = sae_long['Month'].str.strip()  # Remove any whitespace in column names"
   ]
  },
  {
   "cell_type": "code",
   "execution_count": 7,
   "metadata": {},
   "outputs": [
    {
     "name": "stdout",
     "output_type": "stream",
     "text": [
      "   Year Month  curr_sae_hrs\n",
      "0  2007   Jan          34.0\n",
      "1  2008   Jan          33.4\n",
      "2  2009   Jan          34.5\n",
      "3  2010   Jan          34.9\n",
      "4  2011   Jan          34.7\n",
      "5  2012   Jan          34.4\n",
      "6  2013   Jan          34.2\n",
      "7  2014   Jan          34.8\n",
      "8  2015   Jan          34.6\n",
      "9  2016   Jan          35.2\n"
     ]
    }
   ],
   "source": [
    "print(sae_long.head(10))"
   ]
  },
  {
   "cell_type": "code",
   "execution_count": 8,
   "metadata": {},
   "outputs": [],
   "source": [
    "# Create a date column\n",
    "sae_long['date'] = pd.to_datetime(sae_long['Year'].astype(str) + sae_long['Month'], format='%Y%b')\n"
   ]
  },
  {
   "cell_type": "code",
   "execution_count": 9,
   "metadata": {},
   "outputs": [],
   "source": [
    "# Sort the DataFrame by the date column in descending order\n",
    "sae_long = sae_long.sort_values(by='date', ascending=False)\n"
   ]
  },
  {
   "cell_type": "code",
   "execution_count": 10,
   "metadata": {},
   "outputs": [
    {
     "name": "stdout",
     "output_type": "stream",
     "text": [
      "     Year Month  curr_sae_hrs       date\n",
      "215  2024   Dec           NaN 2024-12-01\n",
      "197  2024   Nov           NaN 2024-11-01\n",
      "179  2024   Oct          34.3 2024-10-01\n",
      "161  2024   Sep          34.5 2024-09-01\n",
      "143  2024   Aug          34.2 2024-08-01\n",
      "125  2024   Jul          34.3 2024-07-01\n",
      "107  2024   Jun          34.9 2024-06-01\n",
      "89   2024   May          33.8 2024-05-01\n",
      "71   2024   Apr          34.0 2024-04-01\n",
      "53   2024   Mar          34.3 2024-03-01\n"
     ]
    }
   ],
   "source": [
    "print(sae_long.head(10))"
   ]
  },
  {
   "cell_type": "code",
   "execution_count": 11,
   "metadata": {},
   "outputs": [
    {
     "name": "stdout",
     "output_type": "stream",
     "text": [
      "    Year Month  curr_sae_hrs       date  prev_yr_sae_hrs\n",
      "0   2024   Dec           NaN 2024-12-01             34.5\n",
      "1   2024   Nov           NaN 2024-11-01             34.6\n",
      "2   2024   Oct          34.3 2024-10-01             34.7\n",
      "3   2024   Sep          34.5 2024-09-01             34.7\n",
      "4   2024   Aug          34.2 2024-08-01             35.0\n",
      "5   2024   Jul          34.3 2024-07-01             35.2\n",
      "6   2024   Jun          34.9 2024-06-01             34.8\n",
      "7   2024   May          33.8 2024-05-01             34.9\n",
      "8   2024   Apr          34.0 2024-04-01             35.4\n",
      "9   2024   Mar          34.3 2024-03-01             34.7\n",
      "10  2024   Feb          34.2 2024-02-01             34.7\n",
      "11  2024   Jan          33.5 2024-01-01             35.1\n",
      "12  2023   Dec          34.5 2023-12-01             34.8\n",
      "13  2023   Nov          34.6 2023-11-01             35.2\n",
      "14  2023   Oct          34.7 2023-10-01             35.6\n",
      "15  2023   Sep          34.7 2023-09-01             35.4\n",
      "16  2023   Aug          35.0 2023-08-01             34.9\n",
      "17  2023   Jul          35.2 2023-07-01             35.0\n"
     ]
    }
   ],
   "source": [
    "# Step 1: Create a key for the current month-year and the previous month-year\n",
    "sae_long['key'] = sae_long['Year'].astype(str) + '-' + sae_long['Month']\n",
    "sae_long['prev_key'] = (sae_long['Year'] - 1).astype(str) + '-' + sae_long['Month']\n",
    "\n",
    "# Step 2: Rename columns in a copy of the dataframe for merging\n",
    "sae_lookup = sae_long[['key', 'curr_sae_hrs']].rename(columns={\n",
    "    'key': 'prev_key',\n",
    "    'curr_sae_hrs': 'prev_yr_sae_hrs'\n",
    "})\n",
    "\n",
    "# Step 3: Merge the current dataframe with the lookup dataframe on 'prev_key'\n",
    "sae_long = pd.merge(sae_long, sae_lookup, on='prev_key', how='left')\n",
    "\n",
    "# Drop the temporary keys to clean up the dataframe\n",
    "sae_long.drop(columns=['key', 'prev_key'], inplace=True)\n",
    "\n",
    "# Result now includes the explicitly searched previous year's SAE hours\n",
    "print(sae_long.head(18))\n"
   ]
  },
  {
   "cell_type": "markdown",
   "metadata": {},
   "source": [
    "## Process the LAUS Data"
   ]
  },
  {
   "cell_type": "code",
   "execution_count": 12,
   "metadata": {},
   "outputs": [
    {
     "name": "stdout",
     "output_type": "stream",
     "text": [
      "     Year Period  curr_laus_labor_force  curr_laus_unemployment_rate  \\\n",
      "212  2024    Sep                 621528                          4.4   \n",
      "211  2024    Aug                 622437                          4.4   \n",
      "210  2024    Jul                 627202                          4.5   \n",
      "209  2024    Jun                 622404                          4.6   \n",
      "208  2024    May                 620054                          3.5   \n",
      "207  2024    Apr                 621615                          3.2   \n",
      "206  2024    Mar                 623679                          3.7   \n",
      "205  2024    Feb                 617640                          3.5   \n",
      "204  2024    Jan                 614328                          4.3   \n",
      "203  2023    Dec                 616903                          3.7   \n",
      "202  2023    Nov                 617394                          3.7   \n",
      "201  2023    Oct                 618328                          4.1   \n",
      "200  2023    Sep                 618474                          4.0   \n",
      "199  2023    Aug                 621427                          4.4   \n",
      "198  2023    Jul                 628313                          4.4   \n",
      "197  2023    Jun                 630277                          4.6   \n",
      "196  2023    May                 624628                          3.7   \n",
      "195  2023    Apr                 624453                          3.3   \n",
      "\n",
      "     prev_yr_laus_labor_force  prev_yr_laus_unemployment_rate       date  \n",
      "212                  618474.0                             4.0 2024-09-01  \n",
      "211                  621427.0                             4.4 2024-08-01  \n",
      "210                  628313.0                             4.4 2024-07-01  \n",
      "209                  630277.0                             4.6 2024-06-01  \n",
      "208                  624628.0                             3.7 2024-05-01  \n",
      "207                  624453.0                             3.3 2024-04-01  \n",
      "206                  626633.0                             4.0 2024-03-01  \n",
      "205                  623987.0                             4.1 2024-02-01  \n",
      "204                  621329.0                             4.2 2024-01-01  \n",
      "203                  623968.0                             3.5 2023-12-01  \n",
      "202                  623390.0                             3.8 2023-11-01  \n",
      "201                  626878.0                             4.2 2023-10-01  \n",
      "200                  630640.0                             4.1 2023-09-01  \n",
      "199                  635721.0                             4.5 2023-08-01  \n",
      "198                  640619.0                             4.7 2023-07-01  \n",
      "197                  638623.0                             4.8 2023-06-01  \n",
      "196                  634785.0                             3.8 2023-05-01  \n",
      "195                  635006.0                             3.8 2023-04-01  \n"
     ]
    }
   ],
   "source": [
    "# Step 1: Create a key for the current month-year and the previous month-year\n",
    "laus_df['key'] = laus_df['Year'].astype(str) + '-' + laus_df['Period']\n",
    "laus_df['prev_key'] = (laus_df['Year'] - 1).astype(str) + '-' + laus_df['Period']\n",
    "\n",
    "# Step 2: Rename columns in a copy of the dataframe for merging\n",
    "laus_lookup = laus_df[['key', 'labor force', 'unemployment rate']].rename(columns={\n",
    "    'key': 'prev_key',\n",
    "    'labor force': 'prev_yr_laus_labor_force',\n",
    "    'unemployment rate': 'prev_yr_laus_unemployment_rate'\n",
    "})\n",
    "\n",
    "# Step 3: Merge the current dataframe with the lookup dataframe on 'prev_key'\n",
    "laus_df = pd.merge(laus_df, laus_lookup, on='prev_key', how='left')\n",
    "\n",
    "# Rename columns to match the desired output format\n",
    "laus_df.rename(columns={\n",
    "    'labor force': 'curr_laus_labor_force',\n",
    "    'unemployment rate': 'curr_laus_unemployment_rate'\n",
    "}, inplace=True)\n",
    "\n",
    "# Step 4: Create a date column\n",
    "laus_df['date'] = pd.to_datetime(laus_df['Year'].astype(str) + '-' + laus_df['Period'], format='%Y-%b')\n",
    "\n",
    "# Step 5: Drop unnecessary columns\n",
    "laus_df.drop(columns=['employment', 'unemployment', 'key', 'prev_key'], inplace=True)\n",
    "\n",
    "# Step 6: Sort by date column in descending order\n",
    "laus_df = laus_df.sort_values(by='date', ascending=False)\n",
    "\n",
    "# Display the updated dataframe\n",
    "print(laus_df.head(18))\n"
   ]
  },
  {
   "cell_type": "markdown",
   "metadata": {},
   "source": [
    "## Join the SAE and LAUS Data"
   ]
  },
  {
   "cell_type": "code",
   "execution_count": 13,
   "metadata": {},
   "outputs": [
    {
     "name": "stdout",
     "output_type": "stream",
     "text": [
      "          date  curr_sae_hrs  curr_laus_labor_force  \\\n",
      "215 2024-12-01           NaN                    NaN   \n",
      "214 2024-11-01           NaN                    NaN   \n",
      "213 2024-10-01          34.3                    NaN   \n",
      "212 2024-09-01          34.5               621528.0   \n",
      "211 2024-08-01          34.2               622437.0   \n",
      "210 2024-07-01          34.3               627202.0   \n",
      "209 2024-06-01          34.9               622404.0   \n",
      "208 2024-05-01          33.8               620054.0   \n",
      "207 2024-04-01          34.0               621615.0   \n",
      "206 2024-03-01          34.3               623679.0   \n",
      "205 2024-02-01          34.2               617640.0   \n",
      "204 2024-01-01          33.5               614328.0   \n",
      "203 2023-12-01          34.5               616903.0   \n",
      "202 2023-11-01          34.6               617394.0   \n",
      "201 2023-10-01          34.7               618328.0   \n",
      "200 2023-09-01          34.7               618474.0   \n",
      "199 2023-08-01          35.0               621427.0   \n",
      "198 2023-07-01          35.2               628313.0   \n",
      "\n",
      "     curr_laus_unemployment_rate  prev_yr_sae_hrs  prev_yr_laus_labor_force  \\\n",
      "215                          NaN             34.5                       NaN   \n",
      "214                          NaN             34.6                       NaN   \n",
      "213                          NaN             34.7                       NaN   \n",
      "212                          4.4             34.7                  618474.0   \n",
      "211                          4.4             35.0                  621427.0   \n",
      "210                          4.5             35.2                  628313.0   \n",
      "209                          4.6             34.8                  630277.0   \n",
      "208                          3.5             34.9                  624628.0   \n",
      "207                          3.2             35.4                  624453.0   \n",
      "206                          3.7             34.7                  626633.0   \n",
      "205                          3.5             34.7                  623987.0   \n",
      "204                          4.3             35.1                  621329.0   \n",
      "203                          3.7             34.8                  623968.0   \n",
      "202                          3.7             35.2                  623390.0   \n",
      "201                          4.1             35.6                  626878.0   \n",
      "200                          4.0             35.4                  630640.0   \n",
      "199                          4.4             34.9                  635721.0   \n",
      "198                          4.4             35.0                  640619.0   \n",
      "\n",
      "     prev_yr_laus_unemployment_rate  \n",
      "215                             NaN  \n",
      "214                             NaN  \n",
      "213                             NaN  \n",
      "212                             4.0  \n",
      "211                             4.4  \n",
      "210                             4.4  \n",
      "209                             4.6  \n",
      "208                             3.7  \n",
      "207                             3.3  \n",
      "206                             4.0  \n",
      "205                             4.1  \n",
      "204                             4.2  \n",
      "203                             3.5  \n",
      "202                             3.8  \n",
      "201                             4.2  \n",
      "200                             4.1  \n",
      "199                             4.5  \n",
      "198                             4.7  \n"
     ]
    }
   ],
   "source": [
    "# Step 1: Merge the two DataFrames on the 'date' column\n",
    "merged_df = pd.merge(\n",
    "    sae_long,\n",
    "    laus_df,\n",
    "    on='date',\n",
    "    how='outer'  # 'outer' for all dates\n",
    ")\n",
    "\n",
    "# Step 2: Select and reorder the columns as desired\n",
    "merged_df = merged_df[[\n",
    "    'date', \n",
    "    'curr_sae_hrs', \n",
    "    'curr_laus_labor_force', \n",
    "    'curr_laus_unemployment_rate', \n",
    "    'prev_yr_sae_hrs', \n",
    "    'prev_yr_laus_labor_force', \n",
    "    'prev_yr_laus_unemployment_rate'\n",
    "]]\n",
    "\n",
    "merged_df = merged_df.sort_values(by='date', ascending=False)\n",
    "\n",
    "# Display the resulting merged DataFrame\n",
    "print(merged_df.head(18))\n"
   ]
  },
  {
   "cell_type": "code",
   "execution_count": 14,
   "metadata": {},
   "outputs": [
    {
     "name": "stdout",
     "output_type": "stream",
     "text": [
      "          date  curr_sae_hrs  curr_laus_labor_force  \\\n",
      "215 2024-12-01           NaN                    NaN   \n",
      "214 2024-11-01           NaN                    NaN   \n",
      "213 2024-10-01          34.3                    NaN   \n",
      "212 2024-09-01          34.5               621528.0   \n",
      "211 2024-08-01          34.2               622437.0   \n",
      "210 2024-07-01          34.3               627202.0   \n",
      "209 2024-06-01          34.9               622404.0   \n",
      "208 2024-05-01          33.8               620054.0   \n",
      "207 2024-04-01          34.0               621615.0   \n",
      "206 2024-03-01          34.3               623679.0   \n",
      "205 2024-02-01          34.2               617640.0   \n",
      "204 2024-01-01          33.5               614328.0   \n",
      "203 2023-12-01          34.5               616903.0   \n",
      "202 2023-11-01          34.6               617394.0   \n",
      "201 2023-10-01          34.7               618328.0   \n",
      "200 2023-09-01          34.7               618474.0   \n",
      "199 2023-08-01          35.0               621427.0   \n",
      "198 2023-07-01          35.2               628313.0   \n",
      "\n",
      "     curr_laus_unemployment_rate  prev_yr_sae_hrs  prev_yr_laus_labor_force  \\\n",
      "215                          NaN             34.5                       NaN   \n",
      "214                          NaN             34.6                       NaN   \n",
      "213                          NaN             34.7                       NaN   \n",
      "212                          4.4             34.7                  618474.0   \n",
      "211                          4.4             35.0                  621427.0   \n",
      "210                          4.5             35.2                  628313.0   \n",
      "209                          4.6             34.8                  630277.0   \n",
      "208                          3.5             34.9                  624628.0   \n",
      "207                          3.2             35.4                  624453.0   \n",
      "206                          3.7             34.7                  626633.0   \n",
      "205                          3.5             34.7                  623987.0   \n",
      "204                          4.3             35.1                  621329.0   \n",
      "203                          3.7             34.8                  623968.0   \n",
      "202                          3.7             35.2                  623390.0   \n",
      "201                          4.1             35.6                  626878.0   \n",
      "200                          4.0             35.4                  630640.0   \n",
      "199                          4.4             34.9                  635721.0   \n",
      "198                          4.4             35.0                  640619.0   \n",
      "\n",
      "     prev_yr_laus_unemployment_rate  pct_diff_sae_hrs  \\\n",
      "215                             NaN               NaN   \n",
      "214                             NaN               NaN   \n",
      "213                             NaN         -1.152738   \n",
      "212                             4.0         -0.576369   \n",
      "211                             4.4         -2.285714   \n",
      "210                             4.4         -2.556818   \n",
      "209                             4.6          0.287356   \n",
      "208                             3.7         -3.151862   \n",
      "207                             3.3         -3.954802   \n",
      "206                             4.0         -1.152738   \n",
      "205                             4.1         -1.440922   \n",
      "204                             4.2         -4.558405   \n",
      "203                             3.5         -0.862069   \n",
      "202                             3.8         -1.704545   \n",
      "201                             4.2         -2.528090   \n",
      "200                             4.1         -1.977401   \n",
      "199                             4.5          0.286533   \n",
      "198                             4.7          0.571429   \n",
      "\n",
      "     pct_diff_laus_labor_force  pct_diff_laus_unemployment_rate  \n",
      "215                        NaN                              NaN  \n",
      "214                        NaN                              NaN  \n",
      "213                        NaN                              NaN  \n",
      "212                   0.493796                        10.000000  \n",
      "211                   0.162529                         0.000000  \n",
      "210                  -0.176823                         2.272727  \n",
      "209                  -1.249133                         0.000000  \n",
      "208                  -0.732276                        -5.405405  \n",
      "207                  -0.454478                        -3.030303  \n",
      "206                  -0.471408                        -7.500000  \n",
      "205                  -1.017169                       -14.634146  \n",
      "204                  -1.126778                         2.380952  \n",
      "203                  -1.132270                         5.714286  \n",
      "202                  -0.961838                        -2.631579  \n",
      "201                  -1.363902                        -2.380952  \n",
      "200                  -1.929151                        -2.439024  \n",
      "199                  -2.248471                        -2.222222  \n",
      "198                  -1.920955                        -6.382979  \n"
     ]
    }
   ],
   "source": [
    "# Step 3: Calculate percentage difference for each column\n",
    "merged_df['pct_diff_sae_hrs'] = ((merged_df['curr_sae_hrs'] - merged_df['prev_yr_sae_hrs']) / merged_df['prev_yr_sae_hrs']) * 100\n",
    "merged_df['pct_diff_laus_labor_force'] = ((merged_df['curr_laus_labor_force'] - merged_df['prev_yr_laus_labor_force']) / merged_df['prev_yr_laus_labor_force']) * 100\n",
    "merged_df['pct_diff_laus_unemployment_rate'] = ((merged_df['curr_laus_unemployment_rate'] - merged_df['prev_yr_laus_unemployment_rate']) / merged_df['prev_yr_laus_unemployment_rate']) * 100\n",
    "\n",
    "# Display the DataFrame with new percentage difference columns\n",
    "print(merged_df.head(18))"
   ]
  },
  {
   "cell_type": "code",
   "execution_count": 15,
   "metadata": {},
   "outputs": [
    {
     "name": "stdout",
     "output_type": "stream",
     "text": [
      "Merged DataFrame has been saved to intermediate/stage1-output/stage1_bls_output.csv\n"
     ]
    }
   ],
   "source": [
    "# Write the DataFrame to a CSV file\n",
    "merged_df.to_csv(BLS_STAGE1_OUTPUT_PATH, index=False)\n",
    "\n",
    "print(f\"Merged DataFrame has been saved to {BLS_STAGE1_OUTPUT_PATH}\")"
   ]
  }
 ],
 "metadata": {
  "kernelspec": {
   "display_name": "512_proj",
   "language": "python",
   "name": "python3"
  },
  "language_info": {
   "codemirror_mode": {
    "name": "ipython",
    "version": 3
   },
   "file_extension": ".py",
   "mimetype": "text/x-python",
   "name": "python",
   "nbconvert_exporter": "python",
   "pygments_lexer": "ipython3",
   "version": "3.11.10"
  }
 },
 "nbformat": 4,
 "nbformat_minor": 2
}
