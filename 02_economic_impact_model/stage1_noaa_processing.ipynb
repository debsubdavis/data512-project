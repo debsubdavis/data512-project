{
 "cells": [
  {
   "cell_type": "code",
   "execution_count": 132,
   "metadata": {},
   "outputs": [],
   "source": [
    "import json\n",
    "import pandas as pd"
   ]
  },
  {
   "cell_type": "code",
   "execution_count": 133,
   "metadata": {},
   "outputs": [],
   "source": [
    "with open('ei_intermediate_file_paths.json') as output_path_file:\n",
    "    file_paths = json.load(output_path_file)\n",
    "\n",
    "NOAA_INPUT_PATH = file_paths.get(\"raw_noaa.csv\")\n",
    "\n",
    "NOAA_STAGE1_OUTPUT_PATH = file_paths.get(\"stage1_noaa_output.csv\")"
   ]
  },
  {
   "cell_type": "code",
   "execution_count": 134,
   "metadata": {},
   "outputs": [],
   "source": [
    "noaa_df = pd.read_csv(NOAA_INPUT_PATH)"
   ]
  },
  {
   "cell_type": "code",
   "execution_count": 135,
   "metadata": {},
   "outputs": [
    {
     "name": "stdout",
     "output_type": "stream",
     "text": [
      "       STATION                                  NAME  LATITUDE  LONGITUDE  \\\n",
      "0  USW00013893  MEMPHIS INTERNATIONAL AIRPORT, TN US  35.05639   -89.9864   \n",
      "1  USW00013893  MEMPHIS INTERNATIONAL AIRPORT, TN US  35.05639   -89.9864   \n",
      "2  USW00013893  MEMPHIS INTERNATIONAL AIRPORT, TN US  35.05639   -89.9864   \n",
      "3  USW00013893  MEMPHIS INTERNATIONAL AIRPORT, TN US  35.05639   -89.9864   \n",
      "4  USW00013893  MEMPHIS INTERNATIONAL AIRPORT, TN US  35.05639   -89.9864   \n",
      "\n",
      "   ELEVATION     DATE  AWND  CDSD  DP01  DP10  ...  HDSD   PRCP  SNOW  TAVG  \\\n",
      "0       76.6  2009-09   6.3  2023    16    11  ...     1   8.60   0.0  75.7   \n",
      "1       76.6  2009-10   7.6  2044    14     8  ...   155  10.55   0.0  60.7   \n",
      "2       76.6  2009-11   6.0  2047     6     2  ...   454   1.37   0.0  55.1   \n",
      "3       76.6  2009-12   7.8  2047     9     6  ...  1200   5.13   0.0  40.9   \n",
      "4       76.6  2010-01   8.1     0     9     7  ...  2065   3.93   1.4  37.1   \n",
      "\n",
      "   TMAX  TMIN   WDF2   WDF5  WSF2  WSF5  \n",
      "0  83.4  68.0   80.0   80.0  31.1  37.0  \n",
      "1  69.0  52.5  160.0  150.0  25.1  38.0  \n",
      "2  65.1  45.1  360.0  220.0  21.0  31.0  \n",
      "3  48.3  33.5  130.0  150.0  30.0  39.0  \n",
      "4  45.2  29.0  150.0  130.0  32.0  47.0  \n",
      "\n",
      "[5 rows x 25 columns]\n"
     ]
    }
   ],
   "source": [
    "print(noaa_df.head(5))"
   ]
  },
  {
   "cell_type": "code",
   "execution_count": 136,
   "metadata": {},
   "outputs": [
    {
     "name": "stdout",
     "output_type": "stream",
     "text": [
      "Column names:\n",
      " Index(['STATION', 'NAME', 'LATITUDE', 'LONGITUDE', 'ELEVATION', 'DATE', 'AWND',\n",
      "       'CDSD', 'DP01', 'DP10', 'DX32', 'DX90', 'EMNT', 'EMXP', 'EMXT', 'HDSD',\n",
      "       'PRCP', 'SNOW', 'TAVG', 'TMAX', 'TMIN', 'WDF2', 'WDF5', 'WSF2', 'WSF5'],\n",
      "      dtype='object')\n",
      "Data types of columns:\n",
      " STATION       object\n",
      "NAME          object\n",
      "LATITUDE     float64\n",
      "LONGITUDE    float64\n",
      "ELEVATION    float64\n",
      "DATE          object\n",
      "AWND         float64\n",
      "CDSD           int64\n",
      "DP01           int64\n",
      "DP10           int64\n",
      "DX32           int64\n",
      "DX90           int64\n",
      "EMNT           int64\n",
      "EMXP         float64\n",
      "EMXT           int64\n",
      "HDSD           int64\n",
      "PRCP         float64\n",
      "SNOW         float64\n",
      "TAVG         float64\n",
      "TMAX         float64\n",
      "TMIN         float64\n",
      "WDF2         float64\n",
      "WDF5         float64\n",
      "WSF2         float64\n",
      "WSF5         float64\n",
      "dtype: object\n",
      "Number of rows: 181\n"
     ]
    }
   ],
   "source": [
    "# List all column names\n",
    "columns = noaa_df.columns\n",
    "print(\"Column names:\\n\", columns)\n",
    "\n",
    "# Check data types of each column\n",
    "data_types = noaa_df.dtypes\n",
    "print(\"Data types of columns:\\n\", data_types)\n",
    "\n",
    "# Find out the number of rows in the dataset\n",
    "num_rows = len(noaa_df)\n",
    "print(\"Number of rows:\", num_rows)"
   ]
  },
  {
   "cell_type": "code",
   "execution_count": 137,
   "metadata": {},
   "outputs": [
    {
     "name": "stdout",
     "output_type": "stream",
     "text": [
      "Null values per column:\n",
      " STATION      0\n",
      "NAME         0\n",
      "LATITUDE     0\n",
      "LONGITUDE    0\n",
      "ELEVATION    0\n",
      "DATE         0\n",
      "AWND         1\n",
      "CDSD         0\n",
      "DP01         0\n",
      "DP10         0\n",
      "DX32         0\n",
      "DX90         0\n",
      "EMNT         0\n",
      "EMXP         0\n",
      "EMXT         0\n",
      "HDSD         0\n",
      "PRCP         0\n",
      "SNOW         0\n",
      "TAVG         0\n",
      "TMAX         0\n",
      "TMIN         0\n",
      "WDF2         1\n",
      "WDF5         3\n",
      "WSF2         1\n",
      "WSF5         3\n",
      "dtype: int64\n"
     ]
    }
   ],
   "source": [
    "# Check for null values\n",
    "null_values = noaa_df.isnull().sum()\n",
    "print(\"Null values per column:\\n\", null_values)"
   ]
  },
  {
   "cell_type": "code",
   "execution_count": 138,
   "metadata": {},
   "outputs": [
    {
     "name": "stdout",
     "output_type": "stream",
     "text": [
      "Number of duplicate rows: 0\n",
      "Number of rows labeled as NaT: 0\n",
      "Missing months:\n",
      " DatetimeIndex([], dtype='datetime64[ns]', freq='MS')\n"
     ]
    }
   ],
   "source": [
    "# Check for duplicate rows\n",
    "duplicates = noaa_df.duplicated().sum()\n",
    "print(\"Number of duplicate rows:\", duplicates)\n",
    "\n",
    "# Check if there are values for every month between Sep 2009 and Sep 2024\n",
    "noaa_df['DATE'] = pd.to_datetime(noaa_df['DATE'], errors='coerce')\n",
    "num_nat_values = noaa_df['DATE'].isna().sum()\n",
    "print(\"Number of rows labeled as NaT:\", num_nat_values)\n",
    "\n",
    "missing_months = pd.date_range(start='2009-09-01', end='2024-09-30', freq='MS').difference(noaa_df['DATE'].dropna().dt.to_period('M').drop_duplicates().dt.to_timestamp())\n",
    "print(\"Missing months:\\n\", missing_months)"
   ]
  },
  {
   "cell_type": "markdown",
   "metadata": {},
   "source": [
    "## Filter for only required columns\n",
    "\n",
    "No issues noted, so no data cleaning required. Just need to filter down to the columns and months needed for follow-on analysis"
   ]
  },
  {
   "cell_type": "code",
   "execution_count": 139,
   "metadata": {},
   "outputs": [
    {
     "name": "stdout",
     "output_type": "stream",
     "text": [
      "Filtered DataFrame:\n",
      "                                     NAME       DATE  TAVG  TMAX  TMIN   PRCP\n",
      "0   MEMPHIS INTERNATIONAL AIRPORT, TN US 2009-09-01  75.7  83.4  68.0   8.60\n",
      "1   MEMPHIS INTERNATIONAL AIRPORT, TN US 2009-10-01  60.7  69.0  52.5  10.55\n",
      "2   MEMPHIS INTERNATIONAL AIRPORT, TN US 2009-11-01  55.1  65.1  45.1   1.37\n",
      "3   MEMPHIS INTERNATIONAL AIRPORT, TN US 2009-12-01  40.9  48.3  33.5   5.13\n",
      "4   MEMPHIS INTERNATIONAL AIRPORT, TN US 2010-01-01  37.1  45.2  29.0   3.93\n",
      "5   MEMPHIS INTERNATIONAL AIRPORT, TN US 2010-02-01  37.4  45.2  29.6   3.87\n",
      "6   MEMPHIS INTERNATIONAL AIRPORT, TN US 2010-03-01  52.6  62.5  42.8   3.62\n",
      "7   MEMPHIS INTERNATIONAL AIRPORT, TN US 2010-04-01  66.0  76.4  55.5   7.02\n",
      "8   MEMPHIS INTERNATIONAL AIRPORT, TN US 2010-05-01  74.2  83.2  65.1   9.26\n",
      "9   MEMPHIS INTERNATIONAL AIRPORT, TN US 2010-06-01  84.6  93.6  75.6   0.31\n",
      "10  MEMPHIS INTERNATIONAL AIRPORT, TN US 2010-07-01  84.9  93.8  75.9   6.30\n",
      "11  MEMPHIS INTERNATIONAL AIRPORT, TN US 2010-08-01  86.6  95.8  77.3   2.32\n"
     ]
    }
   ],
   "source": [
    "# Filter to only the required columns\n",
    "filtered_columns = [\n",
    "    'NAME',\n",
    "    'DATE',\n",
    "    'TAVG',\n",
    "    'TMAX',\n",
    "    'TMIN',\n",
    "    'PRCP'\n",
    "]\n",
    "\n",
    "filtered_noaa_df = noaa_df[filtered_columns]\n",
    "print(\"Filtered DataFrame:\\n\", filtered_noaa_df.head(12))"
   ]
  },
  {
   "cell_type": "code",
   "execution_count": 140,
   "metadata": {},
   "outputs": [
    {
     "name": "stdout",
     "output_type": "stream",
     "text": [
      "Summary statistics:\n",
      "              TAVG        TMAX        TMIN        PRCP\n",
      "count  181.000000  181.000000  181.000000  181.000000\n",
      "mean    63.958564   73.319890   54.594475    4.725967\n",
      "std     14.983628   15.046622   14.982793    2.812537\n",
      "min     36.100000   44.700000   24.700000    0.120000\n",
      "25%     49.800000   59.900000   40.600000    2.600000\n",
      "50%     64.800000   74.600000   54.800000    4.220000\n",
      "75%     78.400000   87.500000   69.500000    6.300000\n",
      "max     87.200000   97.100000   77.300000   16.200000\n"
     ]
    }
   ],
   "source": [
    "# Summary statistics to understand the dataset better (excluding the DATE column)\n",
    "filtered_summary_stats = filtered_noaa_df.drop(columns=['DATE']).describe()\n",
    "print(\"Summary statistics:\\n\", filtered_summary_stats)"
   ]
  },
  {
   "cell_type": "code",
   "execution_count": 141,
   "metadata": {},
   "outputs": [
    {
     "name": "stdout",
     "output_type": "stream",
     "text": [
      "Filtered NOAA data saved to: intermediate/stage1-output/stage1_noaa_output.csv\n"
     ]
    }
   ],
   "source": [
    "filtered_noaa_df.to_csv(NOAA_STAGE1_OUTPUT_PATH, index=False)\n",
    "\n",
    "print(\"Filtered NOAA data saved to:\", NOAA_STAGE1_OUTPUT_PATH)"
   ]
  }
 ],
 "metadata": {
  "kernelspec": {
   "display_name": "512_proj",
   "language": "python",
   "name": "python3"
  },
  "language_info": {
   "codemirror_mode": {
    "name": "ipython",
    "version": 3
   },
   "file_extension": ".py",
   "mimetype": "text/x-python",
   "name": "python",
   "nbconvert_exporter": "python",
   "pygments_lexer": "ipython3",
   "version": "3.11.10"
  }
 },
 "nbformat": 4,
 "nbformat_minor": 2
}
