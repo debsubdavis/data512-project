{
 "cells": [
  {
   "cell_type": "code",
   "execution_count": 154,
   "metadata": {},
   "outputs": [],
   "source": [
    "import json\n",
    "import geojson\n",
    "import pandas as pd\n",
    "import matplotlib.pyplot as plt"
   ]
  },
  {
   "cell_type": "code",
   "execution_count": 155,
   "metadata": {},
   "outputs": [],
   "source": [
    "with open('intermediate_file_paths.json') as output_path_file:\n",
    "    output_paths = json.load(output_path_file)\n",
    "\n",
    "\n",
    "FIRE_INPUT_PATH = output_paths.get('stage0_fire_json')\n",
    "#FIRE_INPUT_PATH = output_paths.get('POC_stage0_fire_json')"
   ]
  },
  {
   "cell_type": "code",
   "execution_count": 156,
   "metadata": {},
   "outputs": [],
   "source": [
    "SI_PER_FIRE_OUTPUT_PATH = output_paths.get('stage1_si_per_fire_csv')\n",
    "SI_PER_YEAR_OUTPUT_PATH = output_paths.get(\"stage1_si_per_year_csv\")"
   ]
  },
  {
   "cell_type": "code",
   "execution_count": 157,
   "metadata": {},
   "outputs": [],
   "source": [
    "with open(FIRE_INPUT_PATH) as fire_file:\n",
    "    fire_data = geojson.load(fire_file)"
   ]
  },
  {
   "cell_type": "code",
   "execution_count": 158,
   "metadata": {},
   "outputs": [],
   "source": [
    "# Function to check the number of records and ensure all have the same keys\n",
    "def check_records(data, record_type=\"Record\"):\n",
    "    # Get the set of keys from the first record\n",
    "    first_record_keys = set(data[0].get('attributes', {}).keys())\n",
    "\n",
    "    # Initialize a list to collect error records and a counter for mismatches\n",
    "    error_records = []\n",
    "    mismatched_count = 0\n",
    "\n",
    "    # Iterate through all records to compare the keys\n",
    "    for index, feature in enumerate(data):\n",
    "        current_keys = set(feature.get('attributes', {}).keys())\n",
    "\n",
    "        # Check if the keys match with the first record's keys\n",
    "        if current_keys != first_record_keys:\n",
    "            mismatched_count += 1\n",
    "            print(f\"{record_type} {index} has a different set of keys.\")\n",
    "            print(f\"Expected keys: {first_record_keys}\")\n",
    "            print(f\"Found keys: {current_keys}\")\n",
    "            \n",
    "            # Add the mismatched record to the error list\n",
    "            error_records.append(feature)\n",
    "\n",
    "    # Final report\n",
    "    total_records = len(data)\n",
    "    print(f\"\\nTotal number of {record_type.lower()}s: {total_records}\")\n",
    "    \n",
    "    if mismatched_count == 0:\n",
    "        print(f\"All {record_type.lower()}s contain the same set of keys.\")\n",
    "    else:\n",
    "        print(f\"{mismatched_count} {record_type.lower()}s have mismatched keys.\")\n",
    "\n",
    "    # Return the error records if there are any mismatches\n",
    "    return error_records, first_record_keys\n"
   ]
  },
  {
   "cell_type": "code",
   "execution_count": 159,
   "metadata": {},
   "outputs": [
    {
     "name": "stdout",
     "output_type": "stream",
     "text": [
      "\n",
      "Checking fire_data...\n",
      "\n",
      "Total number of fire data records: 101906\n",
      "All fire data records contain the same set of keys.\n"
     ]
    }
   ],
   "source": [
    "# Check the fire_data and features_with_smoke_impact\n",
    "print(\"\\nChecking fire_data...\")\n",
    "fire_data_errors, fire_data_keys = check_records(fire_data['features'], record_type=\"Fire data record\")\n",
    "\n",
    "# Optional: You can save the error records for later analysis\n",
    "if fire_data_errors:\n",
    "    with open('fire_data_error_records.json', 'w') as fire_error_file:\n",
    "        json.dump({\"features\": fire_data_errors}, fire_error_file, indent=4)\n",
    "    print(\"Fire data error records have been written to 'fire_data_error_records.json'.\")"
   ]
  },
  {
   "cell_type": "markdown",
   "metadata": {},
   "source": [
    "## Convert to Pandas Dataframe"
   ]
  },
  {
   "cell_type": "code",
   "execution_count": 160,
   "metadata": {},
   "outputs": [],
   "source": [
    "# Extract the list of fire attributes from each feature\n",
    "fire_attributes = [feature['attributes'] for feature in fire_data['features']]\n",
    "\n",
    "# Convert the list of attributes dictionaries to a DataFrame\n",
    "fire_df = pd.DataFrame(fire_attributes)"
   ]
  },
  {
   "cell_type": "code",
   "execution_count": 161,
   "metadata": {},
   "outputs": [
    {
     "name": "stdout",
     "output_type": "stream",
     "text": [
      "Index(['OBJECTID', 'USGS_Assigned_ID', 'Assigned_Fire_Type', 'Fire_Year',\n",
      "       'Fire_Polygon_Tier', 'Fire_Attribute_Tiers', 'GIS_Acres',\n",
      "       'GIS_Hectares', 'Source_Datasets', 'Listed_Fire_Types',\n",
      "       'Listed_Fire_Names', 'Listed_Fire_Codes', 'Listed_Fire_IDs',\n",
      "       'Listed_Fire_IRWIN_IDs', 'Listed_Fire_Dates', 'Listed_Fire_Causes',\n",
      "       'Listed_Fire_Cause_Class', 'Listed_Rx_Reported_Acres',\n",
      "       'Listed_Map_Digitize_Methods', 'Listed_Notes', 'Processing_Notes',\n",
      "       'Wildfire_Notice', 'Prescribed_Burn_Notice', 'Wildfire_and_Rx_Flag',\n",
      "       'Overlap_Within_1_or_2_Flag', 'Circleness_Scale', 'Circle_Flag',\n",
      "       'Exclude_From_Summary_Rasters', 'Shape_Length', 'Shape_Area',\n",
      "       'distance'],\n",
      "      dtype='object')\n",
      "Number of rows: 101906\n"
     ]
    }
   ],
   "source": [
    "print(fire_df.columns)\n",
    "print(f\"Number of rows: {fire_df.shape[0]}\")"
   ]
  },
  {
   "cell_type": "code",
   "execution_count": 162,
   "metadata": {},
   "outputs": [
    {
     "name": "stdout",
     "output_type": "stream",
     "text": [
      "   OBJECTID  USGS_Assigned_ID Assigned_Fire_Type  Fire_Year  \\\n",
      "0     14600             14600           Wildfire       1964   \n",
      "1     14602             14602           Wildfire       1964   \n",
      "2     14605             14605           Wildfire       1964   \n",
      "3     14606             14606           Wildfire       1964   \n",
      "4     14607             14607           Wildfire       1964   \n",
      "\n",
      "   Fire_Polygon_Tier Fire_Attribute_Tiers     GIS_Acres  GIS_Hectares  \\\n",
      "0                  1         1 (1), 3 (3)  65338.877636  26441.705659   \n",
      "1                  1         1 (2), 3 (3)  19218.105903   7777.291530   \n",
      "2                  1         1 (2), 3 (4)  14101.443662   5706.651785   \n",
      "3                  1         1 (2), 3 (3)  11365.328284   4599.385176   \n",
      "4                  1         1 (1), 3 (1)  11131.171732   4504.625381   \n",
      "\n",
      "                                     Source_Datasets  \\\n",
      "0  Comb_National_NIFC_Interagency_Fire_Perimeter_...   \n",
      "1  Comb_National_NIFC_Interagency_Fire_Perimeter_...   \n",
      "2  Comb_National_NIFC_Interagency_Fire_Perimeter_...   \n",
      "3  Comb_National_NIFC_Interagency_Fire_Perimeter_...   \n",
      "4  Comb_National_NIFC_Interagency_Fire_Perimeter_...   \n",
      "\n",
      "                   Listed_Fire_Types  ...  \\\n",
      "0  Wildfire (3), Likely Wildfire (1)  ...   \n",
      "1  Wildfire (4), Likely Wildfire (1)  ...   \n",
      "2  Wildfire (4), Likely Wildfire (2)  ...   \n",
      "3  Wildfire (4), Likely Wildfire (1)  ...   \n",
      "4                       Wildfire (2)  ...   \n",
      "\n",
      "                                     Wildfire_Notice  \\\n",
      "0  Wildfire mapping prior to 1984 was inconsisten...   \n",
      "1  Wildfire mapping prior to 1984 was inconsisten...   \n",
      "2  Wildfire mapping prior to 1984 was inconsisten...   \n",
      "3  Wildfire mapping prior to 1984 was inconsisten...   \n",
      "4  Wildfire mapping prior to 1984 was inconsisten...   \n",
      "\n",
      "                              Prescribed_Burn_Notice Wildfire_and_Rx_Flag  \\\n",
      "0  Prescribed fire data in this dataset represent...                 None   \n",
      "1  Prescribed fire data in this dataset represent...                 None   \n",
      "2  Prescribed fire data in this dataset represent...                 None   \n",
      "3  Prescribed fire data in this dataset represent...                 None   \n",
      "4  Prescribed fire data in this dataset represent...                 None   \n",
      "\n",
      "  Overlap_Within_1_or_2_Flag Circleness_Scale Circle_Flag  \\\n",
      "0                       None         0.263753         NaN   \n",
      "1                       None         0.138493         NaN   \n",
      "2                       None         0.245135         NaN   \n",
      "3                       None         0.158810         NaN   \n",
      "4                       None         0.323658         NaN   \n",
      "\n",
      "  Exclude_From_Summary_Rasters   Shape_Length    Shape_Area     distance  \n",
      "0                           No  112240.801495  2.644171e+08  1672.227615  \n",
      "1                           No   84004.974692  7.777292e+07  1553.851516  \n",
      "2                           No   54086.991380  5.706652e+07   924.501775  \n",
      "3                           No   60327.567380  4.599385e+07  1607.885527  \n",
      "4                           No   41820.660908  4.504625e+07  1460.298867  \n",
      "\n",
      "[5 rows x 31 columns]\n"
     ]
    }
   ],
   "source": [
    "# Display the first few rows to verify the structure\n",
    "print(fire_df.head())"
   ]
  },
  {
   "cell_type": "markdown",
   "metadata": {},
   "source": [
    "## Smoke Impact Calculations per Fire"
   ]
  },
  {
   "cell_type": "code",
   "execution_count": 163,
   "metadata": {},
   "outputs": [],
   "source": [
    "# Calculate smoke impact with the given formula\n",
    "def get_smoke_impact(gis_acres, dist_from_memphis, max_acres, max_distance=650):\n",
    "    if gis_acres is None:\n",
    "        return -1, \"Error: Fire size (GIS_Acres) is missing.\"\n",
    "    if dist_from_memphis is None:\n",
    "        return -1, \"Error: Distance from city is missing.\"\n",
    "    if dist_from_memphis > max_distance:\n",
    "        return -1, f\"Error: Distance from city exceeds max distance of {max_distance} miles.\"\n",
    "\n",
    "    # Calculate the smoke impact score, giving more weight to distance\n",
    "    smoke_impact = 500 * (gis_acres / max_acres) * (1 - (dist_from_memphis / max_distance) ** 2)\n",
    "    smoke_impact = max(0, min(smoke_impact, 500))\n",
    "\n",
    "    return smoke_impact, \"Successful calculation\""
   ]
  },
  {
   "cell_type": "code",
   "execution_count": 164,
   "metadata": {},
   "outputs": [],
   "source": [
    "# Filter fires within 650 miles of Memphis\n",
    "filtered_fire_df = fire_df[fire_df['distance'] <= 650]"
   ]
  },
  {
   "cell_type": "code",
   "execution_count": 165,
   "metadata": {},
   "outputs": [
    {
     "name": "stdout",
     "output_type": "stream",
     "text": [
      "Index(['OBJECTID', 'USGS_Assigned_ID', 'Assigned_Fire_Type', 'Fire_Year',\n",
      "       'Fire_Polygon_Tier', 'Fire_Attribute_Tiers', 'GIS_Acres',\n",
      "       'GIS_Hectares', 'Source_Datasets', 'Listed_Fire_Types',\n",
      "       'Listed_Fire_Names', 'Listed_Fire_Codes', 'Listed_Fire_IDs',\n",
      "       'Listed_Fire_IRWIN_IDs', 'Listed_Fire_Dates', 'Listed_Fire_Causes',\n",
      "       'Listed_Fire_Cause_Class', 'Listed_Rx_Reported_Acres',\n",
      "       'Listed_Map_Digitize_Methods', 'Listed_Notes', 'Processing_Notes',\n",
      "       'Wildfire_Notice', 'Prescribed_Burn_Notice', 'Wildfire_and_Rx_Flag',\n",
      "       'Overlap_Within_1_or_2_Flag', 'Circleness_Scale', 'Circle_Flag',\n",
      "       'Exclude_From_Summary_Rasters', 'Shape_Length', 'Shape_Area',\n",
      "       'distance'],\n",
      "      dtype='object')\n",
      "Number of rows: 28270\n"
     ]
    }
   ],
   "source": [
    "print(filtered_fire_df.columns)\n",
    "print(f\"Number of rows: {filtered_fire_df.shape[0]}\")"
   ]
  },
  {
   "cell_type": "code",
   "execution_count": 166,
   "metadata": {},
   "outputs": [
    {
     "name": "stdout",
     "output_type": "stream",
     "text": [
      "Maximum acres within 650 mi radius of Memphis: 1566273.1853343395\n"
     ]
    }
   ],
   "source": [
    "max_acres_within_radius = filtered_fire_df['GIS_Acres'].max()\n",
    "print(f\"Maximum acres within 650 mi radius of Memphis: {max_acres_within_radius}\")"
   ]
  },
  {
   "cell_type": "code",
   "execution_count": 167,
   "metadata": {},
   "outputs": [],
   "source": [
    "# Select relevant columns for the final DataFrame\n",
    "si_per_fire_df = filtered_fire_df[\n",
    "    ['OBJECTID', 'USGS_Assigned_ID', 'Source_Datasets', 'Fire_Year', 'distance', 'GIS_Acres']\n",
    "].rename(columns={\n",
    "    'OBJECTID': 'object_id',\n",
    "    'USGS_Assigned_ID': 'usgs_id',\n",
    "    'Source_Datasets': 'source_dataset',\n",
    "    'Fire_Year': 'fire_year',\n",
    "    'distance': 'distance_from_city',\n",
    "    'GIS_Acres': 'gis_acres'\n",
    "})"
   ]
  },
  {
   "cell_type": "code",
   "execution_count": 168,
   "metadata": {},
   "outputs": [
    {
     "name": "stdout",
     "output_type": "stream",
     "text": [
      "Index(['object_id', 'usgs_id', 'source_dataset', 'fire_year',\n",
      "       'distance_from_city', 'gis_acres'],\n",
      "      dtype='object')\n",
      "Number of rows: 28270\n"
     ]
    }
   ],
   "source": [
    "print(si_per_fire_df.columns)\n",
    "print(f\"Number of rows: {si_per_fire_df.shape[0]}\")"
   ]
  },
  {
   "cell_type": "code",
   "execution_count": 169,
   "metadata": {},
   "outputs": [],
   "source": [
    "si_per_fire_df['smoke_impact'], si_per_fire_df['smoke_impact_message'] = zip(\n",
    "    *si_per_fire_df.apply(\n",
    "        lambda row: get_smoke_impact(row['gis_acres'], row['distance_from_city'], max_acres_within_radius),\n",
    "        axis=1\n",
    "    )\n",
    ")"
   ]
  },
  {
   "cell_type": "code",
   "execution_count": 170,
   "metadata": {},
   "outputs": [
    {
     "name": "stdout",
     "output_type": "stream",
     "text": [
      "Index(['object_id', 'usgs_id', 'source_dataset', 'fire_year',\n",
      "       'distance_from_city', 'gis_acres', 'smoke_impact',\n",
      "       'smoke_impact_message'],\n",
      "      dtype='object')\n",
      "Number of rows: 28270\n"
     ]
    }
   ],
   "source": [
    "print(si_per_fire_df.columns)\n",
    "print(f\"Number of rows: {si_per_fire_df.shape[0]}\")"
   ]
  },
  {
   "cell_type": "code",
   "execution_count": 171,
   "metadata": {},
   "outputs": [
    {
     "name": "stdout",
     "output_type": "stream",
     "text": [
      "     object_id  usgs_id                                     source_dataset  \\\n",
      "157      14783    14783  Comb_National_NIFC_Interagency_Fire_Perimeter_...   \n",
      "340      15001    15001  Comb_National_NIFC_Interagency_Fire_Perimeter_...   \n",
      "352      15017    15017  Comb_National_NIFC_Interagency_Fire_Perimeter_...   \n",
      "370      15040    15040  Comb_National_NIFC_Interagency_Fire_Perimeter_...   \n",
      "683      15383    15383  Comb_National_NIFC_Interagency_Fire_Perimeter_...   \n",
      "\n",
      "     fire_year  distance_from_city  gis_acres  smoke_impact  \\\n",
      "157       1964          384.142162  28.468121      0.005914   \n",
      "340       1965          381.724329  29.902511      0.006254   \n",
      "352       1965          357.252742  11.047444      0.002461   \n",
      "370       1965          374.861207   2.831538      0.000603   \n",
      "683       1966          256.234293  12.781395      0.003446   \n",
      "\n",
      "       smoke_impact_message  \n",
      "157  Successful calculation  \n",
      "340  Successful calculation  \n",
      "352  Successful calculation  \n",
      "370  Successful calculation  \n",
      "683  Successful calculation  \n"
     ]
    }
   ],
   "source": [
    "# Display the first few rows to verify\n",
    "print(si_per_fire_df.head(5))"
   ]
  },
  {
   "cell_type": "code",
   "execution_count": 172,
   "metadata": {},
   "outputs": [
    {
     "name": "stdout",
     "output_type": "stream",
     "text": [
      "DataFrame written to intermediate/stage1-output/smoke_impacts_per_FIRE.csv\n"
     ]
    }
   ],
   "source": [
    "# Write the DataFrame to a CSV file\n",
    "si_per_fire_df.to_csv(SI_PER_FIRE_OUTPUT_PATH, index=False)\n",
    "print(f\"DataFrame written to {SI_PER_FIRE_OUTPUT_PATH}\")"
   ]
  },
  {
   "cell_type": "markdown",
   "metadata": {},
   "source": [
    "## Amortized Smoke Impact Per Year"
   ]
  },
  {
   "cell_type": "code",
   "execution_count": 173,
   "metadata": {},
   "outputs": [],
   "source": [
    "# Weighted Distribution Based on Fire Size\n",
    "min_fire_duration = 10  # Smallest fires burn for 10 days\n",
    "max_fire_duration = 150  # Largest fires burn for 150 days\n",
    "\n",
    "def estimate_fire_duration(gis_acres, max_acres):\n",
    "    \"\"\"\n",
    "    Estimate the duration of the fire based on its size.\n",
    "    Larger fires will last longer.\n",
    "    \"\"\"\n",
    "    fire_duration = min_fire_duration + ((gis_acres / max_acres) * (max_fire_duration - min_fire_duration))\n",
    "    return max(min_fire_duration, min(fire_duration, max_fire_duration))  # Ensure within bounds\n",
    "\n",
    "def calculate_weighted_smoke_impact(si_per_fire_df, max_acres_within_radius):\n",
    "    \"\"\"\n",
    "    Calculate total weighted smoke impact and total acres burned, grouped by fire year.\n",
    "    Returns a DataFrame with columns for year, total weighted smoke impact, and total acres burned.\n",
    "    \"\"\"\n",
    "    # Filter out rows with missing or zero values in 'gis_acres' or 'smoke_impact'\n",
    "    filtered_df = si_per_fire_df[(si_per_fire_df['gis_acres'] > 0) & (si_per_fire_df['smoke_impact'] > 0)]\n",
    "\n",
    "    # Calculate fire duration using max_acres_within_radius and amortized smoke impact for each fire\n",
    "    filtered_df['fire_duration'] = filtered_df['gis_acres'].apply(\n",
    "        lambda acres: estimate_fire_duration(acres, max_acres_within_radius)\n",
    "    )\n",
    "    filtered_df['amortized_smoke_impact'] = filtered_df['smoke_impact'] / filtered_df['fire_duration']\n",
    "\n",
    "    # Group by fire year and calculate total weighted smoke impact and total acres burned\n",
    "    grouped_df = filtered_df.groupby('fire_year').agg(\n",
    "        total_weighted_smoke_impact=('amortized_smoke_impact', 'sum'),\n",
    "        total_acres_burned=('gis_acres', 'sum')\n",
    "    ).reset_index()\n",
    "\n",
    "    # Ensure all years from 1961 to 2021 are included, filling missing years with 0\n",
    "    all_years = pd.DataFrame({'fire_year': range(1961, 2022)})\n",
    "    grouped_df = all_years.merge(grouped_df, on='fire_year', how='left').fillna(0)\n",
    "\n",
    "    return grouped_df\n",
    "\n",
    "# def calculate_weighted_smoke_impact(si_per_fire_df):\n",
    "#     \"\"\"\n",
    "#     Calculate total weighted smoke impact and total acres burned, grouped by fire year.\n",
    "#     Returns a DataFrame with columns for year, total weighted smoke impact, and total acres burned.\n",
    "#     \"\"\"\n",
    "#     # Filter out rows with missing or zero values in 'gis_acres' or 'smoke_impact'\n",
    "#     filtered_df = si_per_fire_df[(si_per_fire_df['gis_acres'] > 0) & (si_per_fire_df['smoke_impact'] > 0)]\n",
    "\n",
    "#     # Calculate fire duration and amortized smoke impact for each fire\n",
    "#     filtered_df['fire_duration'] = filtered_df['gis_acres'].apply(estimate_fire_duration)\n",
    "#     filtered_df['amortized_smoke_impact'] = filtered_df['smoke_impact'] / filtered_df['fire_duration']\n",
    "\n",
    "#     # Group by fire year and calculate total weighted smoke impact and total acres burned\n",
    "#     grouped_df = filtered_df.groupby('fire_year').agg(\n",
    "#         total_weighted_smoke_impact=('amortized_smoke_impact', 'sum'),\n",
    "#         total_acres_burned=('gis_acres', 'sum')\n",
    "#     ).reset_index()\n",
    "\n",
    "#     # Ensure all years from 1961 to 2021 are included, filling missing years with 0\n",
    "#     all_years = pd.DataFrame({'fire_year': range(1961, 2022)})\n",
    "#     grouped_df = all_years.merge(grouped_df, on='fire_year', how='left').fillna(0)\n",
    "\n",
    "#     return grouped_df"
   ]
  },
  {
   "cell_type": "code",
   "execution_count": 174,
   "metadata": {},
   "outputs": [],
   "source": [
    "# Calculate smoke impact and total acres burned for all years\n",
    "si_per_year_df = calculate_weighted_smoke_impact(si_per_fire_df, max_acres_within_radius)"
   ]
  },
  {
   "cell_type": "code",
   "execution_count": 175,
   "metadata": {},
   "outputs": [
    {
     "name": "stdout",
     "output_type": "stream",
     "text": [
      "Number of row in si_per_year_df: 61\n",
      "\n",
      "    fire_year  total_weighted_smoke_impact  total_acres_burned\n",
      "50       2011                    58.811352        4.859570e+06\n",
      "55       2016                    57.827190        3.800291e+06\n",
      "53       2014                    49.698368        3.049966e+06\n",
      "56       2017                    39.752341        3.867709e+06\n",
      "57       2018                    39.397955        2.453311e+06\n"
     ]
    }
   ],
   "source": [
    "print(f\"Number of row in si_per_year_df: {len(si_per_year_df)}\\n\")\n",
    "\n",
    "print(si_per_year_df.sort_values(by='total_weighted_smoke_impact', ascending=False).head(5))\n"
   ]
  },
  {
   "cell_type": "code",
   "execution_count": 176,
   "metadata": {},
   "outputs": [
    {
     "name": "stdout",
     "output_type": "stream",
     "text": [
      "Smoke impact results have been saved to 'intermediate/stage1-output/smoke_impacts_per_YEAR.csv'\n"
     ]
    }
   ],
   "source": [
    "# Write the results to a CSV file\n",
    "si_per_year_df.to_csv(SI_PER_YEAR_OUTPUT_PATH, index=False)\n",
    "\n",
    "print(f\"Smoke impact results have been saved to '{SI_PER_YEAR_OUTPUT_PATH}'\")"
   ]
  }
 ],
 "metadata": {
  "kernelspec": {
   "display_name": "512_proj",
   "language": "python",
   "name": "python3"
  },
  "language_info": {
   "codemirror_mode": {
    "name": "ipython",
    "version": 3
   },
   "file_extension": ".py",
   "mimetype": "text/x-python",
   "name": "python",
   "nbconvert_exporter": "python",
   "pygments_lexer": "ipython3",
   "version": "3.11.10"
  }
 },
 "nbformat": 4,
 "nbformat_minor": 2
}
