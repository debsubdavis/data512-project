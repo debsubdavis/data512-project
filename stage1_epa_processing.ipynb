{
 "cells": [
  {
   "cell_type": "code",
   "execution_count": 6,
   "metadata": {},
   "outputs": [],
   "source": [
    "import json\n",
    "import pandas as pd"
   ]
  },
  {
   "cell_type": "code",
   "execution_count": 7,
   "metadata": {},
   "outputs": [],
   "source": [
    "with open('intermediate_file_paths.json') as output_path_file:\n",
    "    output_paths = json.load(output_path_file)\n",
    "\n",
    "EPA_AQI_INPUT_PATH = output_paths.get('stage0_epa_aqi_csv')"
   ]
  },
  {
   "cell_type": "code",
   "execution_count": 8,
   "metadata": {},
   "outputs": [],
   "source": [
    "AQI_PER_YEAR_OUTPUT_PATH = output_paths.get('stage1_epa_aqi_per_year_csv')\n"
   ]
  },
  {
   "cell_type": "code",
   "execution_count": 9,
   "metadata": {},
   "outputs": [
    {
     "name": "stdout",
     "output_type": "stream",
     "text": [
      "\n",
      " EPA AQI Memphis Column Headers:\n",
      "Index(['site_code', 'site_name', 'pollutant_number', 'pollutant_name',\n",
      "       'local_date', 'aqi'],\n",
      "      dtype='object')\n",
      "\n",
      "EPA AQI Memphis - Basic Info:\n",
      "<class 'pandas.core.frame.DataFrame'>\n",
      "RangeIndex: 407832 entries, 0 to 407831\n",
      "Data columns (total 6 columns):\n",
      " #   Column            Non-Null Count   Dtype \n",
      "---  ------            --------------   ----- \n",
      " 0   site_code         407832 non-null  int64 \n",
      " 1   site_name         251825 non-null  object\n",
      " 2   pollutant_number  407832 non-null  int64 \n",
      " 3   pollutant_name    407832 non-null  object\n",
      " 4   local_date        407832 non-null  int64 \n",
      " 5   aqi               407832 non-null  int64 \n",
      "dtypes: int64(4), object(2)\n",
      "memory usage: 18.7+ MB\n",
      "None\n",
      "\n",
      "EPA AQI Memphis - First 5 Rows:\n",
      "   site_code site_name  pollutant_number  pollutant_name  local_date  aqi\n",
      "0         19       NaN             42401  Sulfur dioxide    19670102   29\n",
      "1         19       NaN             42401  Sulfur dioxide    19670102   29\n",
      "2         19       NaN             42401  Sulfur dioxide    19670103   29\n",
      "3         19       NaN             42401  Sulfur dioxide    19670103   29\n",
      "4         19       NaN             42401  Sulfur dioxide    19670105   29\n"
     ]
    }
   ],
   "source": [
    "epa_aqi_df = pd.read_csv(EPA_AQI_INPUT_PATH)\n",
    "\n",
    "# Display the column headers and basic information for the politician dataset\n",
    "print(\"\\n EPA AQI Memphis Column Headers:\")\n",
    "print(epa_aqi_df.columns)\n",
    "\n",
    "print(\"\\nEPA AQI Memphis - Basic Info:\")\n",
    "print(epa_aqi_df.info())\n",
    "\n",
    "print(\"\\nEPA AQI Memphis - First 5 Rows:\")\n",
    "print(epa_aqi_df.head())"
   ]
  },
  {
   "cell_type": "code",
   "execution_count": 10,
   "metadata": {},
   "outputs": [],
   "source": [
    "# Load the epa_aqi_df dataset\n",
    "epa_aqi_df = pd.read_csv(EPA_AQI_INPUT_PATH)\n",
    "\n",
    "# Extract the 'year' from 'local_date' and add it as a new column\n",
    "epa_aqi_df['year'] = epa_aqi_df['local_date'].astype(str).str[:4].astype(int)\n",
    "\n",
    "# Group by 'year', 'site_code', 'site_name', 'pollutant_number', and 'pollutant_name' and calculate the average 'aqi'\n",
    "annual_aqi_df = epa_aqi_df.groupby(\n",
    "    ['year', 'site_code', 'site_name', 'pollutant_number', 'pollutant_name'],\n",
    "    as_index=False\n",
    ")['aqi'].mean()\n",
    "\n",
    "# Rename the columns as needed for clarity\n",
    "annual_aqi_df = annual_aqi_df.rename(columns={'aqi': 'average_aqi'})"
   ]
  },
  {
   "cell_type": "code",
   "execution_count": 11,
   "metadata": {},
   "outputs": [
    {
     "name": "stdout",
     "output_type": "stream",
     "text": [
      "\n",
      " EPA AQI Memphis PER YEAR Column Headers:\n",
      "Index(['year', 'site_code', 'site_name', 'pollutant_number', 'pollutant_name',\n",
      "       'average_aqi'],\n",
      "      dtype='object')\n",
      "\n",
      "EPA AQI Memphis PER YEAR - Basic Info:\n",
      "<class 'pandas.core.frame.DataFrame'>\n",
      "RangeIndex: 402 entries, 0 to 401\n",
      "Data columns (total 6 columns):\n",
      " #   Column            Non-Null Count  Dtype  \n",
      "---  ------            --------------  -----  \n",
      " 0   year              402 non-null    int64  \n",
      " 1   site_code         402 non-null    int64  \n",
      " 2   site_name         402 non-null    object \n",
      " 3   pollutant_number  402 non-null    int64  \n",
      " 4   pollutant_name    402 non-null    object \n",
      " 5   average_aqi       402 non-null    float64\n",
      "dtypes: float64(1), int64(3), object(2)\n",
      "memory usage: 19.0+ KB\n",
      "None\n",
      "\n",
      "EPA AQI Memphis PER YEAR - First 5 Rows:\n",
      "   year  site_code              site_name  pollutant_number  \\\n",
      "0  1972         21  Frayser Ozone Monitor             42101   \n",
      "1  1972         21  Frayser Ozone Monitor             42602   \n",
      "2  1972         21  Frayser Ozone Monitor             44201   \n",
      "3  1973         21  Frayser Ozone Monitor             42101   \n",
      "4  1973         21  Frayser Ozone Monitor             42602   \n",
      "\n",
      "           pollutant_name  average_aqi  \n",
      "0         Carbon monoxide    26.322581  \n",
      "1  Nitrogen dioxide (NO2)    30.482759  \n",
      "2                   Ozone    16.552083  \n",
      "3         Carbon monoxide    35.275862  \n",
      "4  Nitrogen dioxide (NO2)    23.161290  \n"
     ]
    }
   ],
   "source": [
    "# Display the column headers and basic information for the politician dataset\n",
    "print(\"\\n EPA AQI Memphis PER YEAR Column Headers:\")\n",
    "print(annual_aqi_df.columns)\n",
    "\n",
    "print(\"\\nEPA AQI Memphis PER YEAR - Basic Info:\")\n",
    "print(annual_aqi_df.info())\n",
    "\n",
    "print(\"\\nEPA AQI Memphis PER YEAR - First 5 Rows:\")\n",
    "print(annual_aqi_df.head())"
   ]
  },
  {
   "cell_type": "code",
   "execution_count": 12,
   "metadata": {},
   "outputs": [
    {
     "name": "stdout",
     "output_type": "stream",
     "text": [
      "Annual AQI summary has been saved to 'intermediate/stage1-output/epa_AQI_per_YEAR.csv'\n",
      "   year  site_code              site_name  pollutant_number  \\\n",
      "0  1972         21  Frayser Ozone Monitor             42101   \n",
      "1  1972         21  Frayser Ozone Monitor             42602   \n",
      "2  1972         21  Frayser Ozone Monitor             44201   \n",
      "3  1973         21  Frayser Ozone Monitor             42101   \n",
      "4  1973         21  Frayser Ozone Monitor             42602   \n",
      "\n",
      "           pollutant_name  average_aqi  \n",
      "0         Carbon monoxide    26.322581  \n",
      "1  Nitrogen dioxide (NO2)    30.482759  \n",
      "2                   Ozone    16.552083  \n",
      "3         Carbon monoxide    35.275862  \n",
      "4  Nitrogen dioxide (NO2)    23.161290  \n"
     ]
    }
   ],
   "source": [
    "annual_aqi_df.to_csv(AQI_PER_YEAR_OUTPUT_PATH, index=False)\n",
    "\n",
    "print(f\"Annual AQI summary has been saved to '{AQI_PER_YEAR_OUTPUT_PATH}'\")\n",
    "print(annual_aqi_df.head())"
   ]
  }
 ],
 "metadata": {
  "kernelspec": {
   "display_name": "512_proj",
   "language": "python",
   "name": "python3"
  },
  "language_info": {
   "codemirror_mode": {
    "name": "ipython",
    "version": 3
   },
   "file_extension": ".py",
   "mimetype": "text/x-python",
   "name": "python",
   "nbconvert_exporter": "python",
   "pygments_lexer": "ipython3",
   "version": "3.11.10"
  }
 },
 "nbformat": 4,
 "nbformat_minor": 2
}
