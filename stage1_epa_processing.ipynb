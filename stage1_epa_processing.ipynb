{
 "cells": [
  {
   "cell_type": "code",
   "execution_count": 16,
   "metadata": {},
   "outputs": [],
   "source": [
    "import json\n",
    "import pandas as pd"
   ]
  },
  {
   "cell_type": "code",
   "execution_count": 17,
   "metadata": {},
   "outputs": [],
   "source": [
    "with open('intermediate_file_paths.json') as output_path_file:\n",
    "    output_paths = json.load(output_path_file)\n",
    "\n",
    "EPA_AQI_INPUT_PATH = output_paths.get('stage0_epa_aqi_csv')"
   ]
  },
  {
   "cell_type": "code",
   "execution_count": 18,
   "metadata": {},
   "outputs": [],
   "source": [
    "AQI_PER_DAY_OUTPUT_PATH = output_paths.get('stage1_epa_aqi_per_day_csv')\n",
    "AQI_PER_YEAR_OUTPUT_PATH = output_paths.get('stage1_epa_aqi_per_year_csv')"
   ]
  },
  {
   "cell_type": "code",
   "execution_count": 19,
   "metadata": {},
   "outputs": [
    {
     "name": "stdout",
     "output_type": "stream",
     "text": [
      "\n",
      " EPA AQI Memphis Column Headers:\n",
      "Index(['site_code', 'site_name', 'pollutant_number', 'pollutant_name',\n",
      "       'local_date', 'aqi'],\n",
      "      dtype='object')\n",
      "\n",
      "EPA AQI Memphis - Basic Info:\n",
      "<class 'pandas.core.frame.DataFrame'>\n",
      "RangeIndex: 407832 entries, 0 to 407831\n",
      "Data columns (total 6 columns):\n",
      " #   Column            Non-Null Count   Dtype \n",
      "---  ------            --------------   ----- \n",
      " 0   site_code         407832 non-null  int64 \n",
      " 1   site_name         251825 non-null  object\n",
      " 2   pollutant_number  407832 non-null  int64 \n",
      " 3   pollutant_name    407832 non-null  object\n",
      " 4   local_date        407832 non-null  int64 \n",
      " 5   aqi               407832 non-null  int64 \n",
      "dtypes: int64(4), object(2)\n",
      "memory usage: 18.7+ MB\n",
      "None\n",
      "\n",
      "EPA AQI Memphis - First 5 Rows:\n",
      "   site_code site_name  pollutant_number  pollutant_name  local_date  aqi\n",
      "0         19       NaN             42401  Sulfur dioxide    19670102   29\n",
      "1         19       NaN             42401  Sulfur dioxide    19670102   29\n",
      "2         19       NaN             42401  Sulfur dioxide    19670103   29\n",
      "3         19       NaN             42401  Sulfur dioxide    19670103   29\n",
      "4         19       NaN             42401  Sulfur dioxide    19670105   29\n"
     ]
    }
   ],
   "source": [
    "epa_aqi_df = pd.read_csv(EPA_AQI_INPUT_PATH)\n",
    "\n",
    "# Display the column headers and basic information for the politician dataset\n",
    "print(\"\\n EPA AQI Memphis Column Headers:\")\n",
    "print(epa_aqi_df.columns)\n",
    "\n",
    "print(\"\\nEPA AQI Memphis - Basic Info:\")\n",
    "print(epa_aqi_df.info())\n",
    "\n",
    "print(\"\\nEPA AQI Memphis - First 5 Rows:\")\n",
    "print(epa_aqi_df.head())"
   ]
  },
  {
   "cell_type": "code",
   "execution_count": 20,
   "metadata": {},
   "outputs": [],
   "source": [
    "# Load the epa_aqi_df dataset\n",
    "epa_aqi_df = pd.read_csv(EPA_AQI_INPUT_PATH)\n",
    "\n",
    "# Extract year, month, and day from the 'local_date' column\n",
    "epa_aqi_df['year'] = epa_aqi_df['local_date'].astype(str).str[:4].astype(int)\n",
    "epa_aqi_df['month'] = epa_aqi_df['local_date'].astype(str).str[4:6].astype(int)\n",
    "epa_aqi_df['day'] = epa_aqi_df['local_date'].astype(str).str[6:8].astype(int)\n",
    "\n",
    "# Filter for dates within the fire season (May 1 to October 31)\n",
    "fire_season_aqi_df = epa_aqi_df[(epa_aqi_df['month'] >= 5) & (epa_aqi_df['month'] <= 10)]\n",
    "\n"
   ]
  },
  {
   "cell_type": "code",
   "execution_count": 21,
   "metadata": {},
   "outputs": [
    {
     "name": "stdout",
     "output_type": "stream",
     "text": [
      "\n",
      " fire_season_df Column Headers:\n",
      "Index(['site_code', 'site_name', 'pollutant_number', 'pollutant_name',\n",
      "       'local_date', 'aqi', 'year', 'month', 'day'],\n",
      "      dtype='object')\n",
      "\n",
      " fire_season_df - Basic Info:\n",
      "<class 'pandas.core.frame.DataFrame'>\n",
      "Index: 219467 entries, 78 to 407671\n",
      "Data columns (total 9 columns):\n",
      " #   Column            Non-Null Count   Dtype \n",
      "---  ------            --------------   ----- \n",
      " 0   site_code         219467 non-null  int64 \n",
      " 1   site_name         141990 non-null  object\n",
      " 2   pollutant_number  219467 non-null  int64 \n",
      " 3   pollutant_name    219467 non-null  object\n",
      " 4   local_date        219467 non-null  int64 \n",
      " 5   aqi               219467 non-null  int64 \n",
      " 6   year              219467 non-null  int64 \n",
      " 7   month             219467 non-null  int64 \n",
      " 8   day               219467 non-null  int64 \n",
      "dtypes: int64(7), object(2)\n",
      "memory usage: 16.7+ MB\n",
      "None\n",
      "\n",
      " fire_season_df - First 5 Rows:\n",
      "    site_code site_name  pollutant_number  pollutant_name  local_date  aqi  \\\n",
      "78         19       NaN             42401  Sulfur dioxide    19670505   29   \n",
      "79         19       NaN             42401  Sulfur dioxide    19670505   29   \n",
      "80         19       NaN             42401  Sulfur dioxide    19670506   29   \n",
      "81         19       NaN             42401  Sulfur dioxide    19670506   29   \n",
      "82         19       NaN             42401  Sulfur dioxide    19670507   29   \n",
      "\n",
      "    year  month  day  \n",
      "78  1967      5    5  \n",
      "79  1967      5    5  \n",
      "80  1967      5    6  \n",
      "81  1967      5    6  \n",
      "82  1967      5    7  \n"
     ]
    }
   ],
   "source": [
    "# Display the column headers and basic information for the politician dataset\n",
    "print(\"\\n fire_season_df Column Headers:\")\n",
    "print(fire_season_aqi_df.columns)\n",
    "\n",
    "print(\"\\n fire_season_df - Basic Info:\")\n",
    "print(fire_season_aqi_df.info())\n",
    "\n",
    "print(\"\\n fire_season_df - First 5 Rows:\")\n",
    "print(fire_season_aqi_df.head())"
   ]
  },
  {
   "cell_type": "code",
   "execution_count": 22,
   "metadata": {},
   "outputs": [],
   "source": [
    "fire_season_aqi_df.to_csv(AQI_PER_DAY_OUTPUT_PATH, index=False)"
   ]
  },
  {
   "cell_type": "code",
   "execution_count": 23,
   "metadata": {},
   "outputs": [],
   "source": [
    "# Group by 'year', 'site_code', 'site_name', 'pollutant_number', and 'pollutant_name' to get average AQI per fire season\n",
    "annual_fire_season_aqi_df = fire_season_aqi_df.groupby(\n",
    "    ['year', 'pollutant_number', 'pollutant_name'],\n",
    "    as_index=False\n",
    ")['aqi'].mean()\n",
    "\n",
    "# Rename for clarity\n",
    "annual_fire_season_aqi_df = annual_fire_season_aqi_df.rename(columns={'aqi': 'average_aqi_fire_season'})"
   ]
  },
  {
   "cell_type": "code",
   "execution_count": 24,
   "metadata": {},
   "outputs": [
    {
     "name": "stdout",
     "output_type": "stream",
     "text": [
      "\n",
      " EPA AQI Memphis PER YEAR Column Headers:\n",
      "Index(['year', 'pollutant_number', 'pollutant_name',\n",
      "       'average_aqi_fire_season'],\n",
      "      dtype='object')\n",
      "\n",
      "EPA AQI Memphis PER YEAR - Basic Info:\n",
      "<class 'pandas.core.frame.DataFrame'>\n",
      "RangeIndex: 267 entries, 0 to 266\n",
      "Data columns (total 4 columns):\n",
      " #   Column                   Non-Null Count  Dtype  \n",
      "---  ------                   --------------  -----  \n",
      " 0   year                     267 non-null    int64  \n",
      " 1   pollutant_number         267 non-null    int64  \n",
      " 2   pollutant_name           267 non-null    object \n",
      " 3   average_aqi_fire_season  267 non-null    float64\n",
      "dtypes: float64(1), int64(2), object(1)\n",
      "memory usage: 8.5+ KB\n",
      "None\n",
      "\n",
      "EPA AQI Memphis PER YEAR - First 5 Rows:\n",
      "   year  pollutant_number   pollutant_name  average_aqi_fire_season\n",
      "0  1967             42401   Sulfur dioxide                58.569767\n",
      "1  1968             42401   Sulfur dioxide                54.542857\n",
      "2  1969             42401   Sulfur dioxide                53.141414\n",
      "3  1970             42401   Sulfur dioxide                74.184932\n",
      "4  1971             42101  Carbon monoxide                39.266667\n"
     ]
    }
   ],
   "source": [
    "# Display the column headers and basic information for the politician dataset\n",
    "print(\"\\n EPA AQI Memphis PER YEAR Column Headers:\")\n",
    "print(annual_fire_season_aqi_df.columns)\n",
    "\n",
    "print(\"\\nEPA AQI Memphis PER YEAR - Basic Info:\")\n",
    "print(annual_fire_season_aqi_df.info())\n",
    "\n",
    "print(\"\\nEPA AQI Memphis PER YEAR - First 5 Rows:\")\n",
    "print(annual_fire_season_aqi_df.head())"
   ]
  },
  {
   "cell_type": "code",
   "execution_count": 25,
   "metadata": {},
   "outputs": [
    {
     "name": "stdout",
     "output_type": "stream",
     "text": [
      "Annual AQI summary has been saved to 'intermediate/stage1-output/epa_AQI_per_YEAR.csv'\n",
      "   year  pollutant_number   pollutant_name  average_aqi_fire_season\n",
      "0  1967             42401   Sulfur dioxide                58.569767\n",
      "1  1968             42401   Sulfur dioxide                54.542857\n",
      "2  1969             42401   Sulfur dioxide                53.141414\n",
      "3  1970             42401   Sulfur dioxide                74.184932\n",
      "4  1971             42101  Carbon monoxide                39.266667\n"
     ]
    }
   ],
   "source": [
    "annual_fire_season_aqi_df.to_csv(AQI_PER_YEAR_OUTPUT_PATH, index=False)\n",
    "\n",
    "print(f\"Annual AQI summary has been saved to '{AQI_PER_YEAR_OUTPUT_PATH}'\")\n",
    "print(annual_fire_season_aqi_df.head())"
   ]
  }
 ],
 "metadata": {
  "kernelspec": {
   "display_name": "512_proj",
   "language": "python",
   "name": "python3"
  },
  "language_info": {
   "codemirror_mode": {
    "name": "ipython",
    "version": 3
   },
   "file_extension": ".py",
   "mimetype": "text/x-python",
   "name": "python",
   "nbconvert_exporter": "python",
   "pygments_lexer": "ipython3",
   "version": "3.11.10"
  }
 },
 "nbformat": 4,
 "nbformat_minor": 2
}
