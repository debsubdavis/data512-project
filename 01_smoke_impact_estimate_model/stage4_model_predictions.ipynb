{
 "cells": [
  {
   "cell_type": "code",
   "execution_count": 1,
   "metadata": {},
   "outputs": [
    {
     "name": "stderr",
     "output_type": "stream",
     "text": [
      "/var/folders/js/_m5r698x29j4dvr0w18h6jdm0000gn/T/ipykernel_16403/3888494262.py:1: DeprecationWarning: \n",
      "Pyarrow will become a required dependency of pandas in the next major release of pandas (pandas 3.0),\n",
      "(to allow more performant data types, such as the Arrow string type, and better interoperability with other libraries)\n",
      "but was not found to be installed on your system.\n",
      "If this would cause problems for you,\n",
      "please provide us feedback at https://github.com/pandas-dev/pandas/issues/54466\n",
      "        \n",
      "  import pandas as pd\n"
     ]
    }
   ],
   "source": [
    "import pandas as pd\n",
    "import numpy as np\n",
    "import json\n",
    "import pickle\n",
    "import matplotlib.pyplot as plt"
   ]
  },
  {
   "cell_type": "code",
   "execution_count": 2,
   "metadata": {},
   "outputs": [],
   "source": [
    "with open('intermediate_file_paths.json') as output_path_file:\n",
    "    output_paths = json.load(output_path_file)\n",
    "\n",
    "SI_PER_FIRE_INPUT_PATH = output_paths.get('stage1_si_per_fire_csv')\n",
    "\n",
    "NORM_WT_FTRS_INPUT_PATH = output_paths.get('normalize_and_weight_features.csv')\n",
    "\n",
    "MODEL_INPUT_PATH = output_paths.get(\"model_output\")"
   ]
  },
  {
   "cell_type": "code",
   "execution_count": 3,
   "metadata": {},
   "outputs": [],
   "source": [
    "FUTURE_PREDS_OUTPUT_PATH = output_paths.get(\"smoke_impact_model_predictions.csv\")"
   ]
  },
  {
   "cell_type": "markdown",
   "metadata": {},
   "source": [
    "## Future Predictions for Fire Size and Distance from Memphis \n",
    "\n",
    "This code processes historical fire data to calculate a 5-year rolling average of total acres burned and average distance, which is used as the basis for future predictions from 2025 to 2050. For each 5-year interval, the most recent rolling average is applied, and then the new data is incorporated into the dataset to update the rolling average, simulating trends over time. The output provides year-by-year predictions that adjust every 5 years based on historical patterns."
   ]
  },
  {
   "cell_type": "code",
   "execution_count": 4,
   "metadata": {},
   "outputs": [
    {
     "name": "stdout",
     "output_type": "stream",
     "text": [
      "    year  predicted_total_acres_burned  predicted_avg_distance\n",
      "0   2021                  2.351687e+06              359.010931\n",
      "1   2022                  2.351687e+06              359.010931\n",
      "2   2023                  2.351687e+06              359.010931\n",
      "3   2024                  2.351687e+06              359.010931\n",
      "4   2025                  2.351687e+06              359.010931\n",
      "5   2026                  2.061966e+06              357.712907\n",
      "6   2027                  2.061966e+06              357.712907\n",
      "7   2028                  2.061966e+06              357.712907\n",
      "8   2029                  2.061966e+06              357.712907\n",
      "9   2030                  2.061966e+06              357.712907\n",
      "10  2031                  1.700817e+06              358.135215\n",
      "11  2032                  1.700817e+06              358.135215\n",
      "12  2033                  1.700817e+06              358.135215\n",
      "13  2034                  1.700817e+06              358.135215\n",
      "14  2035                  1.700817e+06              358.135215\n",
      "15  2036                  1.550318e+06              358.190965\n",
      "16  2037                  1.550318e+06              358.190965\n",
      "17  2038                  1.550318e+06              358.190965\n",
      "18  2039                  1.550318e+06              358.190965\n",
      "19  2040                  1.550318e+06              358.190965\n",
      "20  2041                  1.688948e+06              357.600618\n",
      "21  2042                  1.688948e+06              357.600618\n",
      "22  2043                  1.688948e+06              357.600618\n",
      "23  2044                  1.688948e+06              357.600618\n",
      "24  2045                  1.688948e+06              357.600618\n",
      "25  2046                  1.870747e+06              358.130127\n",
      "26  2047                  1.870747e+06              358.130127\n",
      "27  2048                  1.870747e+06              358.130127\n",
      "28  2049                  1.870747e+06              358.130127\n",
      "29  2050                  1.870747e+06              358.130127\n"
     ]
    }
   ],
   "source": [
    "fire_data = pd.read_csv(SI_PER_FIRE_INPUT_PATH)\n",
    "\n",
    "# Group by year and calculate sums and averages for fire size and distance\n",
    "yearly_fire_data = fire_data.groupby('fire_year').agg(\n",
    "    total_acres_burned_sum=('total_acres_burned', 'sum'),\n",
    "    avg_distance=('distance', 'mean')\n",
    ").reset_index()\n",
    "\n",
    "# Sort by year for chronological order\n",
    "yearly_fire_data = yearly_fire_data.sort_values(by='fire_year')\n",
    "\n",
    "# Calculate a 5-year moving average for fire size and distance\n",
    "yearly_fire_data['5yr_avg_acres'] = yearly_fire_data['total_acres_burned_sum'].rolling(window=5, min_periods=1).mean()\n",
    "yearly_fire_data['5yr_avg_distance'] = yearly_fire_data['avg_distance'].rolling(window=5, min_periods=1).mean()\n",
    "\n",
    "# Initialize a DataFrame to hold predictions for each year from 2021 to 2050\n",
    "future_years = range(2021, 2051)\n",
    "future_predictions = pd.DataFrame({\n",
    "    'year': future_years,\n",
    "    'predicted_total_acres_burned': np.nan,\n",
    "    'predicted_avg_distance': np.nan\n",
    "})\n",
    "\n",
    "# Copy historical data into a temporary DataFrame to simulate adding future data\n",
    "temp_data = yearly_fire_data.copy()\n",
    "\n",
    "# Set the 5-year recalculation cycle\n",
    "cycle_length = 5\n",
    "\n",
    "# Loop through each year in the forecast period, applying 5-year recalculations\n",
    "for i, year in enumerate(future_years):\n",
    "    # Assign predictions for this year based on the latest 5-year average\n",
    "    future_predictions.loc[i, 'predicted_total_acres_burned'] = temp_data['5yr_avg_acres'].iloc[-1]\n",
    "    future_predictions.loc[i, 'predicted_avg_distance'] = temp_data['5yr_avg_distance'].iloc[-1]\n",
    "\n",
    "    # Every 5 years, update rolling averages using the latest values\n",
    "    if (i + 1) % cycle_length == 0:\n",
    "        # Create a new row for the latest predictions as \"historical\" data\n",
    "        new_row = pd.DataFrame({\n",
    "            'fire_year': [year],\n",
    "            'total_acres_burned_sum': [future_predictions.loc[i, 'predicted_total_acres_burned']],\n",
    "            'avg_distance': [future_predictions.loc[i, 'predicted_avg_distance']]\n",
    "        })\n",
    "        \n",
    "        # Concatenate the new row to `temp_data`\n",
    "        temp_data = pd.concat([temp_data, new_row], ignore_index=True)\n",
    "\n",
    "        # Recalculate the 5-year rolling averages on the updated data\n",
    "        temp_data['5yr_avg_acres'] = temp_data['total_acres_burned_sum'].rolling(window=5, min_periods=1).mean()\n",
    "        temp_data['5yr_avg_distance'] = temp_data['avg_distance'].rolling(window=5, min_periods=1).mean()\n",
    "\n",
    "# Display the updated predictions with 5-year interval adjustments\n",
    "print(future_predictions)\n"
   ]
  },
  {
   "cell_type": "markdown",
   "metadata": {},
   "source": [
    "## Future Predictions for Scaled Average Daily Smoke Impact"
   ]
  },
  {
   "cell_type": "markdown",
   "metadata": {},
   "source": [
    "### Load the Model"
   ]
  },
  {
   "cell_type": "code",
   "execution_count": 5,
   "metadata": {},
   "outputs": [],
   "source": [
    "# Load the trained Gradient Boosting model\n",
    "with open(MODEL_INPUT_PATH, 'rb') as model_file:\n",
    "    model = pickle.load(model_file)"
   ]
  },
  {
   "cell_type": "markdown",
   "metadata": {},
   "source": [
    "### Normalize and Weight Future Data"
   ]
  },
  {
   "cell_type": "code",
   "execution_count": 6,
   "metadata": {},
   "outputs": [
    {
     "name": "stdout",
     "output_type": "stream",
     "text": [
      "max_acres_burned: 4859569.981645179, acres_weight: 1.0, dist_weight: 1.0\n"
     ]
    }
   ],
   "source": [
    "# Read the CSV file\n",
    "df = pd.read_csv(NORM_WT_FTRS_INPUT_PATH)\n",
    "\n",
    "\n",
    "# Set the variables from the DataFrame values\n",
    "acres_weight = df.at[0, \"acres_weight\"]\n",
    "dist_weight = df.at[0, \"dist_weight\"]\n",
    "max_acres_burned = df.at[0, \"max_total_acres_burned\"]\n",
    "\n",
    "# Convert to the appropriate data type if needed\n",
    "acres_weight = float(acres_weight)\n",
    "dist_weight = float(dist_weight)\n",
    "max_acres_burned = float(max_acres_burned)\n",
    "\n",
    "\n",
    "print(f'max_acres_burned: {max_acres_burned}, acres_weight: {acres_weight}, dist_weight: {dist_weight}')\n",
    "\n",
    "max_distance = 650 \n",
    "\n",
    "# Normalize and rename the future prediction features\n",
    "future_predictions['total_acres_burned_normalized'] = future_predictions['predicted_total_acres_burned'] / max_acres_burned\n",
    "\n",
    "future_predictions['distance_normalized'] = future_predictions['predicted_avg_distance'] / max_distance\n",
    "\n",
    "future_predictions['total_acres_burned_weighted'] = future_predictions['total_acres_burned_normalized'] * acres_weight\n",
    "future_predictions['distance_weighted'] = future_predictions['distance_normalized'] * dist_weight\n"
   ]
  },
  {
   "cell_type": "markdown",
   "metadata": {},
   "source": [
    "### Make the model predictions"
   ]
  },
  {
   "cell_type": "code",
   "execution_count": 7,
   "metadata": {},
   "outputs": [
    {
     "name": "stdout",
     "output_type": "stream",
     "text": [
      "    year  predicted_total_acres_burned  predicted_avg_distance  \\\n",
      "0   2021                  2.351687e+06              359.010931   \n",
      "1   2022                  2.351687e+06              359.010931   \n",
      "2   2023                  2.351687e+06              359.010931   \n",
      "3   2024                  2.351687e+06              359.010931   \n",
      "4   2025                  2.351687e+06              359.010931   \n",
      "5   2026                  2.061966e+06              357.712907   \n",
      "6   2027                  2.061966e+06              357.712907   \n",
      "7   2028                  2.061966e+06              357.712907   \n",
      "8   2029                  2.061966e+06              357.712907   \n",
      "9   2030                  2.061966e+06              357.712907   \n",
      "10  2031                  1.700817e+06              358.135215   \n",
      "11  2032                  1.700817e+06              358.135215   \n",
      "12  2033                  1.700817e+06              358.135215   \n",
      "13  2034                  1.700817e+06              358.135215   \n",
      "14  2035                  1.700817e+06              358.135215   \n",
      "15  2036                  1.550318e+06              358.190965   \n",
      "16  2037                  1.550318e+06              358.190965   \n",
      "17  2038                  1.550318e+06              358.190965   \n",
      "18  2039                  1.550318e+06              358.190965   \n",
      "19  2040                  1.550318e+06              358.190965   \n",
      "20  2041                  1.688948e+06              357.600618   \n",
      "21  2042                  1.688948e+06              357.600618   \n",
      "22  2043                  1.688948e+06              357.600618   \n",
      "23  2044                  1.688948e+06              357.600618   \n",
      "24  2045                  1.688948e+06              357.600618   \n",
      "25  2046                  1.870747e+06              358.130127   \n",
      "26  2047                  1.870747e+06              358.130127   \n",
      "27  2048                  1.870747e+06              358.130127   \n",
      "28  2049                  1.870747e+06              358.130127   \n",
      "29  2050                  1.870747e+06              358.130127   \n",
      "\n",
      "    predicted_smoke_impact  \n",
      "0                34.902199  \n",
      "1                34.902199  \n",
      "2                34.902199  \n",
      "3                34.902199  \n",
      "4                34.902199  \n",
      "5                31.836861  \n",
      "6                31.836861  \n",
      "7                31.836861  \n",
      "8                31.836861  \n",
      "9                31.836861  \n",
      "10               31.836861  \n",
      "11               31.836861  \n",
      "12               31.836861  \n",
      "13               31.836861  \n",
      "14               31.836861  \n",
      "15               31.836861  \n",
      "16               31.836861  \n",
      "17               31.836861  \n",
      "18               31.836861  \n",
      "19               31.836861  \n",
      "20               31.836861  \n",
      "21               31.836861  \n",
      "22               31.836861  \n",
      "23               31.836861  \n",
      "24               31.836861  \n",
      "25               31.836861  \n",
      "26               31.836861  \n",
      "27               31.836861  \n",
      "28               31.836861  \n",
      "29               31.836861  \n"
     ]
    }
   ],
   "source": [
    "# Prepare future prediction data for smoke impact\n",
    "X_future = future_predictions[['total_acres_burned_weighted', 'distance_weighted']]\n",
    "\n",
    "# Predict smoke impact for each year using the model\n",
    "future_predictions['predicted_smoke_impact'] = model.predict(X_future)\n",
    "\n",
    "# Display the predictions for smoke impact from 2025 to 2050\n",
    "print(future_predictions[['year', 'predicted_total_acres_burned', 'predicted_avg_distance', 'predicted_smoke_impact']])"
   ]
  },
  {
   "cell_type": "code",
   "execution_count": 8,
   "metadata": {},
   "outputs": [
    {
     "name": "stdout",
     "output_type": "stream",
     "text": [
      "Future smoke impact predictions saved to final-output/smoke_impact_estimate_mdl_future_prediction.csv\n"
     ]
    }
   ],
   "source": [
    "future_predictions.to_csv(FUTURE_PREDS_OUTPUT_PATH, index=False)\n",
    "\n",
    "print(f\"Future smoke impact predictions saved to {FUTURE_PREDS_OUTPUT_PATH}\")"
   ]
  },
  {
   "cell_type": "markdown",
   "metadata": {},
   "source": [
    "## Prediction Graph"
   ]
  },
  {
   "cell_type": "code",
   "execution_count": 9,
   "metadata": {},
   "outputs": [
    {
     "data": {
      "image/png": "[encoded data removed]",
      "text/plain": [
       "<Figure size 1000x600 with 1 Axes>"
      ]
     },
     "metadata": {},
     "output_type": "display_data"
    }
   ],
   "source": [
    "# Plot predicted smoke impact\n",
    "plt.figure(figsize=(10, 6))\n",
    "plt.plot(future_predictions['year'], future_predictions['predicted_smoke_impact'], label='Predicted Smoke Impact', linestyle='-', marker='o')\n",
    "\n",
    "# Add titles and labels\n",
    "plt.title('Predicted Smoke Impact from 2025 to 2050')\n",
    "plt.xlabel('Year')\n",
    "plt.ylabel('Predicted Smoke Impact')\n",
    "plt.ylim(0, 40)  # Set y-axis to start at 0\n",
    "plt.grid(True)\n",
    "\n",
    "# Display the plot\n",
    "plt.show()\n"
   ]
  }
 ],
 "metadata": {
  "kernelspec": {
   "display_name": "512_proj",
   "language": "python",
   "name": "python3"
  },
  "language_info": {
   "codemirror_mode": {
    "name": "ipython",
    "version": 3
   },
   "file_extension": ".py",
   "mimetype": "text/x-python",
   "name": "python",
   "nbconvert_exporter": "python",
   "pygments_lexer": "ipython3",
   "version": "3.11.10"
  }
 },
 "nbformat": 4,
 "nbformat_minor": 2
}
