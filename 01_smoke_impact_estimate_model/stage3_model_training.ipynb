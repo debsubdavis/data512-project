{
 "cells": [
  {
   "cell_type": "markdown",
   "metadata": {},
   "source": [
    "## Acknowledgement\n",
    "\n",
    "Utilized chatGPT 4o-canvas for assistance with selecting the best model type after initial r2 and MSE values were extremlely bad using linear regression. Here is the prompt I used: any suggestions for changes to improve the accuracy of the model?\n",
    "\n",
    "Response Summary: Summary:\n",
    "Your current model (linear regression) might be too simplistic to capture the complexities of fire smoke impact. Adding more features, trying non-linear models, and ensuring proper handling of data quality are crucial steps to improve accuracy. Specifically, Random Forest or Gradient Boosting are likely the next best options for capturing non-linear relationships and interactions between the variables.\n",
    "\n",
    "From there, continued working through different prompts. But ultimately chose to go with chatGPT's suggestion of GradientBoost model, removing outliers, k-fold cross-validation, and bootstrapping"
   ]
  },
  {
   "cell_type": "code",
   "execution_count": 25,
   "metadata": {},
   "outputs": [],
   "source": [
    "import json\n",
    "import pandas as pd\n",
    "import matplotlib.pyplot as plt\n",
    "import numpy as np\n",
    "from sklearn.ensemble import GradientBoostingRegressor\n",
    "import pickle\n",
    "from sklearn.model_selection import train_test_split, KFold, cross_val_score, GridSearchCV\n",
    "from sklearn.utils import resample"
   ]
  },
  {
   "cell_type": "code",
   "execution_count": 26,
   "metadata": {},
   "outputs": [],
   "source": [
    "with open('intermediate_file_paths.json') as output_path_file:\n",
    "    output_paths = json.load(output_path_file)\n",
    "\n",
    "SI_PER_FIRE_INPUT_PATH = output_paths.get('stage1_si_per_fire_csv')\n",
    "SCALED_SI_PER_YEAR_INPUT_PATH = output_paths.get('stage2_scaled_si_per_year_csv')\n",
    "\n",
    "NORM_WT_FTRS_OUTPUT_PATH = output_paths.get('normalize_and_weight_features.csv')\n",
    "\n",
    "MODEL_OUTPUT_PATH = output_paths.get(\"model_output\")\n",
    "\n",
    "# Load dataset\n",
    "yearly_smoke_impact_df = pd.read_csv(SCALED_SI_PER_YEAR_INPUT_PATH)\n",
    "si_per_fire_df = pd.read_csv(SI_PER_FIRE_INPUT_PATH)"
   ]
  },
  {
   "cell_type": "markdown",
   "metadata": {},
   "source": [
    "## Data Processing"
   ]
  },
  {
   "cell_type": "code",
   "execution_count": 27,
   "metadata": {},
   "outputs": [
    {
     "name": "stdout",
     "output_type": "stream",
     "text": [
      "Years with NaN values: [2021]\n"
     ]
    }
   ],
   "source": [
    "# Calculate the average distance per year\n",
    "avg_dist_df = si_per_fire_df.groupby('fire_year').agg(\n",
    "    avg_dist_from_city=('distance', 'mean')\n",
    ").reset_index()\n",
    "\n",
    "# Filter data to include only years after 1984\n",
    "yearly_smoke_impact_filtered_df = yearly_smoke_impact_df[yearly_smoke_impact_df['year'] > 1984]\n",
    "filtered_avg_dist_df = avg_dist_df[avg_dist_df['fire_year'] > 1984]\n",
    "\n",
    "# Prepare data for prediction using original data (without moving average)\n",
    "combined_df = yearly_smoke_impact_filtered_df[['scaled_avg_daily_smoke_impact', 'year', 'total_acres_burned']].merge(\n",
    "    filtered_avg_dist_df[['fire_year', 'avg_dist_from_city']],\n",
    "    left_on='year', right_on='fire_year', how='left'\n",
    ")\n",
    "\n",
    "# Identify which years have NaN values\n",
    "na_years = combined_df[combined_df.isna().any(axis=1)]['year'].unique()\n",
    "print(f\"Years with NaN values: {na_years}\")\n",
    "\n",
    "# Remove rows with NaN values in features or labels\n",
    "combined_df = combined_df.dropna()"
   ]
  },
  {
   "cell_type": "markdown",
   "metadata": {},
   "source": [
    "### Remove Outliers"
   ]
  },
  {
   "cell_type": "code",
   "execution_count": 28,
   "metadata": {},
   "outputs": [
    {
     "name": "stdout",
     "output_type": "stream",
     "text": [
      "Max of scaled_avg_daily_smoke_impact before filtering outliers:\n",
      "52.782934279853016\n",
      "Q1: 16.74033345730031, Q3: 34.60592853216895, IQR: 17.865595074868644\n",
      "Max of scaled_avg_daily_smoke_impact after filtering outliers:\n",
      "41.381605819145946\n"
     ]
    }
   ],
   "source": [
    "print(\"Max of scaled_avg_daily_smoke_impact before filtering outliers:\")\n",
    "print(combined_df['scaled_avg_daily_smoke_impact'].max())\n",
    "\n",
    "# Remove outliers using Interquartile Range (IQR) method\n",
    "Q1 = combined_df['scaled_avg_daily_smoke_impact'].quantile(0.25)\n",
    "Q3 = combined_df['scaled_avg_daily_smoke_impact'].quantile(0.75)\n",
    "IQR = Q3 - Q1\n",
    "\n",
    "print(f'Q1: {Q1}, Q3: {Q3}, IQR: {IQR}')\n",
    "combined_df = combined_df[(combined_df['scaled_avg_daily_smoke_impact'] >= (Q1 - 0.5 * IQR)) & \n",
    "                          (combined_df['scaled_avg_daily_smoke_impact'] <= (Q3 + 0.5 * IQR))]\n",
    "\n",
    "print(\"Max of scaled_avg_daily_smoke_impact after filtering outliers:\")\n",
    "print(combined_df['scaled_avg_daily_smoke_impact'].max())\n",
    "\n",
    "# Check if there are enough samples left after filtering\n",
    "if combined_df.shape[0] == 0:\n",
    "    raise ValueError(\"No samples left after filtering for outliers and NaN values. Consider relaxing the filtering criteria.\")"
   ]
  },
  {
   "cell_type": "markdown",
   "metadata": {},
   "source": [
    "### Normalize & Apply Weights"
   ]
  },
  {
   "cell_type": "code",
   "execution_count": 29,
   "metadata": {},
   "outputs": [
    {
     "name": "stdout",
     "output_type": "stream",
     "text": [
      "\n",
      "Before applying weights:\n",
      "   total_acres_burned_normalized  distance_normalized\n",
      "0                       0.030576             0.687161\n",
      "3                       0.075037             0.616994\n",
      "4                       0.019671             0.603956\n",
      "5                       0.016044             0.534834\n",
      "7                       0.013818             0.588911\n",
      "\n",
      "After applying weights:\n",
      "   total_acres_burned_weighted  distance_weighted\n",
      "0                     0.030576           0.687161\n",
      "3                     0.075037           0.616994\n",
      "4                     0.019671           0.603956\n",
      "5                     0.016044           0.534834\n",
      "7                     0.013818           0.588911\n"
     ]
    }
   ],
   "source": [
    "# Define weights for 'total_acres_burned' and 'distance'\n",
    "acres_weight = 1\n",
    "dist_weight = 1\n",
    "\n",
    "max_total_acres_burned_for_normalization = combined_df['total_acres_burned'].max()\n",
    "\n",
    "# Create a DataFrame\n",
    "df = pd.DataFrame({\n",
    "    \"acres_weight\": [acres_weight],\n",
    "    \"dist_weight\": [dist_weight],\n",
    "    \"max_total_acres_burned\": [max_total_acres_burned_for_normalization]\n",
    "})\n",
    "\n",
    "# Save the DataFrame to a CSV file\n",
    "df.to_csv(NORM_WT_FTRS_OUTPUT_PATH, index=False)\n",
    "\n",
    "# Normalize total acres burned and distance\n",
    "combined_df['total_acres_burned_normalized'] = combined_df['total_acres_burned'] / max_total_acres_burned_for_normalization\n",
    "combined_df['distance_normalized'] = combined_df['avg_dist_from_city'] / 650\n",
    "\n",
    "# Print before applying weights\n",
    "print(\"\\nBefore applying weights:\")\n",
    "print(combined_df[['total_acres_burned_normalized', 'distance_normalized']].head())\n",
    "\n",
    "combined_df['total_acres_burned_weighted'] = combined_df['total_acres_burned_normalized'] * acres_weight\n",
    "combined_df['distance_weighted'] = combined_df['distance_normalized'] * dist_weight\n",
    "\n",
    "# Print after applying weights\n",
    "print(\"\\nAfter applying weights:\")\n",
    "print(combined_df[['total_acres_burned_weighted', 'distance_weighted']].head())"
   ]
  },
  {
   "cell_type": "markdown",
   "metadata": {},
   "source": [
    "### Prepare Data for Model Training"
   ]
  },
  {
   "cell_type": "code",
   "execution_count": 30,
   "metadata": {},
   "outputs": [
    {
     "name": "stdout",
     "output_type": "stream",
     "text": [
      "\n",
      "Features used for training:\n",
      "   total_acres_burned_weighted  distance_weighted\n",
      "0                     0.030576           0.687161\n",
      "3                     0.075037           0.616994\n",
      "4                     0.019671           0.603956\n",
      "5                     0.016044           0.534834\n",
      "7                     0.013818           0.588911\n"
     ]
    }
   ],
   "source": [
    "# Prepare the features and target variable\n",
    "features = combined_df[['total_acres_burned_weighted', 'distance_weighted']]\n",
    "labels = combined_df['scaled_avg_daily_smoke_impact'].values\n",
    "\n",
    "# Print a few rows of features to verify\n",
    "print(\"\\nFeatures used for training:\")\n",
    "print(features.head())"
   ]
  },
  {
   "cell_type": "markdown",
   "metadata": {},
   "source": [
    "### Model Training"
   ]
  },
  {
   "cell_type": "code",
   "execution_count": 31,
   "metadata": {},
   "outputs": [
    {
     "name": "stdout",
     "output_type": "stream",
     "text": [
      "\n",
      "Best Bootstrapped Cross-Validation Mean Squared Error (MSE): 10.462965631599197\n",
      "Bootstrapped Cross-Validation Average MSE across iterations: 10.462965631599195\n",
      "Bootstrapped Cross-Validation Average R-squared (R2) across iterations: 0.8838538370019132\n"
     ]
    }
   ],
   "source": [
    "\n",
    "# Split the data into training and testing sets\n",
    "X_train, X_test, y_train, y_test = train_test_split(features, labels, test_size=0.4, random_state=42)\n",
    "\n",
    "# Define Gradient Boosting Regressor\n",
    "# model = GradientBoostingRegressor(random_state=42)\n",
    "\n",
    "# Define hyperparameter grid for Grid Search\n",
    "param_grid = {\n",
    "    'n_estimators': [50, 100, 150],\n",
    "    'learning_rate': [0.01, 0.05, 0.1],\n",
    "    'max_depth': [2, 3, 4],\n",
    "    'min_samples_split': [2, 5],\n",
    "    'min_samples_leaf': [1, 2]\n",
    "}\n",
    "\n",
    "# Grid Search with Cross-Validation\n",
    "# grid_search = GridSearchCV(model, param_grid, cv=3, scoring='neg_mean_squared_error', n_jobs=-1)\n",
    "# grid_search.fit(X_train, y_train)\n",
    "\n",
    "# # Best estimator from Grid Search\n",
    "# model = grid_search.best_estimator_\n",
    "\n",
    "# Initialize variables to keep track of the best model and score\n",
    "best_model = None\n",
    "best_mse_score = float(\"inf\")\n",
    "\n",
    "# Bootstrapping with a fixed random seed for consistency\n",
    "bootstrap_iterations = 100\n",
    "bootstrap_mse_scores = []\n",
    "bootstrap_r2_scores = []\n",
    "\n",
    "random_state = 42\n",
    "\n",
    "kf = KFold(n_splits=3, shuffle=True, random_state=random_state)\n",
    "\n",
    "for _ in range(bootstrap_iterations):\n",
    "    # Resample the data to create new bootstrap samples\n",
    "    X_resampled, y_resampled = resample(features, labels, random_state=random_state)\n",
    "    \n",
    "    # Convert to numpy arrays if they are DataFrames or Series\n",
    "    if isinstance(X_resampled, pd.DataFrame):\n",
    "        X_resampled = X_resampled.to_numpy()\n",
    "    if isinstance(y_resampled, pd.Series):\n",
    "        y_resampled = y_resampled.to_numpy()\n",
    "    \n",
    "    mse_scores = []\n",
    "    r2_scores = []\n",
    "    \n",
    "    # Cross-validation with a fresh model for each fold\n",
    "    for train_index, test_index in kf.split(X_resampled):\n",
    "        X_train_fold, X_test_fold = X_resampled[train_index], X_resampled[test_index]\n",
    "        y_train_fold, y_test_fold = y_resampled[train_index], y_resampled[test_index]\n",
    "        \n",
    "        # Create a new instance of the model\n",
    "        model = GradientBoostingRegressor(random_state=42)\n",
    "\n",
    "        # Perform Grid Search to get the best estimator\n",
    "        grid_search = GridSearchCV(model, param_grid, cv=3, scoring='neg_mean_squared_error', n_jobs=-1)\n",
    "        grid_search.fit(X_train_fold, y_train_fold)\n",
    "        model = grid_search.best_estimator_\n",
    "        \n",
    "        # Calculate scores on the current fold's test data\n",
    "        y_pred_fold = model.predict(X_test_fold)\n",
    "        fold_mse = np.mean((y_test_fold - y_pred_fold) ** 2)\n",
    "        mse_scores.append(fold_mse)\n",
    "        r2_scores.append(model.score(X_test_fold, y_test_fold))\n",
    "    \n",
    "    # Store the mean MSE and R2 for this bootstrap iteration\n",
    "    mean_mse = np.mean(mse_scores)\n",
    "    mean_r2 = np.mean(r2_scores)\n",
    "    bootstrap_mse_scores.append(mean_mse)\n",
    "    bootstrap_r2_scores.append(mean_r2)\n",
    "    \n",
    "    # Update best model if the current one has the lowest mean MSE\n",
    "    if mean_mse < best_mse_score:\n",
    "        best_mse_score = mean_mse\n",
    "        best_model = model\n",
    "\n",
    "# Output results\n",
    "print(f\"\\nBest Bootstrapped Cross-Validation Mean Squared Error (MSE): {best_mse_score}\")\n",
    "print(f\"Bootstrapped Cross-Validation Average MSE across iterations: {np.mean(bootstrap_mse_scores)}\")\n",
    "print(f\"Bootstrapped Cross-Validation Average R-squared (R2) across iterations: {np.mean(bootstrap_r2_scores)}\")\n",
    "\n",
    "# Save the best model to a file using pickle\n",
    "with open(MODEL_OUTPUT_PATH, 'wb') as model_file:\n",
    "    pickle.dump(best_model, model_file)"
   ]
  },
  {
   "cell_type": "code",
   "execution_count": 32,
   "metadata": {},
   "outputs": [
    {
     "name": "stderr",
     "output_type": "stream",
     "text": [
      "/Users/debbiesubocz/anaconda3/envs/512_proj/lib/python3.11/site-packages/sklearn/base.py:486: UserWarning: X has feature names, but GradientBoostingRegressor was fitted without feature names\n",
      "  warnings.warn(\n"
     ]
    },
    {
     "data": {
      "image/png": "[encoded data removed]",
      "text/plain": [
       "<Figure size 1000x600 with 1 Axes>"
      ]
     },
     "metadata": {},
     "output_type": "display_data"
    }
   ],
   "source": [
    "# Predict smoke estimates for the test set with the best model\n",
    "y_pred = best_model.predict(X_test)\n",
    "\n",
    "# Plot residuals\n",
    "residuals = y_test - y_pred\n",
    "plt.figure(figsize=(10, 6))\n",
    "plt.scatter(y_pred, residuals, color='blue', edgecolors='k', alpha=0.7)\n",
    "plt.axhline(y=0, color='k', linestyle='--', lw=2)\n",
    "plt.xlabel('Predicted Smoke Impact')\n",
    "plt.ylabel('Residuals')\n",
    "plt.title('Residuals vs Predicted Smoke Impact')\n",
    "plt.grid(True)\n",
    "plt.show()"
   ]
  },
  {
   "cell_type": "code",
   "execution_count": null,
   "metadata": {},
   "outputs": [],
   "source": [
    "# %%\n",
    "# Plot histogram of all R² scores with a red line for the average\n",
    "plt.figure(figsize=(10, 6))\n",
    "plt.hist(bootstrap_r2_scores, bins=20, edgecolor='k', alpha=0.7, label='R² Scores')\n",
    "avg_r2 = np.mean(bootstrap_r2_scores)\n",
    "plt.axvline(avg_r2, color='red', linestyle='--', linewidth=2, label=f'Average R² = {avg_r2:.4f}')\n",
    "plt.title('Distribution of R² Scores from Bootstrapping', fontsize=16)\n",
    "plt.xlabel('R² Score', fontsize=14)\n",
    "plt.ylabel('Frequency', fontsize=14)\n",
    "plt.legend(fontsize=12)\n",
    "plt.grid(True)\n",
    "plt.show()"
   ]
  },
  {
   "cell_type": "code",
   "execution_count": null,
   "metadata": {},
   "outputs": [],
   "source": [
    "# Plot histogram of all MSE values with a red line for the average\n",
    "plt.figure(figsize=(10, 6))\n",
    "plt.hist(bootstrap_mse_scores, bins=20, edgecolor='k', alpha=0.7, label='MSE Values')\n",
    "avg_mse = np.mean(bootstrap_mse_scores)\n",
    "plt.axvline(avg_mse, color='red', linestyle='--', linewidth=2, label=f'Average MSE = {avg_mse:.4f}')\n",
    "plt.title('Distribution of MSE Values from Bootstrapping', fontsize=16)\n",
    "plt.xlabel('Mean Squared Error (MSE)', fontsize=14)\n",
    "plt.ylabel('Frequency', fontsize=14)\n",
    "plt.legend(fontsize=12)\n",
    "plt.grid(True)\n",
    "plt.show()"
   ]
  },
  {
   "cell_type": "code",
   "execution_count": null,
   "metadata": {},
   "outputs": [],
   "source": []
  }
 ],
 "metadata": {
  "kernelspec": {
   "display_name": "512_proj",
   "language": "python",
   "name": "python3"
  },
  "language_info": {
   "codemirror_mode": {
    "name": "ipython",
    "version": 3
   },
   "file_extension": ".py",
   "mimetype": "text/x-python",
   "name": "python",
   "nbconvert_exporter": "python",
   "pygments_lexer": "ipython3",
   "version": "3.11.10"
  }
 },
 "nbformat": 4,
 "nbformat_minor": 2
}
